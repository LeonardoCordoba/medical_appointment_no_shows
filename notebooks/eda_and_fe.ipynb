{
 "cells": [
  {
   "cell_type": "markdown",
   "metadata": {},
   "source": [
    "## Notebook N. 1\n",
    "\n",
    "Exploratory Data Analysis and initial Feature Engineering"
   ]
  },
  {
   "cell_type": "code",
   "execution_count": null,
   "metadata": {
    "collapsed": true
   },
   "outputs": [],
   "source": [
    "import pandas as pd\n",
    "import numpy as np"
   ]
  },
  {
   "cell_type": "code",
   "execution_count": null,
   "metadata": {
    "collapsed": true
   },
   "outputs": [],
   "source": [
    "df = pd.read_csv(\"../data/Medical Appointments.csv\")"
   ]
  },
  {
   "cell_type": "markdown",
   "metadata": {},
   "source": [
    "### Description\n",
    "\n",
    "PatientId: unique patient ID\n",
    "\n",
    "AppointmentID: unique appointment ID\n",
    "\n",
    "Gender: patient’s gender\n",
    "\n",
    "ScheduledDay: when the appointment was scheduled\n",
    "\n",
    "AppointmentDay: date of the appointment\n",
    "\n",
    "Age: patient’s age\n",
    "\n",
    "Neighbourhood: patient’s neighbourhood (in Brazil)\n",
    "\n",
    "Scholarship: whether the patient benefited from social welfare to pay for the appointment\n",
    "\n",
    "Hipertension: whether the patient has hypertension\n",
    "\n",
    "Diabetes: whether the patient has diabetes\n",
    "\n",
    "Alcoholism: whether the patient is an alcoholic\n",
    "\n",
    "Handcap: whether the patient is handicapped\n",
    "\n",
    "SMS_received: whether the patient received a reminder by text message\n",
    "\n",
    "No-show: whether they actually showed up to the appointment"
   ]
  },
  {
   "cell_type": "code",
   "execution_count": null,
   "metadata": {},
   "outputs": [],
   "source": [
    "df.head()"
   ]
  },
  {
   "cell_type": "markdown",
   "metadata": {},
   "source": [
    "There are no null cases"
   ]
  },
  {
   "cell_type": "code",
   "execution_count": null,
   "metadata": {},
   "outputs": [],
   "source": [
    "df.info()"
   ]
  },
  {
   "cell_type": "code",
   "execution_count": null,
   "metadata": {},
   "outputs": [],
   "source": [
    "import pandas_profiling as pp\n",
    "pp.ProfileReport(df)"
   ]
  },
  {
   "cell_type": "markdown",
   "metadata": {},
   "source": [
    "Using pandas_profiling we can conclude that:\n",
    "    - There are no missing values\n",
    "    - Age has a minimum value of -1 and a maximum of 115. The most frequent value is 0.\n",
    "    - Handcap has 5 different values, but must of them are 0 or 1.\n",
    "    - Neighbourhood has 81 different values.\n",
    "    - The positive class is 20,2%.\n",
    "    "
   ]
  },
  {
   "cell_type": "markdown",
   "metadata": {},
   "source": [
    "## Change dtype of variables"
   ]
  },
  {
   "cell_type": "code",
   "execution_count": null,
   "metadata": {
    "collapsed": true
   },
   "outputs": [],
   "source": [
    "df[\"AppointmentDay\"] = pd.to_datetime(df[\"AppointmentDay\"])"
   ]
  },
  {
   "cell_type": "code",
   "execution_count": null,
   "metadata": {
    "collapsed": true
   },
   "outputs": [],
   "source": [
    "df[\"Gender\"] = df[\"Gender\"].replace({\"F\":0,\"M\":1})"
   ]
  },
  {
   "cell_type": "code",
   "execution_count": null,
   "metadata": {
    "collapsed": true
   },
   "outputs": [],
   "source": [
    "df[\"No-show\"] = df[\"No-show\"].replace({\"No\":0,\"Yes\":1})"
   ]
  },
  {
   "cell_type": "code",
   "execution_count": null,
   "metadata": {
    "collapsed": true
   },
   "outputs": [],
   "source": [
    "df[\"ScheduledDay\"] = pd.to_datetime(df[\"ScheduledDay\"])"
   ]
  },
  {
   "cell_type": "markdown",
   "metadata": {},
   "source": [
    "## Generate new columns"
   ]
  },
  {
   "cell_type": "code",
   "execution_count": null,
   "metadata": {},
   "outputs": [],
   "source": [
    "df.head()"
   ]
  },
  {
   "cell_type": "markdown",
   "metadata": {},
   "source": [
    "#### Generate time related variables"
   ]
  },
  {
   "cell_type": "markdown",
   "metadata": {},
   "source": [
    "Time difference between appointment and schedule"
   ]
  },
  {
   "cell_type": "code",
   "execution_count": null,
   "metadata": {
    "collapsed": true
   },
   "outputs": [],
   "source": [
    "df[\"DaysDiff\"] = df[\"AppointmentDay\"] - df[\"ScheduledDay\"]"
   ]
  },
  {
   "cell_type": "markdown",
   "metadata": {},
   "source": [
    "Difference expressed in minutes"
   ]
  },
  {
   "cell_type": "code",
   "execution_count": null,
   "metadata": {
    "collapsed": true
   },
   "outputs": [],
   "source": [
    "df[\"MinutesDiff\"] = pd.to_numeric(df[\"DaysDiff\"].dt.total_seconds()/60)"
   ]
  },
  {
   "cell_type": "markdown",
   "metadata": {},
   "source": [
    "Flag that indicates whether appointment and scheduled were on the same day"
   ]
  },
  {
   "cell_type": "code",
   "execution_count": null,
   "metadata": {
    "collapsed": true
   },
   "outputs": [],
   "source": [
    "df[\"ScheduledSameDay\"] = (df[\"AppointmentDay\"].dt.date == df[\"ScheduledDay\"].dt.date).replace({True:1,False:0})"
   ]
  },
  {
   "cell_type": "markdown",
   "metadata": {},
   "source": [
    "Day of week of Appointment"
   ]
  },
  {
   "cell_type": "code",
   "execution_count": null,
   "metadata": {
    "collapsed": true
   },
   "outputs": [],
   "source": [
    "# It is assumed the week starts on Monday, which is denoted by 0 and ends on Sunday which is denoted by 6.\n",
    "df[\"AppointmentDayofWeek\"] = df[\"AppointmentDay\"].dt.dayofweek"
   ]
  },
  {
   "cell_type": "markdown",
   "metadata": {},
   "source": [
    "Day of week of Scheduled\n"
   ]
  },
  {
   "cell_type": "code",
   "execution_count": null,
   "metadata": {
    "collapsed": true
   },
   "outputs": [],
   "source": [
    "df[\"ScheduledDayofWeek\"] = df[\"ScheduledDay\"].dt.dayofweek"
   ]
  },
  {
   "cell_type": "markdown",
   "metadata": {},
   "source": [
    "Hour of scheduled"
   ]
  },
  {
   "cell_type": "code",
   "execution_count": null,
   "metadata": {
    "collapsed": true
   },
   "outputs": [],
   "source": [
    "df[\"ScheduledHour\"] = df[\"ScheduledDay\"].dt.hour"
   ]
  },
  {
   "cell_type": "markdown",
   "metadata": {},
   "source": [
    "Month of appointment"
   ]
  },
  {
   "cell_type": "code",
   "execution_count": null,
   "metadata": {
    "collapsed": true
   },
   "outputs": [],
   "source": [
    "df[\"AppointmentMonth\"] = df[\"AppointmentDay\"].dt.month"
   ]
  },
  {
   "cell_type": "markdown",
   "metadata": {},
   "source": [
    "#### Generate other variables"
   ]
  },
  {
   "cell_type": "code",
   "execution_count": null,
   "metadata": {
    "collapsed": true
   },
   "outputs": [],
   "source": [
    "df = df.sort_values(\"ScheduledDay\")"
   ]
  },
  {
   "cell_type": "code",
   "execution_count": null,
   "metadata": {
    "collapsed": true
   },
   "outputs": [],
   "source": [
    "patient_groups = df.groupby(\"PatientId\")"
   ]
  },
  {
   "cell_type": "markdown",
   "metadata": {},
   "source": [
    "Count number of times a patient had had an appointment before and if showed or not"
   ]
  },
  {
   "cell_type": "code",
   "execution_count": null,
   "metadata": {
    "collapsed": true
   },
   "outputs": [],
   "source": [
    "total_appointments = []\n",
    "ids = []\n",
    "patient = []\n",
    "total_not_showed = []\n",
    "\n",
    "for i,j in patient_groups:\n",
    "    appointments = 0\n",
    "    not_showed = 0\n",
    "    for h in range(j.shape[0]):\n",
    "        total_appointments.append(appointments)\n",
    "        total_not_showed.append(not_showed)\n",
    "        ids.append(j.iloc[h,:].name)\n",
    "        if j.iloc[h,:][\"No-show\"] == 1:\n",
    "            not_showed += 1\n",
    "        appointments += 1"
   ]
  },
  {
   "cell_type": "code",
   "execution_count": null,
   "metadata": {
    "collapsed": true
   },
   "outputs": [],
   "source": [
    "appointments_counter = pd.DataFrame(ids, columns = [\"RowIndex\"])\n",
    "appointments_counter[\"AppointmentsCount\"] = total_appointments\n",
    "appointments_counter[\"NotShowedCount\"] = total_not_showed\n",
    "appointments_counter[\"ProportionNotShowed\"] = appointments_counter[\"NotShowedCount\"]/appointments_counter[\"AppointmentsCount\"]\n",
    "appointments_counter[\"ProportionNotShowed\"] = appointments_counter[\"ProportionNotShowed\"].fillna(-9999)"
   ]
  },
  {
   "cell_type": "code",
   "execution_count": null,
   "metadata": {},
   "outputs": [],
   "source": [
    "appointments_counter.sample(10)"
   ]
  },
  {
   "cell_type": "code",
   "execution_count": null,
   "metadata": {
    "collapsed": true
   },
   "outputs": [],
   "source": [
    "df = df.reset_index()"
   ]
  },
  {
   "cell_type": "code",
   "execution_count": null,
   "metadata": {
    "collapsed": true
   },
   "outputs": [],
   "source": [
    "df = pd.merge(df, appointments_counter, left_on=\"index\", right_on=\"RowIndex\")"
   ]
  },
  {
   "cell_type": "markdown",
   "metadata": {},
   "source": [
    "Flag that indicates whether the patient had had an appointment before"
   ]
  },
  {
   "cell_type": "code",
   "execution_count": null,
   "metadata": {
    "collapsed": true
   },
   "outputs": [],
   "source": [
    "df[\"FirstAppointment\"] = (df[\"AppointmentsCount\"] == 0).replace({True:1, False:0})"
   ]
  },
  {
   "cell_type": "markdown",
   "metadata": {},
   "source": [
    "## Data visualization"
   ]
  },
  {
   "cell_type": "code",
   "execution_count": null,
   "metadata": {
    "collapsed": true
   },
   "outputs": [],
   "source": [
    "import plotly.plotly as py\n",
    "import plotly.graph_objs as go\n",
    "from plotly.offline import download_plotlyjs, init_notebook_mode, plot, iplot"
   ]
  },
  {
   "cell_type": "code",
   "execution_count": null,
   "metadata": {},
   "outputs": [],
   "source": [
    "init_notebook_mode(connected=True)"
   ]
  },
  {
   "cell_type": "markdown",
   "metadata": {},
   "source": [
    "Apparently, there is a little bit more chance that you don't show if you scheduled at morning"
   ]
  },
  {
   "cell_type": "code",
   "execution_count": null,
   "metadata": {},
   "outputs": [],
   "source": [
    "not_showed_hour = df[\"ScheduledHour\"][df[\"No-show\"]==1]\n",
    "showed_hour = df[\"ScheduledHour\"][df[\"No-show\"]==0]\n",
    "traceA = go.Histogram(x = not_showed_hour, histnorm=\"probability\", name = \"no-show\")\n",
    "traceB = go.Histogram(x = showed_hour, histnorm=\"probability\", name = \"show\")\n",
    "data = [traceA,traceB]\n",
    "layout = go.Layout(title='Probability of showing by hour of schedule')\n",
    "fig = go.Figure(data=data, layout=layout)\n",
    "iplot(fig)\n"
   ]
  },
  {
   "cell_type": "markdown",
   "metadata": {},
   "source": [
    "The day of week is not relevant"
   ]
  },
  {
   "cell_type": "code",
   "execution_count": null,
   "metadata": {},
   "outputs": [],
   "source": [
    "not_showed_hour = df[\"AppointmentDayofWeek\"][df[\"No-show\"]==1]\n",
    "showed_hour = df[\"AppointmentDayofWeek\"][df[\"No-show\"]==0]\n",
    "traceA = go.Histogram(x = not_showed_hour, histnorm=\"probability\")\n",
    "traceB = go.Histogram(x = showed_hour, histnorm=\"probability\")\n",
    "\n",
    "iplot([traceA,traceB])"
   ]
  },
  {
   "cell_type": "markdown",
   "metadata": {},
   "source": [
    "Most people that doesn't show scheduled a different day"
   ]
  },
  {
   "cell_type": "code",
   "execution_count": null,
   "metadata": {},
   "outputs": [],
   "source": [
    "not_showed_hour = df[\"ScheduledSameDay\"][df[\"No-show\"]==1]\n",
    "showed_hour = df[\"ScheduledSameDay\"][df[\"No-show\"]==0]\n",
    "traceA = go.Histogram(x = not_showed_hour, histnorm=\"probability\", name = \"no-show\")\n",
    "traceB = go.Histogram(x = showed_hour, histnorm=\"probability\", name = \"show\")\n",
    "\n",
    "layout = go.Layout(\n",
    "    xaxis=go.XAxis(\n",
    "        ticktext=[\"Scheduled a different day\",\"Scheduled same day\"],\n",
    "        tickvals=[0, 1]\n",
    "    ))\n",
    "\n",
    "figure = go.Figure(data = [traceA, traceB], layout = layout)\n",
    "\n",
    "iplot(figure,layout)"
   ]
  },
  {
   "cell_type": "code",
   "execution_count": null,
   "metadata": {},
   "outputs": [],
   "source": [
    "not_showed_hour = df[\"NotShowedCount\"][df[\"No-show\"]==1]\n",
    "showed_hour = df[\"NotShowedCount\"][df[\"No-show\"]==0]\n",
    "traceA = go.Histogram(x = not_showed_hour, histnorm=\"probability\")\n",
    "traceB = go.Histogram(x = showed_hour, histnorm=\"probability\")\n",
    "\n",
    "iplot([traceA,traceB])"
   ]
  },
  {
   "cell_type": "code",
   "execution_count": null,
   "metadata": {},
   "outputs": [],
   "source": [
    "\n",
    "#dataA = df[\"Age\"][df[\"Gender\"] == 1]\n",
    "#dataB = df[\"Age\"][df[\"Gender\"] == 0]\n",
    "#traceA = go.Violin(x = df[\"No-show\"][df[\"Gender\"] == 1],y = dataA, side = \"negative\", name = \"M\")\n",
    "#traceB = go.Violin(x = df[\"No-show\"][df[\"Gender\"] == 0],y = dataB, side = \"positive\", name = \"F\")\n",
    "\n",
    "traceA = go.Violin(x = df[\"No-show\"],y = df[\"Age\"],)\n",
    "\n",
    "#traceB = go.Violin(dataB)\n",
    "iplot([traceA])"
   ]
  },
  {
   "cell_type": "code",
   "execution_count": null,
   "metadata": {},
   "outputs": [],
   "source": [
    "dataA = df[\"Age\"][df[\"No-show\"] == 1]\n",
    "dataB = df[\"Age\"][df[\"No-show\"] == 0]\n",
    "x_data_A = df[\"Gender\"][df[\"No-show\"] == 1].copy()\n",
    "x_data_B = df[\"Gender\"][df[\"No-show\"] == 0].copy()\n",
    "\n",
    "traceA = go.Violin(x = x_data_A,y = dataA, side = \"negative\", name = \"No-show\")\n",
    "traceB = go.Violin(x = x_data_B,y = dataB, side = \"positive\", name = \"Show\")\n",
    "\n",
    "layout = go.Layout(\n",
    "    xaxis=go.XAxis(\n",
    "        ticktext=[\"F\",\"M\"],\n",
    "        tickvals=[0, 1]\n",
    "    ))\n",
    "\n",
    "\n",
    "figure = go.Figure(data = [traceA, traceB], layout = layout)\n",
    "iplot(figure)"
   ]
  },
  {
   "cell_type": "code",
   "execution_count": null,
   "metadata": {
    "collapsed": true
   },
   "outputs": [],
   "source": [
    "corr_matrix = np.corrcoef(df.drop([\"index\",\"PatientId\",\"AppointmentID\", \"ScheduledDay\",\"AppointmentDay\",\"Neighbourhood\",\"DaysDiff\",\"RowIndex\", 'ProportionNotShowed', 'FirstAppointment'], axis=1),rowvar=False)\n",
    "columns = df.drop([\"index\",\"PatientId\",\"AppointmentID\", \"ScheduledDay\",\"AppointmentDay\",\"Neighbourhood\",\"DaysDiff\",\"RowIndex\",'ProportionNotShowed', 'FirstAppointment'], axis=1).columns"
   ]
  },
  {
   "cell_type": "code",
   "execution_count": null,
   "metadata": {},
   "outputs": [],
   "source": [
    "columns"
   ]
  },
  {
   "cell_type": "code",
   "execution_count": null,
   "metadata": {
    "scrolled": false
   },
   "outputs": [],
   "source": [
    "traceA = go.Heatmap(z=corr_matrix, x=columns, y = columns)\n",
    "layout = go.Layout(yaxis=go.YAxis(automargin=True), xaxis=go.XAxis(automargin=True))\n",
    "figure = go.Figure(data = [traceA],layout = layout)\n",
    "iplot(figure)"
   ]
  },
  {
   "cell_type": "code",
   "execution_count": null,
   "metadata": {},
   "outputs": [],
   "source": [
    "gender_ctab = pd.crosstab(df[\"Gender\"], df[\"No-show\"], normalize=True)\n",
    "gender_odds = gender_ctab[1]/gender_ctab[0] # Odds\n",
    "gender_odds"
   ]
  },
  {
   "cell_type": "code",
   "execution_count": null,
   "metadata": {},
   "outputs": [],
   "source": [
    "sms_ctab = pd.crosstab(df[\"SMS_received\"], df[\"No-show\"], normalize=True)\n",
    "sms_odds = sms_ctab[1]/sms_ctab[0] # Odds\n",
    "sms_odds"
   ]
  },
  {
   "cell_type": "code",
   "execution_count": null,
   "metadata": {},
   "outputs": [],
   "source": [
    "same_ctab = pd.crosstab(df[\"ScheduledSameDay\"], df[\"No-show\"], normalize=True)\n",
    "same_odds = same_ctab[1]/same_ctab[0] # Odds\n",
    "same_odds"
   ]
  },
  {
   "cell_type": "code",
   "execution_count": null,
   "metadata": {},
   "outputs": [],
   "source": [
    "\n",
    "df[\"No-show\"].value_counts(normalize=True)\n",
    "traceA = go.Pie(labels=[\"show\",\"no-show\"], values=[0.8,0.2])\n",
    "iplot([traceA])"
   ]
  },
  {
   "cell_type": "markdown",
   "metadata": {},
   "source": [
    "#### Neighbourhood\n",
    "Some neighbourhoods are much more important than others"
   ]
  },
  {
   "cell_type": "code",
   "execution_count": null,
   "metadata": {
    "collapsed": true
   },
   "outputs": [],
   "source": [
    "neighbourhood_ctab = pd.crosstab(df[\"Neighbourhood\"], df[\"No-show\"], normalize=True)\n",
    "neighbourhood_odds = neighbourhood_ctab[1]/neighbourhood_ctab[0] # Odds"
   ]
  },
  {
   "cell_type": "code",
   "execution_count": null,
   "metadata": {},
   "outputs": [],
   "source": [
    "neighbourhood_odds.sort_values(ascending=False).head(10)"
   ]
  },
  {
   "cell_type": "code",
   "execution_count": null,
   "metadata": {},
   "outputs": [],
   "source": [
    "neighbourhood_odds.sort_values(ascending=False).tail(10)"
   ]
  },
  {
   "cell_type": "markdown",
   "metadata": {},
   "source": [
    "### Further transformations\n",
    "Finally, we will finish preparing our dataset to try different models"
   ]
  },
  {
   "cell_type": "code",
   "execution_count": null,
   "metadata": {},
   "outputs": [],
   "source": [
    "df[\"Handcap\"].value_counts()"
   ]
  },
  {
   "cell_type": "code",
   "execution_count": null,
   "metadata": {},
   "outputs": [],
   "source": [
    "df[\"Handcap\"][df[\"Handcap\"] > 1] = 1"
   ]
  },
  {
   "cell_type": "code",
   "execution_count": null,
   "metadata": {
    "collapsed": true
   },
   "outputs": [],
   "source": [
    "df.drop([\"index\",\"PatientId\",\"AppointmentID\",\"ScheduledDay\",\"RowIndex\",\"DaysDiff\"], inplace=True, axis=1)\n"
   ]
  },
  {
   "cell_type": "markdown",
   "metadata": {},
   "source": [
    "### Conclusion\n",
    "Most variables are not really correlated with the target so we will need to try non linear transformations. The most linearly correlated variables are:\n",
    "- SMS_received\n",
    "- MinutesDiff\n",
    "- ScheduledSameDay\n",
    "\n",
    "In addition, some variables are not really linearly correlated but might have some information:\n",
    "- ScheduledHour\n",
    "- NotShowedCount\n",
    "- Age\n",
    "\n",
    "Apart from that, some neighbourhoods seems to be important for predicting purposes."
   ]
  },
  {
   "cell_type": "code",
   "execution_count": null,
   "metadata": {
    "collapsed": true
   },
   "outputs": [],
   "source": [
    "df.to_csv(\"cleaned_data.csv\",index=False)"
   ]
  },
  {
   "cell_type": "code",
   "execution_count": null,
   "metadata": {
    "collapsed": true
   },
   "outputs": [],
   "source": []
  }
 ],
 "metadata": {
  "kernelspec": {
   "display_name": "Python 3",
   "language": "python",
   "name": "python3"
  },
  "language_info": {
   "codemirror_mode": {
    "name": "ipython",
    "version": 3
   },
   "file_extension": ".py",
   "mimetype": "text/x-python",
   "name": "python",
   "nbconvert_exporter": "python",
   "pygments_lexer": "ipython3",
   "version": "3.6.2"
  }
 },
 "nbformat": 4,
 "nbformat_minor": 2
}
