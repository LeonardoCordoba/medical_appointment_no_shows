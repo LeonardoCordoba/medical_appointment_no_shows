{
 "cells": [
  {
   "cell_type": "code",
   "execution_count": 1,
   "metadata": {
    "collapsed": true
   },
   "outputs": [],
   "source": [
    "import pandas as pd"
   ]
  },
  {
   "cell_type": "code",
   "execution_count": 2,
   "metadata": {
    "collapsed": true
   },
   "outputs": [],
   "source": [
    "df = pd.read_csv(\"cleaned_data.csv\")"
   ]
  },
  {
   "cell_type": "code",
   "execution_count": 3,
   "metadata": {
    "collapsed": true
   },
   "outputs": [],
   "source": [
    "from sklearn.model_selection import TimeSeriesSplit, cross_val_score"
   ]
  },
  {
   "cell_type": "code",
   "execution_count": 4,
   "metadata": {
    "collapsed": true
   },
   "outputs": [],
   "source": [
    "df.index = df[\"AppointmentDay\"]"
   ]
  },
  {
   "cell_type": "code",
   "execution_count": 5,
   "metadata": {
    "collapsed": true
   },
   "outputs": [],
   "source": [
    "df = df.drop(\"AppointmentDay\", axis=1)"
   ]
  },
  {
   "cell_type": "code",
   "execution_count": 6,
   "metadata": {},
   "outputs": [
    {
     "data": {
      "text/plain": [
       "Index(['Gender', 'Age', 'Neighbourhood', 'Scholarship', 'Hipertension',\n",
       "       'Diabetes', 'Alcoholism', 'Handcap', 'SMS_received', 'No-show',\n",
       "       'MinutesDiff', 'ScheduledSameDay', 'AppointmentDayofWeek',\n",
       "       'ScheduledDayofWeek', 'ScheduledHour', 'AppointmentMonth',\n",
       "       'AppointmentsCount', 'NotShowedCount', 'ProportionNotShowed',\n",
       "       'FirstAppointment'],\n",
       "      dtype='object')"
      ]
     },
     "execution_count": 6,
     "metadata": {},
     "output_type": "execute_result"
    }
   ],
   "source": [
    "df.columns"
   ]
  },
  {
   "cell_type": "markdown",
   "metadata": {},
   "source": [
    "### Model evaluation design"
   ]
  },
  {
   "cell_type": "markdown",
   "metadata": {},
   "source": [
    "Appointments are recorded along a time frame. In addition, some variables have been made taking into consideration the historical activity of the patient. \n",
    "In this sense, traditional cross-validation wouldn't be the best option to evaluate the performance of the model, because one could be using information from the \"future\" to predict the past, for example, one could train with information of the patient A in the date 2016-06-06 and predicting an appointment patient A made for the 2016-05-10.\n",
    "This is when it comes into consideration Time Series Cross Validation.\n",
    "sklearn.model_evaluation.TimeSeriesSplit is used to generate test sets that have more recent information than the train sets. \n",
    "Considering this the evaluation arquitecture is as follow:\n",
    "- First of all, we make a train test split, train will be used to select the best model and test to have an accurate estimation of its performance.\n",
    "- Secondly, in train we will perform multiple runs of models using RandomizedSearchCV to select the best hyperparameters. This is be evaluated with a time series cross validation schema.\n",
    "- Finally, the best model is trained using the whole train set and predicting in test."
   ]
  },
  {
   "cell_type": "code",
   "execution_count": 7,
   "metadata": {
    "collapsed": true
   },
   "outputs": [],
   "source": [
    "df.index = pd.to_datetime(df.index)"
   ]
  },
  {
   "cell_type": "code",
   "execution_count": 8,
   "metadata": {
    "collapsed": true
   },
   "outputs": [],
   "source": [
    "test = df[\"2016-06-06\":\"2016-06-08\"].copy()"
   ]
  },
  {
   "cell_type": "code",
   "execution_count": 9,
   "metadata": {},
   "outputs": [
    {
     "data": {
      "text/plain": [
       "2016-06-06    4692\n",
       "2016-06-08    4479\n",
       "2016-06-07    4416\n",
       "Name: AppointmentDay, dtype: int64"
      ]
     },
     "execution_count": 9,
     "metadata": {},
     "output_type": "execute_result"
    }
   ],
   "source": [
    "test.index.value_counts()"
   ]
  },
  {
   "cell_type": "code",
   "execution_count": 10,
   "metadata": {
    "collapsed": true
   },
   "outputs": [],
   "source": [
    "y_test = test[\"No-show\"]\n",
    "X_test = test.drop([\"No-show\"], axis=1)"
   ]
  },
  {
   "cell_type": "code",
   "execution_count": 11,
   "metadata": {
    "collapsed": true
   },
   "outputs": [],
   "source": [
    "train = df[\"2016-04-29\":\"2016-06-05\"].copy()\n",
    "y_train = train[\"No-show\"]\n",
    "X_train = train.drop([\"No-show\"], axis=1)"
   ]
  },
  {
   "cell_type": "code",
   "execution_count": 12,
   "metadata": {},
   "outputs": [
    {
     "name": "stderr",
     "output_type": "stream",
     "text": [
      "/home/usuario/anaconda3/lib/python3.6/site-packages/sklearn/model_selection/_split.py:778: FutureWarning: You should specify a value for 'n_splits' instead of relying on the default value. The default value will change from 3 to 5 in version 0.22.\n",
      "  warnings.warn(NSPLIT_WARNING, FutureWarning)\n"
     ]
    }
   ],
   "source": [
    "cv = TimeSeriesSplit()\n",
    "my_cv = TimeSeriesSplit(n_splits=2).split(X_train)\n"
   ]
  },
  {
   "cell_type": "markdown",
   "metadata": {},
   "source": [
    "### Pipeline design"
   ]
  },
  {
   "cell_type": "markdown",
   "metadata": {},
   "source": [
    "Different approaches will be evaluated. To have a clean code a pipeline of transformations is proposed.\n",
    "This pipeline will:\n",
    "\n",
    "    1- Neighboorhoods pipeline: Take Neighbourhood and make dummy variables from it. A hyperparameter will be to choose whether to take the top 10 (regarding the odds), top 20, top 30 or all the neighbourhoods\n",
    "    2- Interactions pipeline: this pipeline will make interactions between many dummy variables. These are 'Gender', 'Scholarship', 'Hipertension','Diabetes', 'Alcoholism', 'Handcap', 'SMS_received', 'ScheduledSameDay'\n",
    "    3- Cuadratic pipeline: this pipeline make a cuadratic relationship between variables\n",
    "    4-Selection pipeline: this pipeline selects variables without transformation\n",
    "\n",
    "After all this transformation, there will be the following steps:\n",
    "\n",
    "    5- Step to decide whether to do PCA or not\n",
    "    6- Step to decide whether to do over sampling using SMOTE, under sampling or nothing\n",
    "    7- Step for automatic variable selection\n",
    "    8- Model to train"
   ]
  },
  {
   "cell_type": "code",
   "execution_count": 13,
   "metadata": {
    "collapsed": true
   },
   "outputs": [],
   "source": [
    "from sklearn.pipeline import make_union, FeatureUnion\n",
    "from imblearn.pipeline import make_pipeline, Pipeline"
   ]
  },
  {
   "cell_type": "code",
   "execution_count": 14,
   "metadata": {
    "collapsed": true
   },
   "outputs": [],
   "source": [
    "from sklearn.preprocessing import OneHotEncoder, FunctionTransformer, PolynomialFeatures"
   ]
  },
  {
   "cell_type": "markdown",
   "metadata": {},
   "source": [
    "#### Neighboorhoods pipeline"
   ]
  },
  {
   "cell_type": "code",
   "execution_count": 15,
   "metadata": {
    "collapsed": true
   },
   "outputs": [],
   "source": [
    "dict_to_replace = {i:j for i,j in zip(list(df[\"Neighbourhood\"].unique()), [i for i in range(81)])}"
   ]
  },
  {
   "cell_type": "code",
   "execution_count": 16,
   "metadata": {
    "collapsed": true
   },
   "outputs": [],
   "source": [
    "X_train[\"Neighbourhood\"] = X_train[\"Neighbourhood\"].replace(dict_to_replace)"
   ]
  },
  {
   "cell_type": "code",
   "execution_count": 17,
   "metadata": {
    "collapsed": true
   },
   "outputs": [],
   "source": [
    "X_test[\"Neighbourhood\"] = X_test[\"Neighbourhood\"].replace(dict_to_replace)"
   ]
  },
  {
   "cell_type": "code",
   "execution_count": 18,
   "metadata": {
    "collapsed": true
   },
   "outputs": [],
   "source": [
    "df[\"Neighbourhood\"] = df[\"Neighbourhood\"].replace(dict_to_replace)"
   ]
  },
  {
   "cell_type": "code",
   "execution_count": 19,
   "metadata": {
    "collapsed": true
   },
   "outputs": [],
   "source": [
    "neighbourhood_ctab = pd.crosstab(df[\"Neighbourhood\"], df[\"No-show\"], normalize=True)\n",
    "neighbourhood_odds = neighbourhood_ctab[1]/neighbourhood_ctab[0] # Odds\n",
    "neigh_top10 = neighbourhood_odds.sort_values(ascending=False).index.values[1:11]\n",
    "neigh_top10.sort()\n",
    "neigh_top20 = neighbourhood_odds.sort_values(ascending=False).index.values[1:21]\n",
    "neigh_top20.sort()\n",
    "neigh_top30 = neighbourhood_odds.sort_values(ascending=False).index.values[1:31]\n",
    "neigh_top30.sort()"
   ]
  },
  {
   "cell_type": "code",
   "execution_count": 20,
   "metadata": {
    "collapsed": true
   },
   "outputs": [],
   "source": [
    "def select_column_1(X, column_position = [2]):\n",
    "    return X.iloc[:,column_position]"
   ]
  },
  {
   "cell_type": "code",
   "execution_count": 21,
   "metadata": {
    "collapsed": true
   },
   "outputs": [],
   "source": [
    "neigh_pipeline = Pipeline([(\"select\",FunctionTransformer(select_column_1, validate = False)) , (\"encoder\",OneHotEncoder(categories=[neigh_top10],handle_unknown=\"ignore\", sparse=False))])"
   ]
  },
  {
   "cell_type": "markdown",
   "metadata": {},
   "source": [
    "#### Interactions pipeline"
   ]
  },
  {
   "cell_type": "code",
   "execution_count": 22,
   "metadata": {
    "collapsed": true
   },
   "outputs": [],
   "source": [
    "pf = PolynomialFeatures(interaction_only=True)"
   ]
  },
  {
   "cell_type": "code",
   "execution_count": 23,
   "metadata": {
    "collapsed": true
   },
   "outputs": [],
   "source": [
    "def select_column_2(X, column_position = [0, 3,4,5,6,7,8,10]):\n",
    "    return X.iloc[:,column_position]"
   ]
  },
  {
   "cell_type": "code",
   "execution_count": 24,
   "metadata": {
    "collapsed": true
   },
   "outputs": [],
   "source": [
    "int_pipeline = make_pipeline(FunctionTransformer(select_column_2, validate = False), pf)"
   ]
  },
  {
   "cell_type": "markdown",
   "metadata": {},
   "source": [
    "#### Cuadratic pipeline"
   ]
  },
  {
   "cell_type": "code",
   "execution_count": 25,
   "metadata": {
    "collapsed": true
   },
   "outputs": [],
   "source": [
    "pf_2 = PolynomialFeatures()"
   ]
  },
  {
   "cell_type": "code",
   "execution_count": 26,
   "metadata": {
    "collapsed": true
   },
   "outputs": [],
   "source": [
    "def select_column_3(X, column_position = [1,16]):\n",
    "    return X.iloc[:,column_position]"
   ]
  },
  {
   "cell_type": "code",
   "execution_count": 27,
   "metadata": {
    "collapsed": true
   },
   "outputs": [],
   "source": [
    "cuad_pipeline = make_pipeline(FunctionTransformer(select_column_3, validate = False), pf_2)"
   ]
  },
  {
   "cell_type": "markdown",
   "metadata": {},
   "source": [
    "#### Selection pipeline"
   ]
  },
  {
   "cell_type": "code",
   "execution_count": 28,
   "metadata": {
    "collapsed": true
   },
   "outputs": [],
   "source": [
    "def select_column_4(X, column_position = [9,11,12,13,14,15,17,18]):\n",
    "    return X.iloc[:,column_position]"
   ]
  },
  {
   "cell_type": "code",
   "execution_count": 29,
   "metadata": {
    "collapsed": true
   },
   "outputs": [],
   "source": [
    "sel_pipeline = make_pipeline(FunctionTransformer(select_column_4, validate = False))"
   ]
  },
  {
   "cell_type": "markdown",
   "metadata": {},
   "source": [
    "#### Union of Feature Engineering pipelines"
   ]
  },
  {
   "cell_type": "code",
   "execution_count": 30,
   "metadata": {
    "collapsed": true
   },
   "outputs": [],
   "source": [
    "fe_union = FeatureUnion([(\"neigh_pipeline\",neigh_pipeline), (\"int_pipeline\",int_pipeline),\n",
    "             (\"cuad_pipeline\",cuad_pipeline),(\"sel_pipeline\",sel_pipeline)])"
   ]
  },
  {
   "cell_type": "markdown",
   "metadata": {},
   "source": [
    "#### Models pipeline"
   ]
  },
  {
   "cell_type": "code",
   "execution_count": 31,
   "metadata": {
    "collapsed": true
   },
   "outputs": [],
   "source": [
    "from imblearn.over_sampling import SMOTE\n",
    "from imblearn.under_sampling import RandomUnderSampler\n",
    "from sklearn.feature_selection import SelectPercentile, f_classif\n",
    "from sklearn.decomposition import PCA\n",
    "from sklearn.preprocessing import StandardScaler"
   ]
  },
  {
   "cell_type": "code",
   "execution_count": 32,
   "metadata": {
    "collapsed": true
   },
   "outputs": [],
   "source": [
    "f_selection_step = SelectPercentile(f_classif)\n",
    "resampling_step = SMOTE()\n",
    "pca = PCA()\n",
    "ss = StandardScaler()"
   ]
  },
  {
   "cell_type": "code",
   "execution_count": 33,
   "metadata": {
    "collapsed": true
   },
   "outputs": [],
   "source": [
    "from sklearn.metrics import roc_auc_score"
   ]
  },
  {
   "cell_type": "markdown",
   "metadata": {},
   "source": [
    "## Models evaluation\n",
    "The following models are evaluated:\n",
    "\n",
    "- KNN\n",
    "- SVM\n",
    "- NaiveBayes\n",
    "- Logistic Regression\n",
    "- Random Forest\n",
    "- LightGBM\n",
    "- CatBoost\n"
   ]
  },
  {
   "cell_type": "code",
   "execution_count": 34,
   "metadata": {
    "collapsed": true
   },
   "outputs": [],
   "source": [
    "from sklearn.model_selection import RandomizedSearchCV"
   ]
  },
  {
   "cell_type": "markdown",
   "metadata": {},
   "source": [
    "### KNN"
   ]
  },
  {
   "cell_type": "code",
   "execution_count": 34,
   "metadata": {
    "collapsed": true
   },
   "outputs": [],
   "source": [
    "from sklearn.neighbors import KNeighborsClassifier"
   ]
  },
  {
   "cell_type": "code",
   "execution_count": 46,
   "metadata": {
    "collapsed": true
   },
   "outputs": [],
   "source": [
    "from scikitplot.metrics import plot_roc\n",
    "import matplotlib.pyplot as plt\n",
    "% matplotlib inline"
   ]
  },
  {
   "cell_type": "code",
   "execution_count": 36,
   "metadata": {
    "collapsed": true
   },
   "outputs": [],
   "source": [
    "knn = KNeighborsClassifier()"
   ]
  },
  {
   "cell_type": "code",
   "execution_count": 37,
   "metadata": {
    "collapsed": true
   },
   "outputs": [],
   "source": [
    "pipeline = make_pipeline(fe_union, ss, pca, resampling_step, f_selection_step,knn)"
   ]
  },
  {
   "cell_type": "code",
   "execution_count": 38,
   "metadata": {
    "collapsed": true
   },
   "outputs": [],
   "source": [
    "params = {\"featureunion__neigh_pipeline__encoder\":[OneHotEncoder(categories=[neigh_top10],sparse = False,handle_unknown=\"ignore\"),\n",
    "                                                     OneHotEncoder(categories=[neigh_top20],sparse = False,handle_unknown=\"ignore\"),\n",
    "                                                     OneHotEncoder(categories=[neigh_top30],sparse = False,handle_unknown=\"ignore\"),\n",
    "                                                  OneHotEncoder(sparse = False,handle_unknown=\"ignore\")], \n",
    "          \"pca\":[None, PCA()],\n",
    "         \"smote\": [None,RandomUnderSampler(), SMOTE()], \n",
    "          \"selectpercentile__percentile\":[80,70,50,30],\n",
    "         \"kneighborsclassifier__n_neighbors\":[5,8,12,15]}"
   ]
  },
  {
   "cell_type": "code",
   "execution_count": 39,
   "metadata": {
    "collapsed": true
   },
   "outputs": [],
   "source": [
    "my_cv = TimeSeriesSplit(n_splits=2).split(X_train)"
   ]
  },
  {
   "cell_type": "code",
   "execution_count": 40,
   "metadata": {
    "collapsed": true
   },
   "outputs": [],
   "source": [
    "rs = RandomizedSearchCV(estimator = pipeline, param_distributions=params,cv=my_cv, n_jobs=3, n_iter=20, scoring=\"roc_auc\")"
   ]
  },
  {
   "cell_type": "code",
   "execution_count": 41,
   "metadata": {},
   "outputs": [
    {
     "name": "stderr",
     "output_type": "stream",
     "text": [
      "/home/usuario/anaconda3/lib/python3.6/site-packages/sklearn/feature_selection/univariate_selection.py:114: UserWarning: Features [20 56 57] are constant.\n",
      "  UserWarning)\n",
      "/home/usuario/anaconda3/lib/python3.6/site-packages/sklearn/feature_selection/univariate_selection.py:115: RuntimeWarning: invalid value encountered in true_divide\n",
      "  f = msb / msw\n"
     ]
    },
    {
     "data": {
      "text/plain": [
       "RandomizedSearchCV(cv=<generator object TimeSeriesSplit.split at 0x7fd2de8ac620>,\n",
       "          error_score='raise-deprecating',\n",
       "          estimator=Pipeline(memory=None,\n",
       "     steps=[('featureunion', FeatureUnion(n_jobs=None,\n",
       "       transformer_list=[('neigh_pipeline', Pipeline(memory=None,\n",
       "     steps=[('select', FunctionTransformer(accept_sparse=False, check_inverse=True,\n",
       "          func=<function select_column_1 at 0x7fd2f0a93ea0>,\n",
       "          inv_kw_args=None, inverse_fun...ki',\n",
       "           metric_params=None, n_jobs=None, n_neighbors=5, p=2,\n",
       "           weights='uniform'))]),\n",
       "          fit_params=None, iid='warn', n_iter=1, n_jobs=3,\n",
       "          param_distributions={'featureunion__neigh_pipeline__encoder': [OneHotEncoder(categorical_features=None,\n",
       "       categories=[array([ 4,  6,  8, 24, 26, 32, 36, 39, 50, 68])],\n",
       "       dtype=<class 'numpy.float64'>, handle_unknown='ignore',\n",
       "       n_values=None, sparse=False), OneHotEncoder(categorical_f...electpercentile__percentile': [80, 70, 50, 30], 'kneighborsclassifier__n_neighbors': [5, 8, 12, 15]},\n",
       "          pre_dispatch='2*n_jobs', random_state=None, refit=True,\n",
       "          return_train_score='warn', scoring='roc_auc', verbose=0)"
      ]
     },
     "execution_count": 41,
     "metadata": {},
     "output_type": "execute_result"
    }
   ],
   "source": [
    "rs.fit(X_train, y_train)"
   ]
  },
  {
   "cell_type": "code",
   "execution_count": 42,
   "metadata": {},
   "outputs": [
    {
     "data": {
      "text/plain": [
       "0.712363545677375"
      ]
     },
     "execution_count": 42,
     "metadata": {},
     "output_type": "execute_result"
    }
   ],
   "source": [
    "rs.best_score_"
   ]
  },
  {
   "cell_type": "code",
   "execution_count": 43,
   "metadata": {
    "collapsed": true
   },
   "outputs": [],
   "source": [
    "y_predicted = rs.predict_proba(X_test)"
   ]
  },
  {
   "cell_type": "code",
   "execution_count": 44,
   "metadata": {},
   "outputs": [
    {
     "data": {
      "text/plain": [
       "0.715818785409899"
      ]
     },
     "execution_count": 44,
     "metadata": {},
     "output_type": "execute_result"
    }
   ],
   "source": [
    "roc_auc_score(y_test, y_predicted[:,1])"
   ]
  },
  {
   "cell_type": "code",
   "execution_count": 45,
   "metadata": {},
   "outputs": [
    {
     "data": {
      "text/plain": [
       "<matplotlib.axes._subplots.AxesSubplot at 0x7fd2de8659e8>"
      ]
     },
     "execution_count": 45,
     "metadata": {},
     "output_type": "execute_result"
    },
    {
     "data": {
      "image/png": "[encoded data removed]",
      "text/plain": [
       "<Figure size 432x288 with 1 Axes>"
      ]
     },
     "metadata": {},
     "output_type": "display_data"
    }
   ],
   "source": [
    "plot_roc(y_test, y_predicted, plot_micro=False)"
   ]
  },
  {
   "cell_type": "code",
   "execution_count": 46,
   "metadata": {},
   "outputs": [
    {
     "name": "stderr",
     "output_type": "stream",
     "text": [
      "/home/usuario/anaconda3/lib/python3.6/site-packages/sklearn/utils/deprecation.py:125: FutureWarning: You are accessing a training score ('split0_train_score'), which will not be available by default any more in 0.21. If you need training scores, please set return_train_score=True\n",
      "  warnings.warn(*warn_args, **warn_kwargs)\n",
      "/home/usuario/anaconda3/lib/python3.6/site-packages/sklearn/utils/deprecation.py:125: FutureWarning: You are accessing a training score ('split1_train_score'), which will not be available by default any more in 0.21. If you need training scores, please set return_train_score=True\n",
      "  warnings.warn(*warn_args, **warn_kwargs)\n",
      "/home/usuario/anaconda3/lib/python3.6/site-packages/sklearn/utils/deprecation.py:125: FutureWarning: You are accessing a training score ('mean_train_score'), which will not be available by default any more in 0.21. If you need training scores, please set return_train_score=True\n",
      "  warnings.warn(*warn_args, **warn_kwargs)\n",
      "/home/usuario/anaconda3/lib/python3.6/site-packages/sklearn/utils/deprecation.py:125: FutureWarning: You are accessing a training score ('std_train_score'), which will not be available by default any more in 0.21. If you need training scores, please set return_train_score=True\n",
      "  warnings.warn(*warn_args, **warn_kwargs)\n"
     ]
    }
   ],
   "source": [
    "pd.DataFrame(rs.cv_results_).to_csv(\"knn_results_2.csv\", index=False, sep = \"|\")"
   ]
  },
  {
   "cell_type": "markdown",
   "metadata": {},
   "source": [
    "### SVM"
   ]
  },
  {
   "cell_type": "code",
   "execution_count": 129,
   "metadata": {
    "collapsed": true
   },
   "outputs": [],
   "source": [
    "from sklearn.svm import SVC"
   ]
  },
  {
   "cell_type": "code",
   "execution_count": 130,
   "metadata": {
    "collapsed": true
   },
   "outputs": [],
   "source": [
    "svm_class = SVC()"
   ]
  },
  {
   "cell_type": "code",
   "execution_count": 139,
   "metadata": {
    "collapsed": true
   },
   "outputs": [],
   "source": [
    "pipeline = make_pipeline(fe_union, ss, pca, resampling_step, f_selection_step,svm_class)"
   ]
  },
  {
   "cell_type": "code",
   "execution_count": 140,
   "metadata": {
    "collapsed": true
   },
   "outputs": [],
   "source": [
    "from  sklearn.utils.random import sample_without_replacement"
   ]
  },
  {
   "cell_type": "code",
   "execution_count": 146,
   "metadata": {
    "collapsed": true
   },
   "outputs": [],
   "source": [
    "sample_idx = sample_without_replacement(X_train.shape[0], 10000)"
   ]
  },
  {
   "cell_type": "code",
   "execution_count": 147,
   "metadata": {
    "collapsed": true
   },
   "outputs": [],
   "source": [
    "X_train_svm = X_train.iloc[sample_idx,:]\n",
    "y_train_svm = y_train.iloc[sample_idx]"
   ]
  },
  {
   "cell_type": "code",
   "execution_count": 148,
   "metadata": {
    "collapsed": true
   },
   "outputs": [],
   "source": [
    "params = {\"featureunion__neigh_pipeline__encoder\":[OneHotEncoder(categories=[neigh_top10],sparse = False,handle_unknown=\"ignore\"),\n",
    "                                                     OneHotEncoder(categories=[neigh_top20],sparse = False,handle_unknown=\"ignore\"),\n",
    "                                                     OneHotEncoder(categories=[neigh_top30],sparse = False,handle_unknown=\"ignore\"),\n",
    "                                                  OneHotEncoder(sparse = False,handle_unknown=\"ignore\")], \n",
    "          \"pca\":[None],\n",
    "         \"smote\": [None,RandomUnderSampler()], \n",
    "          \"selectpercentile__percentile\":[30, 20, 10],\n",
    "         \"svc__C\":[0.5,0.7,0.9,1],\n",
    "         \"svc__kernel\":['poly', 'rbf', 'sigmoid'],\n",
    "         \"svc__probability\":[True]}"
   ]
  },
  {
   "cell_type": "code",
   "execution_count": 157,
   "metadata": {
    "collapsed": true
   },
   "outputs": [],
   "source": [
    "my_cv = TimeSeriesSplit(n_splits=2).split(X_train_svm)"
   ]
  },
  {
   "cell_type": "code",
   "execution_count": 158,
   "metadata": {
    "collapsed": true
   },
   "outputs": [],
   "source": [
    "rs = RandomizedSearchCV(estimator = pipeline, param_distributions=params,cv=my_cv, n_jobs=3, n_iter=20, scoring=\"roc_auc\")"
   ]
  },
  {
   "cell_type": "code",
   "execution_count": 159,
   "metadata": {},
   "outputs": [
    {
     "name": "stderr",
     "output_type": "stream",
     "text": [
      "/home/usuario/anaconda3/lib/python3.6/site-packages/imblearn/pipeline.py:190: DeprecationWarning: The 'cachedir' attribute has been deprecated in version 0.12 and will be removed in version 0.14.\n",
      "Use os.path.join(memory.location, 'joblib') attribute instead.\n",
      "  if memory.cachedir is None:\n",
      "/home/usuario/anaconda3/lib/python3.6/site-packages/imblearn/pipeline.py:190: DeprecationWarning: The 'cachedir' attribute has been deprecated in version 0.12 and will be removed in version 0.14.\n",
      "Use os.path.join(memory.location, 'joblib') attribute instead.\n",
      "  if memory.cachedir is None:\n",
      "/home/usuario/anaconda3/lib/python3.6/site-packages/imblearn/pipeline.py:190: DeprecationWarning: The 'cachedir' attribute has been deprecated in version 0.12 and will be removed in version 0.14.\n",
      "Use os.path.join(memory.location, 'joblib') attribute instead.\n",
      "  if memory.cachedir is None:\n",
      "/home/usuario/anaconda3/lib/python3.6/site-packages/imblearn/pipeline.py:190: DeprecationWarning: The 'cachedir' attribute has been deprecated in version 0.12 and will be removed in version 0.14.\n",
      "Use os.path.join(memory.location, 'joblib') attribute instead.\n",
      "  if memory.cachedir is None:\n",
      "/home/usuario/anaconda3/lib/python3.6/site-packages/imblearn/pipeline.py:190: DeprecationWarning: The 'cachedir' attribute has been deprecated in version 0.12 and will be removed in version 0.14.\n",
      "Use os.path.join(memory.location, 'joblib') attribute instead.\n",
      "  if memory.cachedir is None:\n",
      "/home/usuario/anaconda3/lib/python3.6/site-packages/imblearn/pipeline.py:190: DeprecationWarning: The 'cachedir' attribute has been deprecated in version 0.12 and will be removed in version 0.14.\n",
      "Use os.path.join(memory.location, 'joblib') attribute instead.\n",
      "  if memory.cachedir is None:\n",
      "/home/usuario/anaconda3/lib/python3.6/site-packages/imblearn/pipeline.py:190: DeprecationWarning: The 'cachedir' attribute has been deprecated in version 0.12 and will be removed in version 0.14.\n",
      "Use os.path.join(memory.location, 'joblib') attribute instead.\n",
      "  if memory.cachedir is None:\n",
      "/home/usuario/anaconda3/lib/python3.6/site-packages/sklearn/feature_selection/univariate_selection.py:114: UserWarning: Features [20 56 57] are constant.\n",
      "  UserWarning)\n",
      "/home/usuario/anaconda3/lib/python3.6/site-packages/sklearn/feature_selection/univariate_selection.py:115: RuntimeWarning: invalid value encountered in true_divide\n",
      "  f = msb / msw\n",
      "/home/usuario/anaconda3/lib/python3.6/site-packages/sklearn/svm/base.py:196: FutureWarning: The default value of gamma will change from 'auto' to 'scale' in version 0.22 to account better for unscaled features. Set gamma explicitly to 'auto' or 'scale' to avoid this warning.\n",
      "  \"avoid this warning.\", FutureWarning)\n"
     ]
    },
    {
     "data": {
      "text/plain": [
       "RandomizedSearchCV(cv=<generator object TimeSeriesSplit.split at 0x7fd582ace570>,\n",
       "          error_score='raise-deprecating',\n",
       "          estimator=Pipeline(memory=None,\n",
       "     steps=[('featureunion', FeatureUnion(n_jobs=None,\n",
       "       transformer_list=[('neigh_pipeline', Pipeline(memory=None,\n",
       "     steps=[('select', FunctionTransformer(accept_sparse=False, check_inverse=True,\n",
       "          func=<function select_column_1 at 0x7fd5a6c8d048>,\n",
       "          inv_kw_args=None, inverse_fun...f', max_iter=-1, probability=False, random_state=None,\n",
       "  shrinking=True, tol=0.001, verbose=False))]),\n",
       "          fit_params=None, iid='warn', n_iter=20, n_jobs=3,\n",
       "          param_distributions={'featureunion__neigh_pipeline__encoder': [OneHotEncoder(categorical_features=None,\n",
       "       categories=[array([ 4,  6,  8, 24, 26, 32, 36, 39, 50, 68])],\n",
       "       dtype=<class 'numpy.float64'>, handle_unknown='ignore',\n",
       "       n_values=None, sparse=False), OneHotEncoder(categorical_f...'svc__C': [0.5, 0.7, 0.9, 1], 'svc__kernel': ['poly', 'rbf', 'sigmoid'], 'svc__probability': [True]},\n",
       "          pre_dispatch='2*n_jobs', random_state=None, refit=True,\n",
       "          return_train_score='warn', scoring='roc_auc', verbose=0)"
      ]
     },
     "execution_count": 159,
     "metadata": {},
     "output_type": "execute_result"
    }
   ],
   "source": [
    "rs.fit(X_train_svm, y_train_svm)"
   ]
  },
  {
   "cell_type": "code",
   "execution_count": 160,
   "metadata": {},
   "outputs": [
    {
     "data": {
      "text/plain": [
       "0.7048082394973969"
      ]
     },
     "execution_count": 160,
     "metadata": {},
     "output_type": "execute_result"
    }
   ],
   "source": [
    "rs.best_score_"
   ]
  },
  {
   "cell_type": "code",
   "execution_count": 161,
   "metadata": {
    "collapsed": true
   },
   "outputs": [],
   "source": [
    "y_predicted = rs.predict_proba(X_test)"
   ]
  },
  {
   "cell_type": "code",
   "execution_count": 162,
   "metadata": {},
   "outputs": [
    {
     "data": {
      "text/plain": [
       "0.6891657625996719"
      ]
     },
     "execution_count": 162,
     "metadata": {},
     "output_type": "execute_result"
    }
   ],
   "source": [
    "roc_auc_score(y_test, y_predicted[:,1])"
   ]
  },
  {
   "cell_type": "code",
   "execution_count": 163,
   "metadata": {},
   "outputs": [
    {
     "data": {
      "text/plain": [
       "<matplotlib.axes._subplots.AxesSubplot at 0x7fd584b0c7f0>"
      ]
     },
     "execution_count": 163,
     "metadata": {},
     "output_type": "execute_result"
    },
    {
     "data": {
      "image/png": "[encoded data removed]",
      "text/plain": [
       "<Figure size 432x288 with 1 Axes>"
      ]
     },
     "metadata": {},
     "output_type": "display_data"
    }
   ],
   "source": [
    "plot_roc(y_test, y_predicted, plot_micro=False)"
   ]
  },
  {
   "cell_type": "code",
   "execution_count": 164,
   "metadata": {},
   "outputs": [
    {
     "name": "stderr",
     "output_type": "stream",
     "text": [
      "/home/usuario/anaconda3/lib/python3.6/site-packages/sklearn/utils/deprecation.py:125: FutureWarning: You are accessing a training score ('split0_train_score'), which will not be available by default any more in 0.21. If you need training scores, please set return_train_score=True\n",
      "  warnings.warn(*warn_args, **warn_kwargs)\n",
      "/home/usuario/anaconda3/lib/python3.6/site-packages/sklearn/utils/deprecation.py:125: FutureWarning: You are accessing a training score ('split1_train_score'), which will not be available by default any more in 0.21. If you need training scores, please set return_train_score=True\n",
      "  warnings.warn(*warn_args, **warn_kwargs)\n",
      "/home/usuario/anaconda3/lib/python3.6/site-packages/sklearn/utils/deprecation.py:125: FutureWarning: You are accessing a training score ('mean_train_score'), which will not be available by default any more in 0.21. If you need training scores, please set return_train_score=True\n",
      "  warnings.warn(*warn_args, **warn_kwargs)\n",
      "/home/usuario/anaconda3/lib/python3.6/site-packages/sklearn/utils/deprecation.py:125: FutureWarning: You are accessing a training score ('std_train_score'), which will not be available by default any more in 0.21. If you need training scores, please set return_train_score=True\n",
      "  warnings.warn(*warn_args, **warn_kwargs)\n"
     ]
    }
   ],
   "source": [
    "pd.DataFrame(rs.cv_results_).to_csv(\"svm_results.csv\", index=False, sep = \"|\")"
   ]
  },
  {
   "cell_type": "code",
   "execution_count": null,
   "metadata": {
    "collapsed": true
   },
   "outputs": [],
   "source": [
    "### NaiveBayes"
   ]
  },
  {
   "cell_type": "code",
   "execution_count": 64,
   "metadata": {
    "collapsed": true
   },
   "outputs": [],
   "source": [
    "from sklearn.naive_bayes import GaussianNB"
   ]
  },
  {
   "cell_type": "code",
   "execution_count": 65,
   "metadata": {
    "collapsed": true
   },
   "outputs": [],
   "source": [
    "nb = GaussianNB()"
   ]
  },
  {
   "cell_type": "code",
   "execution_count": 66,
   "metadata": {
    "collapsed": true
   },
   "outputs": [],
   "source": [
    "pipeline = make_pipeline(fe_union, pca, resampling_step, f_selection_step,nb)"
   ]
  },
  {
   "cell_type": "code",
   "execution_count": 67,
   "metadata": {
    "collapsed": true
   },
   "outputs": [],
   "source": [
    "params = {\"featureunion__neigh_pipeline__encoder\":[OneHotEncoder(categories=[neigh_top10],sparse = False,handle_unknown=\"ignore\"),\n",
    "                                                     OneHotEncoder(categories=[neigh_top20],sparse = False,handle_unknown=\"ignore\"),\n",
    "                                                     OneHotEncoder(categories=[neigh_top30],sparse = False,handle_unknown=\"ignore\"),\n",
    "                                                  OneHotEncoder(sparse = False,handle_unknown=\"ignore\")], \n",
    "          \"pca\":[None, PCA()],\n",
    "         \"smote\": [None,RandomUnderSampler(), SMOTE()], \n",
    "          \"selectpercentile__percentile\":[100,90,80,70]}\n",
    "         "
   ]
  },
  {
   "cell_type": "code",
   "execution_count": 68,
   "metadata": {
    "collapsed": true
   },
   "outputs": [],
   "source": [
    "my_cv = TimeSeriesSplit(n_splits=2).split(X_train)"
   ]
  },
  {
   "cell_type": "code",
   "execution_count": 69,
   "metadata": {
    "collapsed": true
   },
   "outputs": [],
   "source": [
    "rs = RandomizedSearchCV(estimator = pipeline, param_distributions=params,cv=my_cv, n_jobs=3, n_iter=20, scoring=\"roc_auc\")"
   ]
  },
  {
   "cell_type": "code",
   "execution_count": 70,
   "metadata": {},
   "outputs": [
    {
     "name": "stderr",
     "output_type": "stream",
     "text": [
      "/home/usuario/anaconda3/lib/python3.6/site-packages/imblearn/pipeline.py:190: DeprecationWarning: The 'cachedir' attribute has been deprecated in version 0.12 and will be removed in version 0.14.\n",
      "Use os.path.join(memory.location, 'joblib') attribute instead.\n",
      "  if memory.cachedir is None:\n"
     ]
    },
    {
     "data": {
      "text/plain": [
       "0.6528996138371886"
      ]
     },
     "execution_count": 70,
     "metadata": {},
     "output_type": "execute_result"
    }
   ],
   "source": [
    "rs.fit(X_train, y_train)\n",
    "rs.best_score_"
   ]
  },
  {
   "cell_type": "code",
   "execution_count": 71,
   "metadata": {},
   "outputs": [
    {
     "data": {
      "text/plain": [
       "0.6911629586415446"
      ]
     },
     "execution_count": 71,
     "metadata": {},
     "output_type": "execute_result"
    }
   ],
   "source": [
    "y_predicted = rs.predict_proba(X_test)\n",
    "roc_auc_score(y_test, y_predicted[:,1])"
   ]
  },
  {
   "cell_type": "code",
   "execution_count": 73,
   "metadata": {},
   "outputs": [
    {
     "data": {
      "text/plain": [
       "<matplotlib.axes._subplots.AxesSubplot at 0x7fd2dd6967b8>"
      ]
     },
     "execution_count": 73,
     "metadata": {},
     "output_type": "execute_result"
    },
    {
     "data": {
      "image/png": "[encoded data removed]",
      "text/plain": [
       "<Figure size 432x288 with 1 Axes>"
      ]
     },
     "metadata": {},
     "output_type": "display_data"
    }
   ],
   "source": [
    "plot_roc(y_test, y_predicted, plot_micro=False)"
   ]
  },
  {
   "cell_type": "code",
   "execution_count": 72,
   "metadata": {},
   "outputs": [
    {
     "name": "stderr",
     "output_type": "stream",
     "text": [
      "/home/usuario/anaconda3/lib/python3.6/site-packages/sklearn/utils/deprecation.py:125: FutureWarning: You are accessing a training score ('split0_train_score'), which will not be available by default any more in 0.21. If you need training scores, please set return_train_score=True\n",
      "  warnings.warn(*warn_args, **warn_kwargs)\n",
      "/home/usuario/anaconda3/lib/python3.6/site-packages/sklearn/utils/deprecation.py:125: FutureWarning: You are accessing a training score ('split1_train_score'), which will not be available by default any more in 0.21. If you need training scores, please set return_train_score=True\n",
      "  warnings.warn(*warn_args, **warn_kwargs)\n",
      "/home/usuario/anaconda3/lib/python3.6/site-packages/sklearn/utils/deprecation.py:125: FutureWarning: You are accessing a training score ('mean_train_score'), which will not be available by default any more in 0.21. If you need training scores, please set return_train_score=True\n",
      "  warnings.warn(*warn_args, **warn_kwargs)\n",
      "/home/usuario/anaconda3/lib/python3.6/site-packages/sklearn/utils/deprecation.py:125: FutureWarning: You are accessing a training score ('std_train_score'), which will not be available by default any more in 0.21. If you need training scores, please set return_train_score=True\n",
      "  warnings.warn(*warn_args, **warn_kwargs)\n"
     ]
    }
   ],
   "source": [
    "pd.DataFrame(rs.cv_results_).to_csv(\"nb_results.csv\", index=False, sep = \"|\")"
   ]
  },
  {
   "cell_type": "markdown",
   "metadata": {},
   "source": [
    "### Logistic regression pipeline"
   ]
  },
  {
   "cell_type": "code",
   "execution_count": 37,
   "metadata": {
    "collapsed": true
   },
   "outputs": [],
   "source": [
    "from sklearn.linear_model import LogisticRegression"
   ]
  },
  {
   "cell_type": "code",
   "execution_count": 38,
   "metadata": {
    "collapsed": true
   },
   "outputs": [],
   "source": [
    "logistic = LogisticRegression()"
   ]
  },
  {
   "cell_type": "code",
   "execution_count": 39,
   "metadata": {
    "collapsed": true
   },
   "outputs": [],
   "source": [
    "pipeline = make_pipeline(fe_union, pca, resampling_step, f_selection_step,logistic)"
   ]
  },
  {
   "cell_type": "code",
   "execution_count": 40,
   "metadata": {
    "collapsed": true
   },
   "outputs": [],
   "source": [
    "params = {\"featureunion__neigh_pipeline__encoder\":[OneHotEncoder(categories=[neigh_top10],sparse = False,handle_unknown=\"ignore\"),\n",
    "                                                     OneHotEncoder(categories=[neigh_top20],sparse = False,handle_unknown=\"ignore\"),\n",
    "                                                     OneHotEncoder(categories=[neigh_top30],sparse = False,handle_unknown=\"ignore\"),\n",
    "                                                  OneHotEncoder(sparse = False,handle_unknown=\"ignore\")], \n",
    "          \"pca\":[None, PCA()],\n",
    "         \"smote\": [None,RandomUnderSampler(), SMOTE()], \n",
    "          \"selectpercentile__percentile\":[100,90,80,70],\n",
    "         \"logisticregression__C\":[1,2,0.9,0.7,0.5,3.4]}\n",
    "         "
   ]
  },
  {
   "cell_type": "code",
   "execution_count": 41,
   "metadata": {
    "collapsed": true
   },
   "outputs": [],
   "source": [
    "my_cv = TimeSeriesSplit(n_splits=3).split(X_train)"
   ]
  },
  {
   "cell_type": "code",
   "execution_count": 42,
   "metadata": {
    "collapsed": true
   },
   "outputs": [],
   "source": [
    "rs = RandomizedSearchCV(estimator = pipeline, param_distributions=params,cv=my_cv, n_jobs=3, n_iter=20, scoring=\"roc_auc\")"
   ]
  },
  {
   "cell_type": "code",
   "execution_count": 43,
   "metadata": {},
   "outputs": [
    {
     "name": "stderr",
     "output_type": "stream",
     "text": [
      "/home/usuario/anaconda3/lib/python3.6/site-packages/sklearn/externals/joblib/externals/loky/process_executor.py:706: UserWarning: A worker stopped while some jobs were given to the executor. This can be caused by a too short worker timeout or by a memory leak.\n",
      "  \"timeout or by a memory leak.\", UserWarning\n",
      "/home/usuario/anaconda3/lib/python3.6/site-packages/sklearn/feature_selection/univariate_selection.py:114: UserWarning: Features [20 56 57] are constant.\n",
      "  UserWarning)\n",
      "/home/usuario/anaconda3/lib/python3.6/site-packages/sklearn/feature_selection/univariate_selection.py:115: RuntimeWarning: invalid value encountered in true_divide\n",
      "  f = msb / msw\n",
      "/home/usuario/anaconda3/lib/python3.6/site-packages/sklearn/linear_model/logistic.py:433: FutureWarning: Default solver will be changed to 'lbfgs' in 0.22. Specify a solver to silence this warning.\n",
      "  FutureWarning)\n"
     ]
    },
    {
     "data": {
      "text/plain": [
       "0.6527693964589576"
      ]
     },
     "execution_count": 43,
     "metadata": {},
     "output_type": "execute_result"
    }
   ],
   "source": [
    "rs.fit(X_train, y_train)\n",
    "rs.best_score_"
   ]
  },
  {
   "cell_type": "code",
   "execution_count": 44,
   "metadata": {},
   "outputs": [
    {
     "data": {
      "text/plain": [
       "0.70795685165987"
      ]
     },
     "execution_count": 44,
     "metadata": {},
     "output_type": "execute_result"
    }
   ],
   "source": [
    "y_predicted = rs.predict_proba(X_test)\n",
    "roc_auc_score(y_test, y_predicted[:,1])"
   ]
  },
  {
   "cell_type": "code",
   "execution_count": 47,
   "metadata": {},
   "outputs": [
    {
     "data": {
      "text/plain": [
       "<matplotlib.axes._subplots.AxesSubplot at 0x7f4f3d1a0748>"
      ]
     },
     "execution_count": 47,
     "metadata": {},
     "output_type": "execute_result"
    },
    {
     "data": {
      "image/png": "[encoded data removed]",
      "text/plain": [
       "<Figure size 432x288 with 1 Axes>"
      ]
     },
     "metadata": {},
     "output_type": "display_data"
    }
   ],
   "source": [
    "plot_roc(y_test, y_predicted, plot_micro=False)"
   ]
  },
  {
   "cell_type": "code",
   "execution_count": 48,
   "metadata": {},
   "outputs": [
    {
     "name": "stderr",
     "output_type": "stream",
     "text": [
      "/home/usuario/anaconda3/lib/python3.6/site-packages/sklearn/utils/deprecation.py:125: FutureWarning: You are accessing a training score ('split0_train_score'), which will not be available by default any more in 0.21. If you need training scores, please set return_train_score=True\n",
      "  warnings.warn(*warn_args, **warn_kwargs)\n",
      "/home/usuario/anaconda3/lib/python3.6/site-packages/sklearn/utils/deprecation.py:125: FutureWarning: You are accessing a training score ('split1_train_score'), which will not be available by default any more in 0.21. If you need training scores, please set return_train_score=True\n",
      "  warnings.warn(*warn_args, **warn_kwargs)\n",
      "/home/usuario/anaconda3/lib/python3.6/site-packages/sklearn/utils/deprecation.py:125: FutureWarning: You are accessing a training score ('split2_train_score'), which will not be available by default any more in 0.21. If you need training scores, please set return_train_score=True\n",
      "  warnings.warn(*warn_args, **warn_kwargs)\n",
      "/home/usuario/anaconda3/lib/python3.6/site-packages/sklearn/utils/deprecation.py:125: FutureWarning: You are accessing a training score ('mean_train_score'), which will not be available by default any more in 0.21. If you need training scores, please set return_train_score=True\n",
      "  warnings.warn(*warn_args, **warn_kwargs)\n",
      "/home/usuario/anaconda3/lib/python3.6/site-packages/sklearn/utils/deprecation.py:125: FutureWarning: You are accessing a training score ('std_train_score'), which will not be available by default any more in 0.21. If you need training scores, please set return_train_score=True\n",
      "  warnings.warn(*warn_args, **warn_kwargs)\n"
     ]
    }
   ],
   "source": [
    "pd.DataFrame(rs.cv_results_).to_csv(\"logistic_results.csv\", index=False, sep = \"|\")"
   ]
  },
  {
   "cell_type": "markdown",
   "metadata": {},
   "source": [
    "### RandomForest Pipeline"
   ]
  },
  {
   "cell_type": "code",
   "execution_count": 50,
   "metadata": {
    "collapsed": true
   },
   "outputs": [],
   "source": [
    "from sklearn.ensemble import RandomForestClassifier"
   ]
  },
  {
   "cell_type": "code",
   "execution_count": 51,
   "metadata": {
    "collapsed": true
   },
   "outputs": [],
   "source": [
    "rf = RandomForestClassifier()"
   ]
  },
  {
   "cell_type": "code",
   "execution_count": 57,
   "metadata": {
    "collapsed": true
   },
   "outputs": [],
   "source": [
    "import scipy.stats as st\n",
    "one_to_left = st.beta(10, 1)"
   ]
  },
  {
   "cell_type": "code",
   "execution_count": 58,
   "metadata": {
    "collapsed": true
   },
   "outputs": [],
   "source": [
    "pipeline = make_pipeline(fe_union, pca, resampling_step, f_selection_step,rf)"
   ]
  },
  {
   "cell_type": "code",
   "execution_count": 59,
   "metadata": {},
   "outputs": [
    {
     "data": {
      "text/plain": [
       "[('featureunion', FeatureUnion(n_jobs=None,\n",
       "         transformer_list=[('neigh_pipeline', Pipeline(memory=None,\n",
       "       steps=[('select', FunctionTransformer(accept_sparse=False, check_inverse=True,\n",
       "            func=<function select_column_1 at 0x7f4f57d0ff28>,\n",
       "            inv_kw_args=None, inverse_func=None, kw_args=None,\n",
       "            pass_y='deprecated', vali...v_kw_args=None, inverse_func=None, kw_args=None,\n",
       "            pass_y='deprecated', validate=False))]))],\n",
       "         transformer_weights=None)),\n",
       " ('pca',\n",
       "  PCA(copy=True, iterated_power='auto', n_components=None, random_state=None,\n",
       "    svd_solver='auto', tol=0.0, whiten=False)),\n",
       " ('smote',\n",
       "  SMOTE(k=None, k_neighbors=5, kind='regular', m=None, m_neighbors=10, n_jobs=1,\n",
       "     out_step=0.5, random_state=None, ratio='auto', svm_estimator=None)),\n",
       " ('selectpercentile', SelectPercentile(percentile=10,\n",
       "           score_func=<function f_classif at 0x7f4f5431b730>)),\n",
       " ('randomforestclassifier',\n",
       "  RandomForestClassifier(bootstrap=True, class_weight=None, criterion='gini',\n",
       "              max_depth=None, max_features='auto', max_leaf_nodes=None,\n",
       "              min_impurity_decrease=0.0, min_impurity_split=None,\n",
       "              min_samples_leaf=1, min_samples_split=2,\n",
       "              min_weight_fraction_leaf=0.0, n_estimators='warn', n_jobs=None,\n",
       "              oob_score=False, random_state=None, verbose=0,\n",
       "              warm_start=False))]"
      ]
     },
     "execution_count": 59,
     "metadata": {},
     "output_type": "execute_result"
    }
   ],
   "source": [
    "pipeline.steps"
   ]
  },
  {
   "cell_type": "code",
   "execution_count": 60,
   "metadata": {
    "collapsed": true
   },
   "outputs": [],
   "source": [
    "params = {\"featureunion__neigh_pipeline__encoder\":[OneHotEncoder(categories=[neigh_top10], sparse=False, handle_unknown=\"ignore\"),\n",
    "                                                     OneHotEncoder(categories=[neigh_top20],sparse=False, handle_unknown=\"ignore\"),\n",
    "                                                     OneHotEncoder(categories=[neigh_top30],sparse=False, handle_unknown=\"ignore\"),\n",
    "                                                  OneHotEncoder(handle_unknown=\"ignore\",sparse=False)],\n",
    "          \"pca\":[None, PCA()],\n",
    "         \"smote\": [None,RandomUnderSampler(), SMOTE()], \n",
    "          \"selectpercentile__percentile\":[100,90,80,70],\n",
    "             \"randomforestclassifier__n_estimators\": [50,100,150,200,250], # Number of boosted trees to fit.\n",
    "    \"randomforestclassifier__max_depth\": st.randint(3, 25),     # Maximum tree depth for base learners.\n",
    "    \"randomforestclassifier__min_impurity_decrease\": [0.0,0.1,0.15,0.2,0.25,0.3]}"
   ]
  },
  {
   "cell_type": "code",
   "execution_count": 61,
   "metadata": {
    "collapsed": true
   },
   "outputs": [],
   "source": [
    "my_cv = TimeSeriesSplit(n_splits=2).split(X_train)"
   ]
  },
  {
   "cell_type": "code",
   "execution_count": 62,
   "metadata": {
    "collapsed": true
   },
   "outputs": [],
   "source": [
    "rs = RandomizedSearchCV(estimator = pipeline, param_distributions=params,cv=my_cv, n_jobs=3, n_iter=40, scoring=\"roc_auc\")"
   ]
  },
  {
   "cell_type": "code",
   "execution_count": 63,
   "metadata": {},
   "outputs": [
    {
     "name": "stderr",
     "output_type": "stream",
     "text": [
      "/home/usuario/anaconda3/lib/python3.6/site-packages/sklearn/externals/joblib/externals/loky/process_executor.py:706: UserWarning: A worker stopped while some jobs were given to the executor. This can be caused by a too short worker timeout or by a memory leak.\n",
      "  \"timeout or by a memory leak.\", UserWarning\n",
      "/home/usuario/anaconda3/lib/python3.6/site-packages/sklearn/feature_selection/univariate_selection.py:114: UserWarning: Features [20 56 57] are constant.\n",
      "  UserWarning)\n",
      "/home/usuario/anaconda3/lib/python3.6/site-packages/sklearn/feature_selection/univariate_selection.py:115: RuntimeWarning: invalid value encountered in true_divide\n",
      "  f = msb / msw\n"
     ]
    },
    {
     "data": {
      "text/plain": [
       "RandomizedSearchCV(cv=<generator object TimeSeriesSplit.split at 0x7f4f3d03d1a8>,\n",
       "          error_score='raise-deprecating',\n",
       "          estimator=Pipeline(memory=None,\n",
       "     steps=[('featureunion', FeatureUnion(n_jobs=None,\n",
       "       transformer_list=[('neigh_pipeline', Pipeline(memory=None,\n",
       "     steps=[('select', FunctionTransformer(accept_sparse=False, check_inverse=True,\n",
       "          func=<function select_column_1 at 0x7f4f57d0ff28>,\n",
       "          inv_kw_args=None, inverse_fun...obs=None,\n",
       "            oob_score=False, random_state=None, verbose=0,\n",
       "            warm_start=False))]),\n",
       "          fit_params=None, iid='warn', n_iter=40, n_jobs=3,\n",
       "          param_distributions={'featureunion__neigh_pipeline__encoder': [OneHotEncoder(categorical_features=None,\n",
       "       categories=[array([ 4,  6,  8, 24, 26, 32, 36, 39, 50, 68])],\n",
       "       dtype=<class 'numpy.float64'>, handle_unknown='ignore',\n",
       "       n_values=None, sparse=False), OneHotEncoder(categorical_f... 0x7f4f3d051080>, 'randomforestclassifier__min_impurity_decrease': [0.0, 0.1, 0.15, 0.2, 0.25, 0.3]},\n",
       "          pre_dispatch='2*n_jobs', random_state=None, refit=True,\n",
       "          return_train_score='warn', scoring='roc_auc', verbose=0)"
      ]
     },
     "execution_count": 63,
     "metadata": {},
     "output_type": "execute_result"
    }
   ],
   "source": [
    "rs.fit(X_train, y_train)"
   ]
  },
  {
   "cell_type": "code",
   "execution_count": 64,
   "metadata": {},
   "outputs": [
    {
     "data": {
      "text/plain": [
       "0.7486621697043783"
      ]
     },
     "execution_count": 64,
     "metadata": {},
     "output_type": "execute_result"
    }
   ],
   "source": [
    "rs.best_score_"
   ]
  },
  {
   "cell_type": "code",
   "execution_count": 65,
   "metadata": {},
   "outputs": [
    {
     "data": {
      "text/plain": [
       "0.7405452914570377"
      ]
     },
     "execution_count": 65,
     "metadata": {},
     "output_type": "execute_result"
    }
   ],
   "source": [
    "y_predicted = rs.predict_proba(X_test)\n",
    "roc_auc_score(y_test, y_predicted[:,1])"
   ]
  },
  {
   "cell_type": "code",
   "execution_count": 66,
   "metadata": {},
   "outputs": [
    {
     "data": {
      "text/plain": [
       "<matplotlib.axes._subplots.AxesSubplot at 0x7f4f3d0057f0>"
      ]
     },
     "execution_count": 66,
     "metadata": {},
     "output_type": "execute_result"
    },
    {
     "data": {
      "image/png": "[encoded data removed]",
      "text/plain": [
       "<Figure size 432x288 with 1 Axes>"
      ]
     },
     "metadata": {},
     "output_type": "display_data"
    }
   ],
   "source": [
    "plot_roc(y_test, y_predicted, plot_micro=False)"
   ]
  },
  {
   "cell_type": "code",
   "execution_count": 67,
   "metadata": {},
   "outputs": [
    {
     "name": "stderr",
     "output_type": "stream",
     "text": [
      "/home/usuario/anaconda3/lib/python3.6/site-packages/sklearn/utils/deprecation.py:125: FutureWarning: You are accessing a training score ('split0_train_score'), which will not be available by default any more in 0.21. If you need training scores, please set return_train_score=True\n",
      "  warnings.warn(*warn_args, **warn_kwargs)\n",
      "/home/usuario/anaconda3/lib/python3.6/site-packages/sklearn/utils/deprecation.py:125: FutureWarning: You are accessing a training score ('split1_train_score'), which will not be available by default any more in 0.21. If you need training scores, please set return_train_score=True\n",
      "  warnings.warn(*warn_args, **warn_kwargs)\n",
      "/home/usuario/anaconda3/lib/python3.6/site-packages/sklearn/utils/deprecation.py:125: FutureWarning: You are accessing a training score ('mean_train_score'), which will not be available by default any more in 0.21. If you need training scores, please set return_train_score=True\n",
      "  warnings.warn(*warn_args, **warn_kwargs)\n",
      "/home/usuario/anaconda3/lib/python3.6/site-packages/sklearn/utils/deprecation.py:125: FutureWarning: You are accessing a training score ('std_train_score'), which will not be available by default any more in 0.21. If you need training scores, please set return_train_score=True\n",
      "  warnings.warn(*warn_args, **warn_kwargs)\n"
     ]
    }
   ],
   "source": [
    "pd.DataFrame(rs.cv_results_).to_csv(\"random_f_results.csv\", index=False, sep = \"|\")"
   ]
  },
  {
   "cell_type": "markdown",
   "metadata": {},
   "source": [
    "### LightGBM pipeline"
   ]
  },
  {
   "cell_type": "code",
   "execution_count": 74,
   "metadata": {
    "collapsed": true
   },
   "outputs": [],
   "source": [
    "from lightgbm.sklearn import LGBMClassifier"
   ]
  },
  {
   "cell_type": "code",
   "execution_count": 76,
   "metadata": {
    "collapsed": true
   },
   "outputs": [],
   "source": [
    "model = LGBMClassifier()"
   ]
  },
  {
   "cell_type": "code",
   "execution_count": 77,
   "metadata": {
    "collapsed": true
   },
   "outputs": [],
   "source": [
    "pipeline = make_pipeline(fe_union, pca, resampling_step, f_selection_step,model)"
   ]
  },
  {
   "cell_type": "code",
   "execution_count": 79,
   "metadata": {
    "collapsed": true
   },
   "outputs": [],
   "source": [
    "params = {\"featureunion__neigh_pipeline__encoder\":[OneHotEncoder(categories=[neigh_top10], sparse=False, handle_unknown=\"ignore\"),\n",
    "                                                     OneHotEncoder(categories=[neigh_top20],sparse=False, handle_unknown=\"ignore\"),\n",
    "                                                     OneHotEncoder(categories=[neigh_top30],sparse=False, handle_unknown=\"ignore\"),\n",
    "                                                  OneHotEncoder(handle_unknown=\"ignore\",sparse=False)],\n",
    "          \"pca\":[None, PCA()],\n",
    "         \"smote\": [None,RandomUnderSampler(), SMOTE()], \n",
    "          \"selectpercentile__percentile\":[100,90,80,70],\n",
    "             \"lgbmclassifier__n_estimators\": [50,100,150,200,250], # Number of boosted trees to fit.\n",
    "    \"lgbmclassifier__max_depth\": st.randint(3, 12),     # Maximum tree depth for base learners.\n",
    "    \"lgbmclassifier__learning_rate\": st.uniform(0.05, 0.4), #     Boosting learning rate (xgb’s “eta”)\n",
    "    \"lgbmclassifier__colsample_bytree\": one_to_left, #     Subsampl/e ratio of columns when constructing each tree.\n",
    "    \"lgbmclassifier__subsample\": one_to_left,     # Subsample ratio of the training instance.\n",
    "    \"lgbmclassifier__gamma\": st.uniform(0, 10), #     Minimum loss reduction required to make a further partition on a leaf node of the tree.\n",
    "    'lgbmclassifier__reg_alpha': st.uniform(0.05,10),   # L1 regularization term on weights\n",
    "    \"lgbmclassifier__min_child_weight\": st.uniform(1,20) #    Minimum sum of instance weight(hessian) needed in a child.\n",
    "         }"
   ]
  },
  {
   "cell_type": "code",
   "execution_count": 80,
   "metadata": {
    "collapsed": true
   },
   "outputs": [],
   "source": [
    "my_cv = TimeSeriesSplit(n_splits=2).split(X_train)"
   ]
  },
  {
   "cell_type": "code",
   "execution_count": 81,
   "metadata": {
    "collapsed": true
   },
   "outputs": [],
   "source": [
    "rs = RandomizedSearchCV(estimator = pipeline, param_distributions=params,cv=my_cv, n_jobs=3, n_iter=40, scoring=\"roc_auc\")"
   ]
  },
  {
   "cell_type": "code",
   "execution_count": 82,
   "metadata": {},
   "outputs": [
    {
     "name": "stderr",
     "output_type": "stream",
     "text": [
      "/home/usuario/anaconda3/lib/python3.6/site-packages/sklearn/externals/joblib/externals/loky/process_executor.py:706: UserWarning: A worker stopped while some jobs were given to the executor. This can be caused by a too short worker timeout or by a memory leak.\n",
      "  \"timeout or by a memory leak.\", UserWarning\n",
      "/home/usuario/anaconda3/lib/python3.6/site-packages/imblearn/pipeline.py:190: DeprecationWarning: The 'cachedir' attribute has been deprecated in version 0.12 and will be removed in version 0.14.\n",
      "Use os.path.join(memory.location, 'joblib') attribute instead.\n",
      "  if memory.cachedir is None:\n",
      "/home/usuario/anaconda3/lib/python3.6/site-packages/imblearn/pipeline.py:190: DeprecationWarning: The 'cachedir' attribute has been deprecated in version 0.12 and will be removed in version 0.14.\n",
      "Use os.path.join(memory.location, 'joblib') attribute instead.\n",
      "  if memory.cachedir is None:\n",
      "/home/usuario/anaconda3/lib/python3.6/site-packages/imblearn/pipeline.py:190: DeprecationWarning: The 'cachedir' attribute has been deprecated in version 0.12 and will be removed in version 0.14.\n",
      "Use os.path.join(memory.location, 'joblib') attribute instead.\n",
      "  if memory.cachedir is None:\n",
      "/home/usuario/anaconda3/lib/python3.6/site-packages/imblearn/pipeline.py:190: DeprecationWarning: The 'cachedir' attribute has been deprecated in version 0.12 and will be removed in version 0.14.\n",
      "Use os.path.join(memory.location, 'joblib') attribute instead.\n",
      "  if memory.cachedir is None:\n",
      "/home/usuario/anaconda3/lib/python3.6/site-packages/imblearn/pipeline.py:190: DeprecationWarning: The 'cachedir' attribute has been deprecated in version 0.12 and will be removed in version 0.14.\n",
      "Use os.path.join(memory.location, 'joblib') attribute instead.\n",
      "  if memory.cachedir is None:\n",
      "/home/usuario/anaconda3/lib/python3.6/site-packages/sklearn/feature_selection/univariate_selection.py:114: UserWarning: Features [20 56 57] are constant.\n",
      "  UserWarning)\n",
      "/home/usuario/anaconda3/lib/python3.6/site-packages/sklearn/feature_selection/univariate_selection.py:115: RuntimeWarning: invalid value encountered in true_divide\n",
      "  f = msb / msw\n"
     ]
    },
    {
     "data": {
      "text/plain": [
       "RandomizedSearchCV(cv=<generator object TimeSeriesSplit.split at 0x7fd2e0a3de60>,\n",
       "          error_score='raise-deprecating',\n",
       "          estimator=Pipeline(memory=None,\n",
       "     steps=[('featureunion', FeatureUnion(n_jobs=None,\n",
       "       transformer_list=[('neigh_pipeline', Pipeline(memory=None,\n",
       "     steps=[('select', FunctionTransformer(accept_sparse=False, check_inverse=True,\n",
       "          func=<function select_column_1 at 0x7fd2f0a93ea0>,\n",
       "          inv_kw_args=None, inverse_fun...0, reg_lambda=0.0, silent=True, subsample=1.0,\n",
       "        subsample_for_bin=200000, subsample_freq=1))]),\n",
       "          fit_params=None, iid='warn', n_iter=40, n_jobs=3,\n",
       "          param_distributions={'featureunion__neigh_pipeline__encoder': [OneHotEncoder(categorical_features=None,\n",
       "       categories=[array([ 4,  6,  8, 24, 26, 32, 36, 39, 50, 68])],\n",
       "       dtype=<class 'numpy.float64'>, handle_unknown='ignore',\n",
       "       n_values=None, sparse=False), OneHotEncoder(categorical_f...assifier__min_child_weight': <scipy.stats._distn_infrastructure.rv_frozen object at 0x7fd2dd5e6cc0>},\n",
       "          pre_dispatch='2*n_jobs', random_state=None, refit=True,\n",
       "          return_train_score='warn', scoring='roc_auc', verbose=0)"
      ]
     },
     "execution_count": 82,
     "metadata": {},
     "output_type": "execute_result"
    }
   ],
   "source": [
    "rs.fit(X_train, y_train)"
   ]
  },
  {
   "cell_type": "code",
   "execution_count": 83,
   "metadata": {},
   "outputs": [
    {
     "data": {
      "text/plain": [
       "0.7511577693290333"
      ]
     },
     "execution_count": 83,
     "metadata": {},
     "output_type": "execute_result"
    }
   ],
   "source": [
    "rs.best_score_ # Best score in CV"
   ]
  },
  {
   "cell_type": "code",
   "execution_count": 84,
   "metadata": {
    "collapsed": true
   },
   "outputs": [],
   "source": [
    "y_predicted = rs.predict_proba(X_test)"
   ]
  },
  {
   "cell_type": "code",
   "execution_count": 85,
   "metadata": {},
   "outputs": [
    {
     "data": {
      "text/plain": [
       "0.7420955637866895"
      ]
     },
     "execution_count": 85,
     "metadata": {},
     "output_type": "execute_result"
    }
   ],
   "source": [
    "roc_auc_score(y_test, y_predicted[:,1])"
   ]
  },
  {
   "cell_type": "code",
   "execution_count": 86,
   "metadata": {},
   "outputs": [
    {
     "data": {
      "text/plain": [
       "<matplotlib.axes._subplots.AxesSubplot at 0x7fd2dd5ebc18>"
      ]
     },
     "execution_count": 86,
     "metadata": {},
     "output_type": "execute_result"
    },
    {
     "data": {
      "image/png": "[encoded data removed]",
      "text/plain": [
       "<Figure size 432x288 with 1 Axes>"
      ]
     },
     "metadata": {},
     "output_type": "display_data"
    }
   ],
   "source": [
    "plot_roc(y_test, y_predicted, plot_micro=False)"
   ]
  },
  {
   "cell_type": "code",
   "execution_count": 87,
   "metadata": {},
   "outputs": [
    {
     "name": "stderr",
     "output_type": "stream",
     "text": [
      "/home/usuario/anaconda3/lib/python3.6/site-packages/sklearn/utils/deprecation.py:125: FutureWarning: You are accessing a training score ('split0_train_score'), which will not be available by default any more in 0.21. If you need training scores, please set return_train_score=True\n",
      "  warnings.warn(*warn_args, **warn_kwargs)\n",
      "/home/usuario/anaconda3/lib/python3.6/site-packages/sklearn/utils/deprecation.py:125: FutureWarning: You are accessing a training score ('split1_train_score'), which will not be available by default any more in 0.21. If you need training scores, please set return_train_score=True\n",
      "  warnings.warn(*warn_args, **warn_kwargs)\n",
      "/home/usuario/anaconda3/lib/python3.6/site-packages/sklearn/utils/deprecation.py:125: FutureWarning: You are accessing a training score ('mean_train_score'), which will not be available by default any more in 0.21. If you need training scores, please set return_train_score=True\n",
      "  warnings.warn(*warn_args, **warn_kwargs)\n",
      "/home/usuario/anaconda3/lib/python3.6/site-packages/sklearn/utils/deprecation.py:125: FutureWarning: You are accessing a training score ('std_train_score'), which will not be available by default any more in 0.21. If you need training scores, please set return_train_score=True\n",
      "  warnings.warn(*warn_args, **warn_kwargs)\n"
     ]
    }
   ],
   "source": [
    "pd.DataFrame(rs.cv_results_).to_csv(\"lgbm_results.csv\", index=False, sep = \"|\")"
   ]
  },
  {
   "cell_type": "markdown",
   "metadata": {},
   "source": [
    "### CatBoost"
   ]
  },
  {
   "cell_type": "code",
   "execution_count": 68,
   "metadata": {
    "collapsed": true
   },
   "outputs": [],
   "source": [
    "from catboost import CatBoostClassifier"
   ]
  },
  {
   "cell_type": "code",
   "execution_count": 69,
   "metadata": {
    "collapsed": true
   },
   "outputs": [],
   "source": [
    "cboost = CatBoostClassifier()"
   ]
  },
  {
   "cell_type": "code",
   "execution_count": 70,
   "metadata": {
    "collapsed": true
   },
   "outputs": [],
   "source": [
    "pipeline = make_pipeline(fe_union, pca, resampling_step, f_selection_step,cboost)"
   ]
  },
  {
   "cell_type": "code",
   "execution_count": 77,
   "metadata": {},
   "outputs": [
    {
     "data": {
      "text/plain": [
       "Pipeline(memory=None,\n",
       "     steps=[('featureunion', FeatureUnion(n_jobs=None,\n",
       "       transformer_list=[('neigh_pipeline', Pipeline(memory=None,\n",
       "     steps=[('select', FunctionTransformer(accept_sparse=False, check_inverse=True,\n",
       "          func=<function select_column_1 at 0x7f4f57d0ff28>,\n",
       "          inv_kw_args=None, inverse_fun...f4f5431b730>)), ('catboostclassifier', <catboost.core.CatBoostClassifier object at 0x7f4f3cfd30b8>)])"
      ]
     },
     "execution_count": 77,
     "metadata": {},
     "output_type": "execute_result"
    }
   ],
   "source": [
    "pipeline"
   ]
  },
  {
   "cell_type": "code",
   "execution_count": 72,
   "metadata": {
    "collapsed": true
   },
   "outputs": [],
   "source": [
    "params = {\"featureunion__neigh_pipeline__encoder\":[OneHotEncoder(categories=[neigh_top10], sparse=False, handle_unknown=\"ignore\"),\n",
    "                                                     OneHotEncoder(categories=[neigh_top20],sparse=False, handle_unknown=\"ignore\"),\n",
    "                                                     OneHotEncoder(categories=[neigh_top30],sparse=False, handle_unknown=\"ignore\"),\n",
    "                                                  OneHotEncoder(handle_unknown=\"ignore\",sparse=False)],\n",
    "          \"pca\":[None, PCA()],\n",
    "         \"smote\": [None,RandomUnderSampler(), SMOTE()], \n",
    "          \"selectpercentile__percentile\":[100,90,80,70],\n",
    "             \"catboostclassifier__iterations\": [50,100,150,200,250], # Number of boosted trees to fit.\n",
    "    \"catboostclassifier__depth\": st.randint(3, 12),     # Maximum tree depth for base learners.\n",
    "    \"catboostclassifier__learning_rate\": st.uniform(0.05, 0.4), #     Boosting learning rate (xgb’s “eta”)\n",
    "    \"catboostclassifier__rsm\": [0.2,0.3,0.4,0.5],\n",
    "    'catboostclassifier__l2_leaf_reg': st.uniform(0.05,10)\n",
    "         }"
   ]
  },
  {
   "cell_type": "code",
   "execution_count": 119,
   "metadata": {
    "collapsed": true
   },
   "outputs": [],
   "source": [
    "my_cv = TimeSeriesSplit(n_splits=2).split(X_train)"
   ]
  },
  {
   "cell_type": "code",
   "execution_count": 120,
   "metadata": {
    "collapsed": true
   },
   "outputs": [],
   "source": [
    "rs = RandomizedSearchCV(estimator = pipeline, param_distributions=params,cv=my_cv, n_jobs=3, n_iter=40, scoring=\"roc_auc\")"
   ]
  },
  {
   "cell_type": "code",
   "execution_count": 121,
   "metadata": {},
   "outputs": [
    {
     "name": "stderr",
     "output_type": "stream",
     "text": [
      "/home/usuario/anaconda3/lib/python3.6/site-packages/sklearn/externals/joblib/externals/loky/process_executor.py:706: UserWarning: A worker stopped while some jobs were given to the executor. This can be caused by a too short worker timeout or by a memory leak.\n",
      "  \"timeout or by a memory leak.\", UserWarning\n",
      "/home/usuario/anaconda3/lib/python3.6/site-packages/sklearn/feature_selection/univariate_selection.py:114: UserWarning: Features [20 56 57] are constant.\n",
      "  UserWarning)\n",
      "/home/usuario/anaconda3/lib/python3.6/site-packages/sklearn/feature_selection/univariate_selection.py:115: RuntimeWarning: invalid value encountered in true_divide\n",
      "  f = msb / msw\n"
     ]
    },
    {
     "name": "stdout",
     "output_type": "stream",
     "text": [
      "0:\tlearn: 0.6208791\ttotal: 75.8ms\tremaining: 18.9s\n",
      "1:\tlearn: 0.5716561\ttotal: 104ms\tremaining: 12.8s\n",
      "2:\tlearn: 0.5362457\ttotal: 130ms\tremaining: 10.7s\n",
      "3:\tlearn: 0.5110149\ttotal: 154ms\tremaining: 9.48s\n",
      "4:\tlearn: 0.4970593\ttotal: 175ms\tremaining: 8.59s\n",
      "5:\tlearn: 0.4854138\ttotal: 197ms\tremaining: 8.01s\n",
      "6:\tlearn: 0.4753974\ttotal: 220ms\tremaining: 7.65s\n",
      "7:\tlearn: 0.4680559\ttotal: 242ms\tremaining: 7.31s\n",
      "8:\tlearn: 0.4614730\ttotal: 263ms\tremaining: 7.03s\n",
      "9:\tlearn: 0.4566036\ttotal: 289ms\tremaining: 6.95s\n",
      "10:\tlearn: 0.4545623\ttotal: 315ms\tremaining: 6.83s\n",
      "11:\tlearn: 0.4525824\ttotal: 338ms\tremaining: 6.7s\n",
      "12:\tlearn: 0.4512186\ttotal: 360ms\tremaining: 6.55s\n",
      "13:\tlearn: 0.4499143\ttotal: 382ms\tremaining: 6.43s\n",
      "14:\tlearn: 0.4490510\ttotal: 403ms\tremaining: 6.31s\n",
      "15:\tlearn: 0.4472450\ttotal: 425ms\tremaining: 6.21s\n",
      "16:\tlearn: 0.4463550\ttotal: 445ms\tremaining: 6.11s\n",
      "17:\tlearn: 0.4450166\ttotal: 467ms\tremaining: 6.02s\n",
      "18:\tlearn: 0.4438888\ttotal: 491ms\tremaining: 5.97s\n",
      "19:\tlearn: 0.4435777\ttotal: 520ms\tremaining: 5.98s\n",
      "20:\tlearn: 0.4429007\ttotal: 541ms\tremaining: 5.9s\n",
      "21:\tlearn: 0.4422961\ttotal: 563ms\tremaining: 5.83s\n",
      "22:\tlearn: 0.4420485\ttotal: 585ms\tremaining: 5.78s\n",
      "23:\tlearn: 0.4415952\ttotal: 607ms\tremaining: 5.71s\n",
      "24:\tlearn: 0.4413659\ttotal: 628ms\tremaining: 5.66s\n",
      "25:\tlearn: 0.4411498\ttotal: 651ms\tremaining: 5.61s\n",
      "26:\tlearn: 0.4408152\ttotal: 673ms\tremaining: 5.55s\n",
      "27:\tlearn: 0.4404427\ttotal: 700ms\tremaining: 5.55s\n",
      "28:\tlearn: 0.4402453\ttotal: 725ms\tremaining: 5.53s\n",
      "29:\tlearn: 0.4401366\ttotal: 748ms\tremaining: 5.49s\n",
      "30:\tlearn: 0.4399791\ttotal: 770ms\tremaining: 5.44s\n",
      "31:\tlearn: 0.4398499\ttotal: 791ms\tremaining: 5.39s\n",
      "32:\tlearn: 0.4397137\ttotal: 814ms\tremaining: 5.35s\n",
      "33:\tlearn: 0.4394256\ttotal: 836ms\tremaining: 5.31s\n",
      "34:\tlearn: 0.4391978\ttotal: 858ms\tremaining: 5.27s\n",
      "35:\tlearn: 0.4390773\ttotal: 880ms\tremaining: 5.23s\n",
      "36:\tlearn: 0.4389821\ttotal: 908ms\tremaining: 5.22s\n",
      "37:\tlearn: 0.4388584\ttotal: 935ms\tremaining: 5.21s\n",
      "38:\tlearn: 0.4386986\ttotal: 956ms\tremaining: 5.17s\n",
      "39:\tlearn: 0.4386418\ttotal: 979ms\tremaining: 5.14s\n",
      "40:\tlearn: 0.4385261\ttotal: 1s\tremaining: 5.1s\n",
      "41:\tlearn: 0.4384606\ttotal: 1.02s\tremaining: 5.06s\n",
      "42:\tlearn: 0.4383888\ttotal: 1.04s\tremaining: 5.03s\n",
      "43:\tlearn: 0.4382604\ttotal: 1.07s\tremaining: 4.99s\n",
      "44:\tlearn: 0.4381124\ttotal: 1.09s\tremaining: 4.96s\n",
      "45:\tlearn: 0.4380017\ttotal: 1.11s\tremaining: 4.94s\n",
      "46:\tlearn: 0.4379298\ttotal: 1.14s\tremaining: 4.92s\n",
      "47:\tlearn: 0.4378586\ttotal: 1.16s\tremaining: 4.89s\n",
      "48:\tlearn: 0.4378034\ttotal: 1.18s\tremaining: 4.86s\n",
      "49:\tlearn: 0.4376827\ttotal: 1.21s\tremaining: 4.83s\n",
      "50:\tlearn: 0.4376026\ttotal: 1.23s\tremaining: 4.81s\n",
      "51:\tlearn: 0.4375122\ttotal: 1.25s\tremaining: 4.78s\n",
      "52:\tlearn: 0.4374578\ttotal: 1.28s\tremaining: 4.75s\n",
      "53:\tlearn: 0.4374036\ttotal: 1.3s\tremaining: 4.72s\n",
      "54:\tlearn: 0.4373312\ttotal: 1.32s\tremaining: 4.69s\n",
      "55:\tlearn: 0.4372567\ttotal: 1.35s\tremaining: 4.68s\n",
      "56:\tlearn: 0.4372135\ttotal: 1.37s\tremaining: 4.66s\n",
      "57:\tlearn: 0.4371748\ttotal: 1.4s\tremaining: 4.63s\n",
      "58:\tlearn: 0.4371236\ttotal: 1.42s\tremaining: 4.59s\n",
      "59:\tlearn: 0.4370769\ttotal: 1.44s\tremaining: 4.56s\n",
      "60:\tlearn: 0.4370068\ttotal: 1.46s\tremaining: 4.53s\n",
      "61:\tlearn: 0.4369193\ttotal: 1.48s\tremaining: 4.5s\n",
      "62:\tlearn: 0.4368634\ttotal: 1.51s\tremaining: 4.47s\n",
      "63:\tlearn: 0.4368029\ttotal: 1.54s\tremaining: 4.47s\n",
      "64:\tlearn: 0.4367603\ttotal: 1.56s\tremaining: 4.44s\n",
      "65:\tlearn: 0.4366965\ttotal: 1.58s\tremaining: 4.41s\n",
      "66:\tlearn: 0.4366453\ttotal: 1.6s\tremaining: 4.38s\n",
      "67:\tlearn: 0.4365913\ttotal: 1.63s\tremaining: 4.35s\n",
      "68:\tlearn: 0.4365634\ttotal: 1.65s\tremaining: 4.32s\n",
      "69:\tlearn: 0.4365026\ttotal: 1.67s\tremaining: 4.29s\n",
      "70:\tlearn: 0.4364632\ttotal: 1.69s\tremaining: 4.27s\n",
      "71:\tlearn: 0.4364021\ttotal: 1.72s\tremaining: 4.24s\n",
      "72:\tlearn: 0.4363688\ttotal: 1.74s\tremaining: 4.22s\n",
      "73:\tlearn: 0.4363385\ttotal: 1.77s\tremaining: 4.21s\n",
      "74:\tlearn: 0.4362868\ttotal: 1.79s\tremaining: 4.18s\n",
      "75:\tlearn: 0.4362651\ttotal: 1.81s\tremaining: 4.15s\n",
      "76:\tlearn: 0.4362281\ttotal: 1.84s\tremaining: 4.13s\n",
      "77:\tlearn: 0.4362103\ttotal: 1.86s\tremaining: 4.1s\n",
      "78:\tlearn: 0.4361748\ttotal: 1.88s\tremaining: 4.07s\n",
      "79:\tlearn: 0.4361404\ttotal: 1.9s\tremaining: 4.04s\n",
      "80:\tlearn: 0.4361008\ttotal: 1.92s\tremaining: 4.01s\n",
      "81:\tlearn: 0.4360471\ttotal: 1.94s\tremaining: 3.98s\n",
      "82:\tlearn: 0.4359584\ttotal: 1.97s\tremaining: 3.96s\n",
      "83:\tlearn: 0.4359281\ttotal: 1.99s\tremaining: 3.93s\n",
      "84:\tlearn: 0.4359075\ttotal: 2.01s\tremaining: 3.9s\n",
      "85:\tlearn: 0.4358841\ttotal: 2.03s\tremaining: 3.87s\n",
      "86:\tlearn: 0.4358603\ttotal: 2.05s\tremaining: 3.84s\n",
      "87:\tlearn: 0.4356727\ttotal: 2.07s\tremaining: 3.81s\n",
      "88:\tlearn: 0.4356449\ttotal: 2.09s\tremaining: 3.78s\n",
      "89:\tlearn: 0.4356060\ttotal: 2.11s\tremaining: 3.75s\n",
      "90:\tlearn: 0.4355808\ttotal: 2.13s\tremaining: 3.72s\n",
      "91:\tlearn: 0.4355313\ttotal: 2.15s\tremaining: 3.7s\n",
      "92:\tlearn: 0.4354665\ttotal: 2.18s\tremaining: 3.68s\n",
      "93:\tlearn: 0.4354507\ttotal: 2.2s\tremaining: 3.65s\n",
      "94:\tlearn: 0.4354043\ttotal: 2.22s\tremaining: 3.62s\n",
      "95:\tlearn: 0.4353840\ttotal: 2.24s\tremaining: 3.59s\n",
      "96:\tlearn: 0.4353501\ttotal: 2.25s\tremaining: 3.56s\n",
      "97:\tlearn: 0.4353043\ttotal: 2.27s\tremaining: 3.53s\n",
      "98:\tlearn: 0.4352414\ttotal: 2.29s\tremaining: 3.5s\n",
      "99:\tlearn: 0.4352073\ttotal: 2.31s\tremaining: 3.47s\n",
      "100:\tlearn: 0.4351805\ttotal: 2.33s\tremaining: 3.44s\n",
      "101:\tlearn: 0.4351653\ttotal: 2.35s\tremaining: 3.42s\n",
      "102:\tlearn: 0.4351327\ttotal: 2.38s\tremaining: 3.4s\n",
      "103:\tlearn: 0.4351050\ttotal: 2.4s\tremaining: 3.37s\n",
      "104:\tlearn: 0.4350486\ttotal: 2.42s\tremaining: 3.35s\n",
      "105:\tlearn: 0.4350063\ttotal: 2.44s\tremaining: 3.32s\n",
      "106:\tlearn: 0.4349445\ttotal: 2.46s\tremaining: 3.29s\n",
      "107:\tlearn: 0.4348893\ttotal: 2.48s\tremaining: 3.27s\n",
      "108:\tlearn: 0.4348599\ttotal: 2.5s\tremaining: 3.24s\n",
      "109:\tlearn: 0.4348343\ttotal: 2.52s\tremaining: 3.21s\n",
      "110:\tlearn: 0.4347942\ttotal: 2.54s\tremaining: 3.19s\n",
      "111:\tlearn: 0.4347474\ttotal: 2.57s\tremaining: 3.16s\n",
      "112:\tlearn: 0.4347277\ttotal: 2.59s\tremaining: 3.14s\n",
      "113:\tlearn: 0.4347069\ttotal: 2.61s\tremaining: 3.11s\n",
      "114:\tlearn: 0.4346508\ttotal: 2.63s\tremaining: 3.09s\n",
      "115:\tlearn: 0.4346301\ttotal: 2.65s\tremaining: 3.06s\n",
      "116:\tlearn: 0.4346070\ttotal: 2.67s\tremaining: 3.03s\n",
      "117:\tlearn: 0.4345627\ttotal: 2.69s\tremaining: 3.01s\n",
      "118:\tlearn: 0.4345076\ttotal: 2.71s\tremaining: 2.98s\n",
      "119:\tlearn: 0.4344679\ttotal: 2.73s\tremaining: 2.95s\n",
      "120:\tlearn: 0.4344435\ttotal: 2.75s\tremaining: 2.93s\n",
      "121:\tlearn: 0.4343778\ttotal: 2.77s\tremaining: 2.9s\n",
      "122:\tlearn: 0.4343463\ttotal: 2.79s\tremaining: 2.88s\n",
      "123:\tlearn: 0.4343314\ttotal: 2.81s\tremaining: 2.86s\n",
      "124:\tlearn: 0.4343039\ttotal: 2.83s\tremaining: 2.83s\n",
      "125:\tlearn: 0.4342785\ttotal: 2.85s\tremaining: 2.81s\n",
      "126:\tlearn: 0.4342611\ttotal: 2.87s\tremaining: 2.78s\n",
      "127:\tlearn: 0.4342267\ttotal: 2.89s\tremaining: 2.76s\n",
      "128:\tlearn: 0.4341672\ttotal: 2.91s\tremaining: 2.73s\n",
      "129:\tlearn: 0.4341462\ttotal: 2.93s\tremaining: 2.71s\n",
      "130:\tlearn: 0.4341109\ttotal: 2.95s\tremaining: 2.68s\n",
      "131:\tlearn: 0.4340758\ttotal: 2.98s\tremaining: 2.66s\n",
      "132:\tlearn: 0.4340159\ttotal: 3s\tremaining: 2.63s\n",
      "133:\tlearn: 0.4339835\ttotal: 3.02s\tremaining: 2.61s\n",
      "134:\tlearn: 0.4339504\ttotal: 3.04s\tremaining: 2.59s\n",
      "135:\tlearn: 0.4339120\ttotal: 3.05s\tremaining: 2.56s\n",
      "136:\tlearn: 0.4339016\ttotal: 3.07s\tremaining: 2.54s\n",
      "137:\tlearn: 0.4338808\ttotal: 3.09s\tremaining: 2.51s\n",
      "138:\tlearn: 0.4338447\ttotal: 3.11s\tremaining: 2.49s\n",
      "139:\tlearn: 0.4338132\ttotal: 3.13s\tremaining: 2.46s\n",
      "140:\tlearn: 0.4337875\ttotal: 3.15s\tremaining: 2.44s\n",
      "141:\tlearn: 0.4337595\ttotal: 3.17s\tremaining: 2.42s\n",
      "142:\tlearn: 0.4337407\ttotal: 3.2s\tremaining: 2.4s\n",
      "143:\tlearn: 0.4337162\ttotal: 3.22s\tremaining: 2.37s\n",
      "144:\tlearn: 0.4336156\ttotal: 3.24s\tremaining: 2.35s\n",
      "145:\tlearn: 0.4335880\ttotal: 3.26s\tremaining: 2.32s\n",
      "146:\tlearn: 0.4335584\ttotal: 3.28s\tremaining: 2.3s\n",
      "147:\tlearn: 0.4334595\ttotal: 3.3s\tremaining: 2.27s\n",
      "148:\tlearn: 0.4334301\ttotal: 3.32s\tremaining: 2.25s\n",
      "149:\tlearn: 0.4334189\ttotal: 3.34s\tremaining: 2.23s\n",
      "150:\tlearn: 0.4333680\ttotal: 3.36s\tremaining: 2.2s\n",
      "151:\tlearn: 0.4333163\ttotal: 3.38s\tremaining: 2.18s\n",
      "152:\tlearn: 0.4332917\ttotal: 3.4s\tremaining: 2.16s\n",
      "153:\tlearn: 0.4332671\ttotal: 3.42s\tremaining: 2.13s\n",
      "154:\tlearn: 0.4332423\ttotal: 3.44s\tremaining: 2.11s\n",
      "155:\tlearn: 0.4332187\ttotal: 3.47s\tremaining: 2.09s\n",
      "156:\tlearn: 0.4331961\ttotal: 3.49s\tremaining: 2.06s\n",
      "157:\tlearn: 0.4331549\ttotal: 3.51s\tremaining: 2.04s\n",
      "158:\tlearn: 0.4331291\ttotal: 3.53s\tremaining: 2.02s\n",
      "159:\tlearn: 0.4331088\ttotal: 3.55s\tremaining: 2s\n",
      "160:\tlearn: 0.4330889\ttotal: 3.57s\tremaining: 1.97s\n"
     ]
    },
    {
     "name": "stdout",
     "output_type": "stream",
     "text": [
      "161:\tlearn: 0.4330599\ttotal: 3.59s\tremaining: 1.95s\n",
      "162:\tlearn: 0.4330407\ttotal: 3.61s\tremaining: 1.93s\n",
      "163:\tlearn: 0.4329872\ttotal: 3.63s\tremaining: 1.9s\n",
      "164:\tlearn: 0.4329415\ttotal: 3.65s\tremaining: 1.88s\n",
      "165:\tlearn: 0.4328984\ttotal: 3.67s\tremaining: 1.86s\n",
      "166:\tlearn: 0.4328823\ttotal: 3.69s\tremaining: 1.83s\n",
      "167:\tlearn: 0.4328716\ttotal: 3.71s\tremaining: 1.81s\n",
      "168:\tlearn: 0.4328517\ttotal: 3.73s\tremaining: 1.79s\n",
      "169:\tlearn: 0.4328272\ttotal: 3.75s\tremaining: 1.77s\n",
      "170:\tlearn: 0.4327953\ttotal: 3.77s\tremaining: 1.74s\n",
      "171:\tlearn: 0.4327641\ttotal: 3.8s\tremaining: 1.72s\n",
      "172:\tlearn: 0.4327481\ttotal: 3.82s\tremaining: 1.7s\n",
      "173:\tlearn: 0.4327142\ttotal: 3.84s\tremaining: 1.68s\n",
      "174:\tlearn: 0.4326713\ttotal: 3.86s\tremaining: 1.65s\n",
      "175:\tlearn: 0.4326554\ttotal: 3.88s\tremaining: 1.63s\n",
      "176:\tlearn: 0.4326322\ttotal: 3.9s\tremaining: 1.61s\n",
      "177:\tlearn: 0.4326125\ttotal: 3.92s\tremaining: 1.59s\n",
      "178:\tlearn: 0.4325862\ttotal: 3.94s\tremaining: 1.56s\n",
      "179:\tlearn: 0.4325658\ttotal: 3.96s\tremaining: 1.54s\n",
      "180:\tlearn: 0.4325468\ttotal: 3.98s\tremaining: 1.52s\n",
      "181:\tlearn: 0.4325065\ttotal: 4s\tremaining: 1.5s\n",
      "182:\tlearn: 0.4324927\ttotal: 4.02s\tremaining: 1.47s\n",
      "183:\tlearn: 0.4324799\ttotal: 4.04s\tremaining: 1.45s\n",
      "184:\tlearn: 0.4324222\ttotal: 4.07s\tremaining: 1.43s\n",
      "185:\tlearn: 0.4324037\ttotal: 4.08s\tremaining: 1.41s\n",
      "186:\tlearn: 0.4323860\ttotal: 4.11s\tremaining: 1.38s\n",
      "187:\tlearn: 0.4323760\ttotal: 4.13s\tremaining: 1.36s\n",
      "188:\tlearn: 0.4323618\ttotal: 4.15s\tremaining: 1.34s\n",
      "189:\tlearn: 0.4323382\ttotal: 4.17s\tremaining: 1.32s\n",
      "190:\tlearn: 0.4323012\ttotal: 4.19s\tremaining: 1.29s\n",
      "191:\tlearn: 0.4322775\ttotal: 4.21s\tremaining: 1.27s\n",
      "192:\tlearn: 0.4322533\ttotal: 4.23s\tremaining: 1.25s\n",
      "193:\tlearn: 0.4322313\ttotal: 4.25s\tremaining: 1.23s\n",
      "194:\tlearn: 0.4322043\ttotal: 4.28s\tremaining: 1.21s\n",
      "195:\tlearn: 0.4321754\ttotal: 4.3s\tremaining: 1.18s\n",
      "196:\tlearn: 0.4321600\ttotal: 4.32s\tremaining: 1.16s\n",
      "197:\tlearn: 0.4321345\ttotal: 4.34s\tremaining: 1.14s\n",
      "198:\tlearn: 0.4320880\ttotal: 4.36s\tremaining: 1.12s\n",
      "199:\tlearn: 0.4320567\ttotal: 4.38s\tremaining: 1.09s\n",
      "200:\tlearn: 0.4320264\ttotal: 4.4s\tremaining: 1.07s\n",
      "201:\tlearn: 0.4320130\ttotal: 4.42s\tremaining: 1.05s\n",
      "202:\tlearn: 0.4319889\ttotal: 4.44s\tremaining: 1.03s\n",
      "203:\tlearn: 0.4319690\ttotal: 4.46s\tremaining: 1.01s\n",
      "204:\tlearn: 0.4319527\ttotal: 4.48s\tremaining: 984ms\n",
      "205:\tlearn: 0.4319379\ttotal: 4.5s\tremaining: 961ms\n",
      "206:\tlearn: 0.4318874\ttotal: 4.52s\tremaining: 939ms\n",
      "207:\tlearn: 0.4318457\ttotal: 4.54s\tremaining: 917ms\n",
      "208:\tlearn: 0.4318032\ttotal: 4.56s\tremaining: 895ms\n",
      "209:\tlearn: 0.4317644\ttotal: 4.58s\tremaining: 872ms\n",
      "210:\tlearn: 0.4317509\ttotal: 4.6s\tremaining: 850ms\n",
      "211:\tlearn: 0.4317268\ttotal: 4.62s\tremaining: 828ms\n",
      "212:\tlearn: 0.4317218\ttotal: 4.64s\tremaining: 807ms\n",
      "213:\tlearn: 0.4316872\ttotal: 4.67s\tremaining: 785ms\n",
      "214:\tlearn: 0.4316787\ttotal: 4.69s\tremaining: 763ms\n",
      "215:\tlearn: 0.4316711\ttotal: 4.71s\tremaining: 741ms\n",
      "216:\tlearn: 0.4316540\ttotal: 4.73s\tremaining: 719ms\n",
      "217:\tlearn: 0.4316139\ttotal: 4.75s\tremaining: 697ms\n",
      "218:\tlearn: 0.4315999\ttotal: 4.77s\tremaining: 675ms\n",
      "219:\tlearn: 0.4315742\ttotal: 4.79s\tremaining: 653ms\n",
      "220:\tlearn: 0.4315332\ttotal: 4.81s\tremaining: 631ms\n",
      "221:\tlearn: 0.4315178\ttotal: 4.83s\tremaining: 609ms\n",
      "222:\tlearn: 0.4315067\ttotal: 4.85s\tremaining: 587ms\n",
      "223:\tlearn: 0.4314939\ttotal: 4.87s\tremaining: 565ms\n",
      "224:\tlearn: 0.4314727\ttotal: 4.89s\tremaining: 544ms\n",
      "225:\tlearn: 0.4314380\ttotal: 4.91s\tremaining: 522ms\n",
      "226:\tlearn: 0.4314288\ttotal: 4.93s\tremaining: 500ms\n",
      "227:\tlearn: 0.4314115\ttotal: 4.95s\tremaining: 478ms\n",
      "228:\tlearn: 0.4313924\ttotal: 4.97s\tremaining: 456ms\n",
      "229:\tlearn: 0.4313657\ttotal: 4.99s\tremaining: 434ms\n",
      "230:\tlearn: 0.4313431\ttotal: 5.01s\tremaining: 412ms\n",
      "231:\tlearn: 0.4313178\ttotal: 5.03s\tremaining: 390ms\n",
      "232:\tlearn: 0.4313043\ttotal: 5.05s\tremaining: 369ms\n",
      "233:\tlearn: 0.4312728\ttotal: 5.08s\tremaining: 347ms\n",
      "234:\tlearn: 0.4312559\ttotal: 5.1s\tremaining: 325ms\n",
      "235:\tlearn: 0.4312243\ttotal: 5.12s\tremaining: 304ms\n",
      "236:\tlearn: 0.4312188\ttotal: 5.14s\tremaining: 282ms\n",
      "237:\tlearn: 0.4311392\ttotal: 5.16s\tremaining: 260ms\n",
      "238:\tlearn: 0.4311289\ttotal: 5.18s\tremaining: 238ms\n",
      "239:\tlearn: 0.4311128\ttotal: 5.2s\tremaining: 217ms\n",
      "240:\tlearn: 0.4310891\ttotal: 5.22s\tremaining: 195ms\n",
      "241:\tlearn: 0.4310828\ttotal: 5.24s\tremaining: 173ms\n",
      "242:\tlearn: 0.4310465\ttotal: 5.26s\tremaining: 152ms\n",
      "243:\tlearn: 0.4310277\ttotal: 5.29s\tremaining: 130ms\n",
      "244:\tlearn: 0.4309868\ttotal: 5.31s\tremaining: 108ms\n",
      "245:\tlearn: 0.4309413\ttotal: 5.33s\tremaining: 86.6ms\n",
      "246:\tlearn: 0.4309205\ttotal: 5.35s\tremaining: 64.9ms\n",
      "247:\tlearn: 0.4308897\ttotal: 5.37s\tremaining: 43.3ms\n",
      "248:\tlearn: 0.4308802\ttotal: 5.39s\tremaining: 21.6ms\n",
      "249:\tlearn: 0.4308722\ttotal: 5.41s\tremaining: 0us\n"
     ]
    },
    {
     "data": {
      "text/plain": [
       "RandomizedSearchCV(cv=<generator object TimeSeriesSplit.split at 0x7fd5941d5728>,\n",
       "          error_score='raise-deprecating',\n",
       "          estimator=Pipeline(memory=None,\n",
       "     steps=[('featureunion', FeatureUnion(n_jobs=None,\n",
       "       transformer_list=[('neigh_pipeline', Pipeline(memory=None,\n",
       "     steps=[('select', FunctionTransformer(accept_sparse=False, check_inverse=True,\n",
       "          func=<function select_column_1 at 0x7fd5a6c8d048>,\n",
       "          inv_kw_args=None, inverse_fun...fd5a3299730>)), ('catboostclassifier', <catboost.core.CatBoostClassifier object at 0x7fd59429c5f8>)]),\n",
       "          fit_params=None, iid='warn', n_iter=40, n_jobs=3,\n",
       "          param_distributions={'featureunion__neigh_pipeline__encoder': [OneHotEncoder(categorical_features=None,\n",
       "       categories=[array([ 4,  6,  8, 24, 26, 32, 36, 39, 50, 68])],\n",
       "       dtype=<class 'numpy.float64'>, handle_unknown='ignore',\n",
       "       n_values=None, sparse=False), OneHotEncoder(categorical_f...ostclassifier__l2_leaf_reg': <scipy.stats._distn_infrastructure.rv_frozen object at 0x7fd5941e2c88>},\n",
       "          pre_dispatch='2*n_jobs', random_state=None, refit=True,\n",
       "          return_train_score='warn', scoring='roc_auc', verbose=0)"
      ]
     },
     "execution_count": 121,
     "metadata": {},
     "output_type": "execute_result"
    }
   ],
   "source": [
    "rs.fit(X_train, y_train)"
   ]
  },
  {
   "cell_type": "code",
   "execution_count": 122,
   "metadata": {},
   "outputs": [
    {
     "data": {
      "text/plain": [
       "0.7502751839768236"
      ]
     },
     "execution_count": 122,
     "metadata": {},
     "output_type": "execute_result"
    }
   ],
   "source": [
    "rs.best_score_ # Best score in CV"
   ]
  },
  {
   "cell_type": "code",
   "execution_count": 123,
   "metadata": {
    "collapsed": true
   },
   "outputs": [],
   "source": [
    "y_predicted = rs.predict_proba(X_test)"
   ]
  },
  {
   "cell_type": "code",
   "execution_count": 124,
   "metadata": {},
   "outputs": [
    {
     "data": {
      "text/plain": [
       "0.7432791177824467"
      ]
     },
     "execution_count": 124,
     "metadata": {},
     "output_type": "execute_result"
    }
   ],
   "source": [
    "roc_auc_score(y_test, y_predicted[:,1])"
   ]
  },
  {
   "cell_type": "code",
   "execution_count": 127,
   "metadata": {},
   "outputs": [
    {
     "data": {
      "text/plain": [
       "<matplotlib.axes._subplots.AxesSubplot at 0x7fd584be3198>"
      ]
     },
     "execution_count": 127,
     "metadata": {},
     "output_type": "execute_result"
    },
    {
     "data": {
      "image/png": "[encoded data removed]",
      "text/plain": [
       "<Figure size 432x288 with 1 Axes>"
      ]
     },
     "metadata": {},
     "output_type": "display_data"
    }
   ],
   "source": [
    "plot_roc(y_test, y_predicted, plot_micro=False)"
   ]
  },
  {
   "cell_type": "code",
   "execution_count": 128,
   "metadata": {},
   "outputs": [
    {
     "name": "stderr",
     "output_type": "stream",
     "text": [
      "/home/usuario/anaconda3/lib/python3.6/site-packages/sklearn/utils/deprecation.py:125: FutureWarning: You are accessing a training score ('split0_train_score'), which will not be available by default any more in 0.21. If you need training scores, please set return_train_score=True\n",
      "  warnings.warn(*warn_args, **warn_kwargs)\n",
      "/home/usuario/anaconda3/lib/python3.6/site-packages/sklearn/utils/deprecation.py:125: FutureWarning: You are accessing a training score ('split1_train_score'), which will not be available by default any more in 0.21. If you need training scores, please set return_train_score=True\n",
      "  warnings.warn(*warn_args, **warn_kwargs)\n",
      "/home/usuario/anaconda3/lib/python3.6/site-packages/sklearn/utils/deprecation.py:125: FutureWarning: You are accessing a training score ('mean_train_score'), which will not be available by default any more in 0.21. If you need training scores, please set return_train_score=True\n",
      "  warnings.warn(*warn_args, **warn_kwargs)\n",
      "/home/usuario/anaconda3/lib/python3.6/site-packages/sklearn/utils/deprecation.py:125: FutureWarning: You are accessing a training score ('std_train_score'), which will not be available by default any more in 0.21. If you need training scores, please set return_train_score=True\n",
      "  warnings.warn(*warn_args, **warn_kwargs)\n"
     ]
    }
   ],
   "source": [
    "pd.DataFrame(rs.cv_results_).to_csv(\"catboost_results.csv\", index=False, sep = \"|\")"
   ]
  },
  {
   "cell_type": "code",
   "execution_count": 108,
   "metadata": {
    "collapsed": true
   },
   "outputs": [],
   "source": [
    "from scikitplot.estimators import plot_learning_curve"
   ]
  },
  {
   "cell_type": "code",
   "execution_count": 111,
   "metadata": {},
   "outputs": [
    {
     "name": "stdout",
     "output_type": "stream",
     "text": [
      "0:\tlearn: 0.6770499\ttotal: 11.9ms\tremaining: 2.95s\n",
      "1:\tlearn: 0.6592913\ttotal: 15.2ms\tremaining: 1.88s\n",
      "2:\tlearn: 0.6435040\ttotal: 20.1ms\tremaining: 1.66s\n",
      "3:\tlearn: 0.6318321\ttotal: 23.5ms\tremaining: 1.45s\n",
      "4:\tlearn: 0.6236622\ttotal: 26.9ms\tremaining: 1.32s\n",
      "5:\tlearn: 0.6194195\ttotal: 29.7ms\tremaining: 1.21s\n",
      "6:\tlearn: 0.6136502\ttotal: 32.8ms\tremaining: 1.14s\n",
      "7:\tlearn: 0.6104156\ttotal: 35.6ms\tremaining: 1.08s\n",
      "8:\tlearn: 0.6060321\ttotal: 38.7ms\tremaining: 1.04s\n",
      "9:\tlearn: 0.6039753\ttotal: 41.6ms\tremaining: 998ms\n",
      "10:\tlearn: 0.6006495\ttotal: 44.8ms\tremaining: 973ms\n",
      "11:\tlearn: 0.5994851\ttotal: 47.3ms\tremaining: 937ms\n",
      "12:\tlearn: 0.5969755\ttotal: 50ms\tremaining: 911ms\n",
      "13:\tlearn: 0.5952109\ttotal: 53.2ms\tremaining: 897ms\n",
      "14:\tlearn: 0.5940877\ttotal: 56.4ms\tremaining: 884ms\n",
      "15:\tlearn: 0.5925074\ttotal: 59.3ms\tremaining: 868ms\n",
      "16:\tlearn: 0.5919695\ttotal: 62.2ms\tremaining: 853ms\n",
      "17:\tlearn: 0.5905276\ttotal: 65.5ms\tremaining: 844ms\n",
      "18:\tlearn: 0.5904318\ttotal: 68.1ms\tremaining: 828ms\n",
      "19:\tlearn: 0.5899182\ttotal: 71.2ms\tremaining: 819ms\n",
      "20:\tlearn: 0.5889532\ttotal: 74.4ms\tremaining: 812ms\n",
      "21:\tlearn: 0.5877321\ttotal: 77.6ms\tremaining: 804ms\n",
      "22:\tlearn: 0.5861739\ttotal: 80.5ms\tremaining: 795ms\n",
      "23:\tlearn: 0.5850386\ttotal: 83.7ms\tremaining: 789ms\n",
      "24:\tlearn: 0.5845730\ttotal: 86.5ms\tremaining: 779ms\n",
      "25:\tlearn: 0.5840952\ttotal: 89.5ms\tremaining: 771ms\n",
      "26:\tlearn: 0.5836101\ttotal: 92.3ms\tremaining: 762ms\n",
      "27:\tlearn: 0.5828835\ttotal: 95.3ms\tremaining: 756ms\n",
      "28:\tlearn: 0.5825138\ttotal: 98.5ms\tremaining: 751ms\n",
      "29:\tlearn: 0.5818397\ttotal: 104ms\tremaining: 765ms\n",
      "30:\tlearn: 0.5812077\ttotal: 108ms\tremaining: 763ms\n",
      "31:\tlearn: 0.5808492\ttotal: 112ms\tremaining: 765ms\n",
      "32:\tlearn: 0.5805745\ttotal: 116ms\tremaining: 762ms\n",
      "33:\tlearn: 0.5799967\ttotal: 120ms\tremaining: 761ms\n",
      "34:\tlearn: 0.5796652\ttotal: 123ms\tremaining: 755ms\n",
      "35:\tlearn: 0.5792653\ttotal: 126ms\tremaining: 748ms\n",
      "36:\tlearn: 0.5788042\ttotal: 129ms\tremaining: 743ms\n",
      "37:\tlearn: 0.5783651\ttotal: 132ms\tremaining: 736ms\n",
      "38:\tlearn: 0.5781272\ttotal: 138ms\tremaining: 744ms\n",
      "39:\tlearn: 0.5776827\ttotal: 143ms\tremaining: 749ms\n",
      "40:\tlearn: 0.5773510\ttotal: 146ms\tremaining: 745ms\n",
      "41:\tlearn: 0.5767674\ttotal: 149ms\tremaining: 739ms\n",
      "42:\tlearn: 0.5765052\ttotal: 154ms\tremaining: 743ms\n",
      "43:\tlearn: 0.5762535\ttotal: 159ms\tremaining: 746ms\n",
      "44:\tlearn: 0.5759842\ttotal: 162ms\tremaining: 740ms\n",
      "45:\tlearn: 0.5752842\ttotal: 166ms\tremaining: 735ms\n",
      "46:\tlearn: 0.5748081\ttotal: 169ms\tremaining: 729ms\n",
      "47:\tlearn: 0.5743401\ttotal: 174ms\tremaining: 732ms\n",
      "48:\tlearn: 0.5741554\ttotal: 177ms\tremaining: 728ms\n",
      "49:\tlearn: 0.5736221\ttotal: 183ms\tremaining: 730ms\n",
      "50:\tlearn: 0.5736221\ttotal: 186ms\tremaining: 728ms\n",
      "51:\tlearn: 0.5730210\ttotal: 192ms\tremaining: 729ms\n",
      "52:\tlearn: 0.5726676\ttotal: 195ms\tremaining: 724ms\n",
      "53:\tlearn: 0.5721073\ttotal: 198ms\tremaining: 719ms\n",
      "54:\tlearn: 0.5718889\ttotal: 202ms\tremaining: 715ms\n",
      "55:\tlearn: 0.5713888\ttotal: 205ms\tremaining: 710ms\n",
      "56:\tlearn: 0.5707828\ttotal: 212ms\tremaining: 717ms\n",
      "57:\tlearn: 0.5702424\ttotal: 218ms\tremaining: 722ms\n",
      "58:\tlearn: 0.5698596\ttotal: 227ms\tremaining: 735ms\n",
      "59:\tlearn: 0.5695841\ttotal: 233ms\tremaining: 736ms\n",
      "60:\tlearn: 0.5695840\ttotal: 235ms\tremaining: 728ms\n",
      "61:\tlearn: 0.5694801\ttotal: 238ms\tremaining: 721ms\n",
      "62:\tlearn: 0.5693119\ttotal: 241ms\tremaining: 715ms\n",
      "63:\tlearn: 0.5685625\ttotal: 244ms\tremaining: 708ms\n",
      "64:\tlearn: 0.5681125\ttotal: 247ms\tremaining: 702ms\n",
      "65:\tlearn: 0.5676673\ttotal: 252ms\tremaining: 703ms\n",
      "66:\tlearn: 0.5666386\ttotal: 257ms\tremaining: 703ms\n",
      "67:\tlearn: 0.5664333\ttotal: 260ms\tremaining: 696ms\n",
      "68:\tlearn: 0.5658718\ttotal: 263ms\tremaining: 690ms\n",
      "69:\tlearn: 0.5654895\ttotal: 266ms\tremaining: 685ms\n",
      "70:\tlearn: 0.5652133\ttotal: 272ms\tremaining: 685ms\n",
      "71:\tlearn: 0.5645766\ttotal: 275ms\tremaining: 680ms\n",
      "72:\tlearn: 0.5643546\ttotal: 278ms\tremaining: 674ms\n",
      "73:\tlearn: 0.5640140\ttotal: 281ms\tremaining: 668ms\n",
      "74:\tlearn: 0.5632730\ttotal: 284ms\tremaining: 663ms\n",
      "75:\tlearn: 0.5630970\ttotal: 287ms\tremaining: 657ms\n",
      "76:\tlearn: 0.5627625\ttotal: 292ms\tremaining: 657ms\n",
      "77:\tlearn: 0.5618814\ttotal: 295ms\tremaining: 651ms\n",
      "78:\tlearn: 0.5615305\ttotal: 298ms\tremaining: 646ms\n",
      "79:\tlearn: 0.5613547\ttotal: 302ms\tremaining: 641ms\n",
      "80:\tlearn: 0.5611391\ttotal: 304ms\tremaining: 635ms\n",
      "81:\tlearn: 0.5610227\ttotal: 307ms\tremaining: 630ms\n",
      "82:\tlearn: 0.5608401\ttotal: 310ms\tremaining: 624ms\n",
      "83:\tlearn: 0.5607891\ttotal: 315ms\tremaining: 622ms\n",
      "84:\tlearn: 0.5605632\ttotal: 318ms\tremaining: 617ms\n",
      "85:\tlearn: 0.5605632\ttotal: 320ms\tremaining: 611ms\n",
      "86:\tlearn: 0.5602951\ttotal: 324ms\tremaining: 606ms\n",
      "87:\tlearn: 0.5602539\ttotal: 326ms\tremaining: 601ms\n",
      "88:\tlearn: 0.5596779\ttotal: 330ms\tremaining: 596ms\n",
      "89:\tlearn: 0.5593869\ttotal: 335ms\tremaining: 595ms\n",
      "90:\tlearn: 0.5591430\ttotal: 337ms\tremaining: 590ms\n",
      "91:\tlearn: 0.5591068\ttotal: 342ms\tremaining: 587ms\n",
      "92:\tlearn: 0.5587278\ttotal: 345ms\tremaining: 582ms\n",
      "93:\tlearn: 0.5581435\ttotal: 348ms\tremaining: 578ms\n",
      "94:\tlearn: 0.5580691\ttotal: 351ms\tremaining: 573ms\n",
      "95:\tlearn: 0.5579269\ttotal: 354ms\tremaining: 568ms\n",
      "96:\tlearn: 0.5576144\ttotal: 357ms\tremaining: 564ms\n",
      "97:\tlearn: 0.5573528\ttotal: 360ms\tremaining: 559ms\n",
      "98:\tlearn: 0.5569597\ttotal: 363ms\tremaining: 554ms\n",
      "99:\tlearn: 0.5567387\ttotal: 366ms\tremaining: 549ms\n",
      "100:\tlearn: 0.5567122\ttotal: 369ms\tremaining: 544ms\n",
      "101:\tlearn: 0.5560489\ttotal: 372ms\tremaining: 540ms\n",
      "102:\tlearn: 0.5557144\ttotal: 376ms\tremaining: 537ms\n",
      "103:\tlearn: 0.5551934\ttotal: 379ms\tremaining: 532ms\n",
      "104:\tlearn: 0.5549612\ttotal: 382ms\tremaining: 528ms\n",
      "105:\tlearn: 0.5548545\ttotal: 385ms\tremaining: 524ms\n",
      "106:\tlearn: 0.5546931\ttotal: 389ms\tremaining: 519ms\n",
      "107:\tlearn: 0.5543344\ttotal: 392ms\tremaining: 515ms\n",
      "108:\tlearn: 0.5542763\ttotal: 395ms\tremaining: 511ms\n",
      "109:\tlearn: 0.5539454\ttotal: 398ms\tremaining: 506ms\n",
      "110:\tlearn: 0.5533739\ttotal: 401ms\tremaining: 502ms\n",
      "111:\tlearn: 0.5528937\ttotal: 404ms\tremaining: 498ms\n",
      "112:\tlearn: 0.5521059\ttotal: 409ms\tremaining: 496ms\n",
      "113:\tlearn: 0.5517747\ttotal: 414ms\tremaining: 494ms\n",
      "114:\tlearn: 0.5517745\ttotal: 417ms\tremaining: 489ms\n",
      "115:\tlearn: 0.5515585\ttotal: 420ms\tremaining: 485ms\n",
      "116:\tlearn: 0.5507445\ttotal: 422ms\tremaining: 480ms\n",
      "117:\tlearn: 0.5507221\ttotal: 429ms\tremaining: 480ms\n",
      "118:\tlearn: 0.5503063\ttotal: 441ms\tremaining: 485ms\n",
      "119:\tlearn: 0.5501418\ttotal: 445ms\tremaining: 482ms\n",
      "120:\tlearn: 0.5500243\ttotal: 448ms\tremaining: 478ms\n",
      "121:\tlearn: 0.5499533\ttotal: 451ms\tremaining: 473ms\n",
      "122:\tlearn: 0.5499519\ttotal: 454ms\tremaining: 469ms\n",
      "123:\tlearn: 0.5497008\ttotal: 457ms\tremaining: 464ms\n",
      "124:\tlearn: 0.5496168\ttotal: 461ms\tremaining: 461ms\n",
      "125:\tlearn: 0.5492069\ttotal: 464ms\tremaining: 457ms\n",
      "126:\tlearn: 0.5489916\ttotal: 467ms\tremaining: 452ms\n",
      "127:\tlearn: 0.5487093\ttotal: 470ms\tremaining: 448ms\n",
      "128:\tlearn: 0.5486355\ttotal: 473ms\tremaining: 444ms\n",
      "129:\tlearn: 0.5481818\ttotal: 476ms\tremaining: 440ms\n",
      "130:\tlearn: 0.5480044\ttotal: 480ms\tremaining: 436ms\n",
      "131:\tlearn: 0.5478784\ttotal: 483ms\tremaining: 432ms\n",
      "132:\tlearn: 0.5478672\ttotal: 486ms\tremaining: 427ms\n",
      "133:\tlearn: 0.5475490\ttotal: 489ms\tremaining: 423ms\n",
      "134:\tlearn: 0.5474735\ttotal: 492ms\tremaining: 419ms\n",
      "135:\tlearn: 0.5469369\ttotal: 495ms\tremaining: 415ms\n",
      "136:\tlearn: 0.5464117\ttotal: 498ms\tremaining: 411ms\n",
      "137:\tlearn: 0.5463818\ttotal: 501ms\tremaining: 407ms\n",
      "138:\tlearn: 0.5462746\ttotal: 504ms\tremaining: 403ms\n",
      "139:\tlearn: 0.5458370\ttotal: 507ms\tremaining: 398ms\n",
      "140:\tlearn: 0.5453623\ttotal: 510ms\tremaining: 394ms\n",
      "141:\tlearn: 0.5453623\ttotal: 513ms\tremaining: 390ms\n",
      "142:\tlearn: 0.5450349\ttotal: 516ms\tremaining: 386ms\n",
      "143:\tlearn: 0.5442194\ttotal: 519ms\tremaining: 382ms\n",
      "144:\tlearn: 0.5438232\ttotal: 522ms\tremaining: 378ms\n",
      "145:\tlearn: 0.5435768\ttotal: 526ms\tremaining: 375ms\n",
      "146:\tlearn: 0.5429675\ttotal: 530ms\tremaining: 371ms\n",
      "147:\tlearn: 0.5426281\ttotal: 533ms\tremaining: 367ms\n",
      "148:\tlearn: 0.5424003\ttotal: 536ms\tremaining: 363ms\n",
      "149:\tlearn: 0.5418418\ttotal: 539ms\tremaining: 359ms\n",
      "150:\tlearn: 0.5417134\ttotal: 544ms\tremaining: 357ms\n",
      "151:\tlearn: 0.5412717\ttotal: 547ms\tremaining: 353ms\n",
      "152:\tlearn: 0.5409469\ttotal: 550ms\tremaining: 349ms\n",
      "153:\tlearn: 0.5406697\ttotal: 555ms\tremaining: 346ms\n",
      "154:\tlearn: 0.5403169\ttotal: 558ms\tremaining: 342ms\n",
      "155:\tlearn: 0.5401163\ttotal: 561ms\tremaining: 338ms\n",
      "156:\tlearn: 0.5398706\ttotal: 564ms\tremaining: 334ms\n",
      "157:\tlearn: 0.5395210\ttotal: 567ms\tremaining: 330ms\n",
      "158:\tlearn: 0.5395210\ttotal: 570ms\tremaining: 326ms\n",
      "159:\tlearn: 0.5394869\ttotal: 573ms\tremaining: 322ms\n",
      "160:\tlearn: 0.5391968\ttotal: 576ms\tremaining: 318ms\n",
      "161:\tlearn: 0.5387140\ttotal: 578ms\tremaining: 314ms\n",
      "162:\tlearn: 0.5386229\ttotal: 582ms\tremaining: 310ms\n",
      "163:\tlearn: 0.5385455\ttotal: 585ms\tremaining: 307ms\n",
      "164:\tlearn: 0.5383979\ttotal: 588ms\tremaining: 303ms\n",
      "165:\tlearn: 0.5383137\ttotal: 593ms\tremaining: 300ms\n",
      "166:\tlearn: 0.5380590\ttotal: 597ms\tremaining: 297ms\n",
      "167:\tlearn: 0.5378802\ttotal: 602ms\tremaining: 294ms\n"
     ]
    },
    {
     "name": "stdout",
     "output_type": "stream",
     "text": [
      "168:\tlearn: 0.5377686\ttotal: 607ms\tremaining: 291ms\n",
      "169:\tlearn: 0.5375071\ttotal: 610ms\tremaining: 287ms\n",
      "170:\tlearn: 0.5372888\ttotal: 613ms\tremaining: 283ms\n",
      "171:\tlearn: 0.5372440\ttotal: 616ms\tremaining: 279ms\n",
      "172:\tlearn: 0.5372197\ttotal: 619ms\tremaining: 275ms\n",
      "173:\tlearn: 0.5371072\ttotal: 624ms\tremaining: 272ms\n",
      "174:\tlearn: 0.5370234\ttotal: 634ms\tremaining: 272ms\n",
      "175:\tlearn: 0.5368779\ttotal: 638ms\tremaining: 268ms\n",
      "176:\tlearn: 0.5367165\ttotal: 641ms\tremaining: 264ms\n",
      "177:\tlearn: 0.5365414\ttotal: 644ms\tremaining: 261ms\n",
      "178:\tlearn: 0.5359902\ttotal: 648ms\tremaining: 257ms\n",
      "179:\tlearn: 0.5358829\ttotal: 650ms\tremaining: 253ms\n",
      "180:\tlearn: 0.5357437\ttotal: 654ms\tremaining: 249ms\n",
      "181:\tlearn: 0.5356780\ttotal: 657ms\tremaining: 245ms\n",
      "182:\tlearn: 0.5355388\ttotal: 660ms\tremaining: 242ms\n",
      "183:\tlearn: 0.5354164\ttotal: 663ms\tremaining: 238ms\n",
      "184:\tlearn: 0.5351180\ttotal: 668ms\tremaining: 235ms\n",
      "185:\tlearn: 0.5348614\ttotal: 672ms\tremaining: 231ms\n",
      "186:\tlearn: 0.5348488\ttotal: 675ms\tremaining: 227ms\n",
      "187:\tlearn: 0.5348245\ttotal: 678ms\tremaining: 224ms\n",
      "188:\tlearn: 0.5347350\ttotal: 681ms\tremaining: 220ms\n",
      "189:\tlearn: 0.5346394\ttotal: 684ms\tremaining: 216ms\n",
      "190:\tlearn: 0.5343750\ttotal: 687ms\tremaining: 212ms\n",
      "191:\tlearn: 0.5342216\ttotal: 690ms\tremaining: 209ms\n",
      "192:\tlearn: 0.5339005\ttotal: 694ms\tremaining: 205ms\n",
      "193:\tlearn: 0.5335768\ttotal: 697ms\tremaining: 201ms\n",
      "194:\tlearn: 0.5334170\ttotal: 700ms\tremaining: 197ms\n",
      "195:\tlearn: 0.5331785\ttotal: 703ms\tremaining: 194ms\n",
      "196:\tlearn: 0.5327754\ttotal: 707ms\tremaining: 190ms\n",
      "197:\tlearn: 0.5324606\ttotal: 710ms\tremaining: 186ms\n",
      "198:\tlearn: 0.5324600\ttotal: 712ms\tremaining: 183ms\n",
      "199:\tlearn: 0.5322039\ttotal: 715ms\tremaining: 179ms\n",
      "200:\tlearn: 0.5321259\ttotal: 718ms\tremaining: 175ms\n",
      "201:\tlearn: 0.5317847\ttotal: 722ms\tremaining: 171ms\n",
      "202:\tlearn: 0.5317665\ttotal: 725ms\tremaining: 168ms\n",
      "203:\tlearn: 0.5315630\ttotal: 730ms\tremaining: 165ms\n",
      "204:\tlearn: 0.5313294\ttotal: 733ms\tremaining: 161ms\n",
      "205:\tlearn: 0.5312842\ttotal: 737ms\tremaining: 157ms\n",
      "206:\tlearn: 0.5311261\ttotal: 739ms\tremaining: 154ms\n",
      "207:\tlearn: 0.5310623\ttotal: 745ms\tremaining: 150ms\n",
      "208:\tlearn: 0.5308829\ttotal: 750ms\tremaining: 147ms\n",
      "209:\tlearn: 0.5307806\ttotal: 753ms\tremaining: 143ms\n",
      "210:\tlearn: 0.5306756\ttotal: 756ms\tremaining: 140ms\n",
      "211:\tlearn: 0.5305021\ttotal: 759ms\tremaining: 136ms\n",
      "212:\tlearn: 0.5303401\ttotal: 762ms\tremaining: 132ms\n",
      "213:\tlearn: 0.5300232\ttotal: 767ms\tremaining: 129ms\n",
      "214:\tlearn: 0.5299817\ttotal: 770ms\tremaining: 125ms\n",
      "215:\tlearn: 0.5299463\ttotal: 774ms\tremaining: 122ms\n",
      "216:\tlearn: 0.5297837\ttotal: 779ms\tremaining: 118ms\n",
      "217:\tlearn: 0.5293606\ttotal: 784ms\tremaining: 115ms\n",
      "218:\tlearn: 0.5290646\ttotal: 790ms\tremaining: 112ms\n",
      "219:\tlearn: 0.5290646\ttotal: 793ms\tremaining: 108ms\n",
      "220:\tlearn: 0.5290633\ttotal: 797ms\tremaining: 105ms\n",
      "221:\tlearn: 0.5290285\ttotal: 802ms\tremaining: 101ms\n",
      "222:\tlearn: 0.5288999\ttotal: 807ms\tremaining: 97.8ms\n",
      "223:\tlearn: 0.5286810\ttotal: 810ms\tremaining: 94ms\n",
      "224:\tlearn: 0.5285721\ttotal: 813ms\tremaining: 90.4ms\n",
      "225:\tlearn: 0.5285721\ttotal: 818ms\tremaining: 86.9ms\n",
      "226:\tlearn: 0.5282908\ttotal: 824ms\tremaining: 83.5ms\n",
      "227:\tlearn: 0.5281472\ttotal: 829ms\tremaining: 80ms\n",
      "228:\tlearn: 0.5279627\ttotal: 832ms\tremaining: 76.3ms\n",
      "229:\tlearn: 0.5277390\ttotal: 836ms\tremaining: 72.7ms\n",
      "230:\tlearn: 0.5277118\ttotal: 839ms\tremaining: 69ms\n",
      "231:\tlearn: 0.5273720\ttotal: 844ms\tremaining: 65.5ms\n",
      "232:\tlearn: 0.5272584\ttotal: 847ms\tremaining: 61.8ms\n",
      "233:\tlearn: 0.5271415\ttotal: 850ms\tremaining: 58.1ms\n",
      "234:\tlearn: 0.5271408\ttotal: 853ms\tremaining: 54.5ms\n",
      "235:\tlearn: 0.5271200\ttotal: 856ms\tremaining: 50.8ms\n",
      "236:\tlearn: 0.5266724\ttotal: 861ms\tremaining: 47.2ms\n",
      "237:\tlearn: 0.5266300\ttotal: 865ms\tremaining: 43.6ms\n",
      "238:\tlearn: 0.5265849\ttotal: 868ms\tremaining: 40ms\n",
      "239:\tlearn: 0.5265421\ttotal: 871ms\tremaining: 36.3ms\n",
      "240:\tlearn: 0.5264910\ttotal: 874ms\tremaining: 32.6ms\n",
      "241:\tlearn: 0.5264512\ttotal: 877ms\tremaining: 29ms\n",
      "242:\tlearn: 0.5263672\ttotal: 880ms\tremaining: 25.3ms\n",
      "243:\tlearn: 0.5263672\ttotal: 884ms\tremaining: 21.7ms\n",
      "244:\tlearn: 0.5262306\ttotal: 887ms\tremaining: 18.1ms\n",
      "245:\tlearn: 0.5256320\ttotal: 890ms\tremaining: 14.5ms\n",
      "246:\tlearn: 0.5255891\ttotal: 893ms\tremaining: 10.8ms\n",
      "247:\tlearn: 0.5255440\ttotal: 898ms\tremaining: 7.24ms\n",
      "248:\tlearn: 0.5253191\ttotal: 901ms\tremaining: 3.62ms\n",
      "249:\tlearn: 0.5250116\ttotal: 904ms\tremaining: 0us\n",
      "0:\tlearn: 0.6743015\ttotal: 4.91ms\tremaining: 1.22s\n",
      "1:\tlearn: 0.6591814\ttotal: 10.2ms\tremaining: 1.27s\n",
      "2:\tlearn: 0.6492765\ttotal: 15.6ms\tremaining: 1.29s\n",
      "3:\tlearn: 0.6385794\ttotal: 21.1ms\tremaining: 1.3s\n",
      "4:\tlearn: 0.6327006\ttotal: 26.4ms\tremaining: 1.29s\n",
      "5:\tlearn: 0.6266577\ttotal: 31.8ms\tremaining: 1.29s\n",
      "6:\tlearn: 0.6232130\ttotal: 37.3ms\tremaining: 1.29s\n",
      "7:\tlearn: 0.6188639\ttotal: 42.7ms\tremaining: 1.29s\n",
      "8:\tlearn: 0.6157117\ttotal: 48ms\tremaining: 1.28s\n",
      "9:\tlearn: 0.6136540\ttotal: 53.3ms\tremaining: 1.28s\n",
      "10:\tlearn: 0.6115861\ttotal: 60.9ms\tremaining: 1.32s\n",
      "11:\tlearn: 0.6104197\ttotal: 66ms\tremaining: 1.31s\n",
      "12:\tlearn: 0.6083675\ttotal: 71.5ms\tremaining: 1.3s\n",
      "13:\tlearn: 0.6073489\ttotal: 77ms\tremaining: 1.3s\n",
      "14:\tlearn: 0.6066102\ttotal: 84.7ms\tremaining: 1.33s\n",
      "15:\tlearn: 0.6049187\ttotal: 92.4ms\tremaining: 1.35s\n",
      "16:\tlearn: 0.6042730\ttotal: 100ms\tremaining: 1.37s\n",
      "17:\tlearn: 0.6032898\ttotal: 105ms\tremaining: 1.36s\n",
      "18:\tlearn: 0.6028254\ttotal: 111ms\tremaining: 1.35s\n",
      "19:\tlearn: 0.6021166\ttotal: 116ms\tremaining: 1.34s\n",
      "20:\tlearn: 0.6017425\ttotal: 121ms\tremaining: 1.32s\n",
      "21:\tlearn: 0.6011524\ttotal: 129ms\tremaining: 1.34s\n",
      "22:\tlearn: 0.6009781\ttotal: 134ms\tremaining: 1.32s\n",
      "23:\tlearn: 0.5998082\ttotal: 139ms\tremaining: 1.31s\n",
      "24:\tlearn: 0.5995993\ttotal: 148ms\tremaining: 1.33s\n",
      "25:\tlearn: 0.5991260\ttotal: 153ms\tremaining: 1.32s\n",
      "26:\tlearn: 0.5988712\ttotal: 161ms\tremaining: 1.33s\n",
      "27:\tlearn: 0.5987509\ttotal: 166ms\tremaining: 1.31s\n",
      "28:\tlearn: 0.5981602\ttotal: 171ms\tremaining: 1.3s\n",
      "29:\tlearn: 0.5978010\ttotal: 176ms\tremaining: 1.29s\n",
      "30:\tlearn: 0.5971509\ttotal: 182ms\tremaining: 1.28s\n",
      "31:\tlearn: 0.5970293\ttotal: 189ms\tremaining: 1.29s\n",
      "32:\tlearn: 0.5968130\ttotal: 195ms\tremaining: 1.28s\n",
      "33:\tlearn: 0.5965542\ttotal: 202ms\tremaining: 1.28s\n",
      "34:\tlearn: 0.5962420\ttotal: 213ms\tremaining: 1.31s\n",
      "35:\tlearn: 0.5959567\ttotal: 218ms\tremaining: 1.3s\n",
      "36:\tlearn: 0.5954178\ttotal: 225ms\tremaining: 1.29s\n",
      "37:\tlearn: 0.5951772\ttotal: 232ms\tremaining: 1.29s\n",
      "38:\tlearn: 0.5947344\ttotal: 237ms\tremaining: 1.28s\n",
      "39:\tlearn: 0.5946507\ttotal: 243ms\tremaining: 1.27s\n",
      "40:\tlearn: 0.5944822\ttotal: 248ms\tremaining: 1.26s\n",
      "41:\tlearn: 0.5942903\ttotal: 253ms\tremaining: 1.25s\n",
      "42:\tlearn: 0.5942416\ttotal: 258ms\tremaining: 1.24s\n",
      "43:\tlearn: 0.5939595\ttotal: 263ms\tremaining: 1.23s\n",
      "44:\tlearn: 0.5938095\ttotal: 269ms\tremaining: 1.22s\n",
      "45:\tlearn: 0.5937748\ttotal: 274ms\tremaining: 1.22s\n",
      "46:\tlearn: 0.5937157\ttotal: 280ms\tremaining: 1.21s\n",
      "47:\tlearn: 0.5935821\ttotal: 285ms\tremaining: 1.2s\n",
      "48:\tlearn: 0.5935818\ttotal: 290ms\tremaining: 1.19s\n",
      "49:\tlearn: 0.5932232\ttotal: 295ms\tremaining: 1.18s\n",
      "50:\tlearn: 0.5931193\ttotal: 300ms\tremaining: 1.17s\n",
      "51:\tlearn: 0.5926191\ttotal: 306ms\tremaining: 1.16s\n",
      "52:\tlearn: 0.5924532\ttotal: 311ms\tremaining: 1.15s\n",
      "53:\tlearn: 0.5922821\ttotal: 316ms\tremaining: 1.15s\n",
      "54:\tlearn: 0.5919729\ttotal: 322ms\tremaining: 1.14s\n",
      "55:\tlearn: 0.5915111\ttotal: 327ms\tremaining: 1.13s\n",
      "56:\tlearn: 0.5912899\ttotal: 333ms\tremaining: 1.13s\n",
      "57:\tlearn: 0.5912884\ttotal: 337ms\tremaining: 1.12s\n",
      "58:\tlearn: 0.5909579\ttotal: 342ms\tremaining: 1.11s\n",
      "59:\tlearn: 0.5907673\ttotal: 348ms\tremaining: 1.1s\n",
      "60:\tlearn: 0.5906022\ttotal: 353ms\tremaining: 1.09s\n",
      "61:\tlearn: 0.5904897\ttotal: 358ms\tremaining: 1.08s\n",
      "62:\tlearn: 0.5903069\ttotal: 363ms\tremaining: 1.08s\n",
      "63:\tlearn: 0.5901487\ttotal: 369ms\tremaining: 1.07s\n",
      "64:\tlearn: 0.5896468\ttotal: 374ms\tremaining: 1.06s\n",
      "65:\tlearn: 0.5894061\ttotal: 379ms\tremaining: 1.06s\n",
      "66:\tlearn: 0.5893447\ttotal: 384ms\tremaining: 1.05s\n",
      "67:\tlearn: 0.5892498\ttotal: 390ms\tremaining: 1.04s\n",
      "68:\tlearn: 0.5890326\ttotal: 395ms\tremaining: 1.04s\n",
      "69:\tlearn: 0.5889407\ttotal: 406ms\tremaining: 1.04s\n",
      "70:\tlearn: 0.5889407\ttotal: 412ms\tremaining: 1.04s\n",
      "71:\tlearn: 0.5889370\ttotal: 417ms\tremaining: 1.03s\n",
      "72:\tlearn: 0.5887954\ttotal: 423ms\tremaining: 1.03s\n",
      "73:\tlearn: 0.5884618\ttotal: 429ms\tremaining: 1.02s\n",
      "74:\tlearn: 0.5883882\ttotal: 434ms\tremaining: 1.01s\n",
      "75:\tlearn: 0.5881978\ttotal: 440ms\tremaining: 1.01s\n",
      "76:\tlearn: 0.5879913\ttotal: 445ms\tremaining: 1000ms\n",
      "77:\tlearn: 0.5878887\ttotal: 450ms\tremaining: 993ms\n",
      "78:\tlearn: 0.5878061\ttotal: 456ms\tremaining: 987ms\n",
      "79:\tlearn: 0.5877208\ttotal: 461ms\tremaining: 980ms\n",
      "80:\tlearn: 0.5875939\ttotal: 467ms\tremaining: 974ms\n",
      "81:\tlearn: 0.5874861\ttotal: 472ms\tremaining: 967ms\n",
      "82:\tlearn: 0.5873756\ttotal: 477ms\tremaining: 960ms\n",
      "83:\tlearn: 0.5873412\ttotal: 483ms\tremaining: 954ms\n",
      "84:\tlearn: 0.5870289\ttotal: 488ms\tremaining: 947ms\n",
      "85:\tlearn: 0.5868554\ttotal: 495ms\tremaining: 943ms\n",
      "86:\tlearn: 0.5868011\ttotal: 500ms\tremaining: 937ms\n",
      "87:\tlearn: 0.5865307\ttotal: 505ms\tremaining: 930ms\n",
      "88:\tlearn: 0.5865272\ttotal: 510ms\tremaining: 923ms\n",
      "89:\tlearn: 0.5863740\ttotal: 516ms\tremaining: 916ms\n",
      "90:\tlearn: 0.5862703\ttotal: 521ms\tremaining: 910ms\n",
      "91:\tlearn: 0.5859397\ttotal: 526ms\tremaining: 904ms\n",
      "92:\tlearn: 0.5856783\ttotal: 532ms\tremaining: 898ms\n",
      "93:\tlearn: 0.5856189\ttotal: 538ms\tremaining: 892ms\n",
      "94:\tlearn: 0.5855027\ttotal: 543ms\tremaining: 886ms\n",
      "95:\tlearn: 0.5855021\ttotal: 548ms\tremaining: 879ms\n",
      "96:\tlearn: 0.5853987\ttotal: 554ms\tremaining: 873ms\n",
      "97:\tlearn: 0.5852823\ttotal: 559ms\tremaining: 867ms\n",
      "98:\tlearn: 0.5852291\ttotal: 564ms\tremaining: 860ms\n",
      "99:\tlearn: 0.5851502\ttotal: 569ms\tremaining: 854ms\n",
      "100:\tlearn: 0.5850590\ttotal: 575ms\tremaining: 848ms\n",
      "101:\tlearn: 0.5850433\ttotal: 581ms\tremaining: 843ms\n",
      "102:\tlearn: 0.5848319\ttotal: 586ms\tremaining: 836ms\n",
      "103:\tlearn: 0.5847374\ttotal: 591ms\tremaining: 830ms\n",
      "104:\tlearn: 0.5845031\ttotal: 597ms\tremaining: 824ms\n"
     ]
    },
    {
     "name": "stdout",
     "output_type": "stream",
     "text": [
      "105:\tlearn: 0.5841421\ttotal: 603ms\tremaining: 819ms\n",
      "106:\tlearn: 0.5840980\ttotal: 611ms\tremaining: 816ms\n",
      "107:\tlearn: 0.5839459\ttotal: 618ms\tremaining: 812ms\n",
      "108:\tlearn: 0.5838314\ttotal: 627ms\tremaining: 811ms\n",
      "109:\tlearn: 0.5838213\ttotal: 632ms\tremaining: 804ms\n",
      "110:\tlearn: 0.5835903\ttotal: 637ms\tremaining: 798ms\n",
      "111:\tlearn: 0.5833210\ttotal: 643ms\tremaining: 792ms\n",
      "112:\tlearn: 0.5832400\ttotal: 648ms\tremaining: 786ms\n",
      "113:\tlearn: 0.5831541\ttotal: 654ms\tremaining: 780ms\n",
      "114:\tlearn: 0.5830578\ttotal: 659ms\tremaining: 773ms\n",
      "115:\tlearn: 0.5828405\ttotal: 664ms\tremaining: 767ms\n",
      "116:\tlearn: 0.5827013\ttotal: 669ms\tremaining: 761ms\n",
      "117:\tlearn: 0.5826501\ttotal: 675ms\tremaining: 755ms\n",
      "118:\tlearn: 0.5826422\ttotal: 679ms\tremaining: 748ms\n",
      "119:\tlearn: 0.5825045\ttotal: 684ms\tremaining: 741ms\n",
      "120:\tlearn: 0.5821773\ttotal: 690ms\tremaining: 735ms\n",
      "121:\tlearn: 0.5819917\ttotal: 696ms\tremaining: 731ms\n",
      "122:\tlearn: 0.5818648\ttotal: 702ms\tremaining: 724ms\n",
      "123:\tlearn: 0.5816193\ttotal: 707ms\tremaining: 718ms\n",
      "124:\tlearn: 0.5815446\ttotal: 713ms\tremaining: 713ms\n",
      "125:\tlearn: 0.5814295\ttotal: 718ms\tremaining: 707ms\n",
      "126:\tlearn: 0.5812536\ttotal: 723ms\tremaining: 700ms\n",
      "127:\tlearn: 0.5811427\ttotal: 729ms\tremaining: 694ms\n",
      "128:\tlearn: 0.5811141\ttotal: 733ms\tremaining: 688ms\n",
      "129:\tlearn: 0.5808330\ttotal: 739ms\tremaining: 682ms\n",
      "130:\tlearn: 0.5807989\ttotal: 744ms\tremaining: 676ms\n",
      "131:\tlearn: 0.5806751\ttotal: 750ms\tremaining: 670ms\n",
      "132:\tlearn: 0.5805748\ttotal: 755ms\tremaining: 664ms\n",
      "133:\tlearn: 0.5804883\ttotal: 760ms\tremaining: 658ms\n",
      "134:\tlearn: 0.5803439\ttotal: 766ms\tremaining: 652ms\n",
      "135:\tlearn: 0.5802406\ttotal: 771ms\tremaining: 646ms\n",
      "136:\tlearn: 0.5802248\ttotal: 775ms\tremaining: 640ms\n",
      "137:\tlearn: 0.5801650\ttotal: 781ms\tremaining: 634ms\n",
      "138:\tlearn: 0.5799672\ttotal: 786ms\tremaining: 628ms\n",
      "139:\tlearn: 0.5797400\ttotal: 792ms\tremaining: 622ms\n",
      "140:\tlearn: 0.5795252\ttotal: 797ms\tremaining: 616ms\n",
      "141:\tlearn: 0.5795097\ttotal: 806ms\tremaining: 613ms\n",
      "142:\tlearn: 0.5793308\ttotal: 813ms\tremaining: 609ms\n",
      "143:\tlearn: 0.5791179\ttotal: 821ms\tremaining: 605ms\n",
      "144:\tlearn: 0.5790344\ttotal: 827ms\tremaining: 599ms\n",
      "145:\tlearn: 0.5787971\ttotal: 832ms\tremaining: 593ms\n",
      "146:\tlearn: 0.5787273\ttotal: 838ms\tremaining: 587ms\n",
      "147:\tlearn: 0.5786750\ttotal: 843ms\tremaining: 581ms\n",
      "148:\tlearn: 0.5785792\ttotal: 849ms\tremaining: 575ms\n",
      "149:\tlearn: 0.5785445\ttotal: 854ms\tremaining: 569ms\n",
      "150:\tlearn: 0.5784467\ttotal: 860ms\tremaining: 564ms\n",
      "151:\tlearn: 0.5784283\ttotal: 865ms\tremaining: 558ms\n",
      "152:\tlearn: 0.5782802\ttotal: 871ms\tremaining: 552ms\n",
      "153:\tlearn: 0.5780825\ttotal: 876ms\tremaining: 546ms\n",
      "154:\tlearn: 0.5780312\ttotal: 881ms\tremaining: 540ms\n",
      "155:\tlearn: 0.5779627\ttotal: 887ms\tremaining: 534ms\n",
      "156:\tlearn: 0.5779625\ttotal: 891ms\tremaining: 528ms\n",
      "157:\tlearn: 0.5779140\ttotal: 896ms\tremaining: 522ms\n",
      "158:\tlearn: 0.5777801\ttotal: 901ms\tremaining: 516ms\n",
      "159:\tlearn: 0.5776626\ttotal: 907ms\tremaining: 510ms\n",
      "160:\tlearn: 0.5776065\ttotal: 912ms\tremaining: 504ms\n",
      "161:\tlearn: 0.5774732\ttotal: 918ms\tremaining: 499ms\n",
      "162:\tlearn: 0.5772993\ttotal: 923ms\tremaining: 493ms\n",
      "163:\tlearn: 0.5772254\ttotal: 929ms\tremaining: 487ms\n",
      "164:\tlearn: 0.5771025\ttotal: 934ms\tremaining: 481ms\n",
      "165:\tlearn: 0.5768270\ttotal: 939ms\tremaining: 475ms\n",
      "166:\tlearn: 0.5766700\ttotal: 945ms\tremaining: 470ms\n",
      "167:\tlearn: 0.5764985\ttotal: 950ms\tremaining: 464ms\n",
      "168:\tlearn: 0.5763063\ttotal: 957ms\tremaining: 459ms\n",
      "169:\tlearn: 0.5761268\ttotal: 963ms\tremaining: 453ms\n",
      "170:\tlearn: 0.5760132\ttotal: 968ms\tremaining: 447ms\n",
      "171:\tlearn: 0.5760130\ttotal: 973ms\tremaining: 441ms\n",
      "172:\tlearn: 0.5758603\ttotal: 978ms\tremaining: 435ms\n",
      "173:\tlearn: 0.5756966\ttotal: 983ms\tremaining: 429ms\n",
      "174:\tlearn: 0.5756343\ttotal: 989ms\tremaining: 424ms\n",
      "175:\tlearn: 0.5755899\ttotal: 994ms\tremaining: 418ms\n",
      "176:\tlearn: 0.5755714\ttotal: 999ms\tremaining: 412ms\n",
      "177:\tlearn: 0.5755055\ttotal: 1s\tremaining: 407ms\n",
      "178:\tlearn: 0.5754726\ttotal: 1.01s\tremaining: 403ms\n",
      "179:\tlearn: 0.5754660\ttotal: 1.02s\tremaining: 397ms\n",
      "180:\tlearn: 0.5754660\ttotal: 1.02s\tremaining: 391ms\n",
      "181:\tlearn: 0.5754256\ttotal: 1.03s\tremaining: 386ms\n",
      "182:\tlearn: 0.5754209\ttotal: 1.04s\tremaining: 380ms\n",
      "183:\tlearn: 0.5754049\ttotal: 1.04s\tremaining: 374ms\n",
      "184:\tlearn: 0.5753767\ttotal: 1.05s\tremaining: 368ms\n",
      "185:\tlearn: 0.5753527\ttotal: 1.05s\tremaining: 362ms\n",
      "186:\tlearn: 0.5753494\ttotal: 1.06s\tremaining: 356ms\n",
      "187:\tlearn: 0.5753141\ttotal: 1.06s\tremaining: 350ms\n",
      "188:\tlearn: 0.5750920\ttotal: 1.07s\tremaining: 345ms\n",
      "189:\tlearn: 0.5749376\ttotal: 1.07s\tremaining: 339ms\n",
      "190:\tlearn: 0.5748850\ttotal: 1.08s\tremaining: 333ms\n",
      "191:\tlearn: 0.5746986\ttotal: 1.08s\tremaining: 327ms\n",
      "192:\tlearn: 0.5745580\ttotal: 1.09s\tremaining: 322ms\n",
      "193:\tlearn: 0.5745257\ttotal: 1.09s\tremaining: 316ms\n",
      "194:\tlearn: 0.5744310\ttotal: 1.1s\tremaining: 310ms\n",
      "195:\tlearn: 0.5744304\ttotal: 1.1s\tremaining: 304ms\n",
      "196:\tlearn: 0.5744042\ttotal: 1.11s\tremaining: 298ms\n",
      "197:\tlearn: 0.5742455\ttotal: 1.11s\tremaining: 293ms\n",
      "198:\tlearn: 0.5741402\ttotal: 1.12s\tremaining: 287ms\n",
      "199:\tlearn: 0.5740782\ttotal: 1.13s\tremaining: 281ms\n",
      "200:\tlearn: 0.5739038\ttotal: 1.13s\tremaining: 276ms\n",
      "201:\tlearn: 0.5737589\ttotal: 1.14s\tremaining: 270ms\n",
      "202:\tlearn: 0.5737259\ttotal: 1.14s\tremaining: 264ms\n",
      "203:\tlearn: 0.5735393\ttotal: 1.15s\tremaining: 259ms\n",
      "204:\tlearn: 0.5733559\ttotal: 1.15s\tremaining: 253ms\n",
      "205:\tlearn: 0.5733089\ttotal: 1.16s\tremaining: 247ms\n",
      "206:\tlearn: 0.5732004\ttotal: 1.16s\tremaining: 242ms\n",
      "207:\tlearn: 0.5728007\ttotal: 1.17s\tremaining: 236ms\n",
      "208:\tlearn: 0.5727618\ttotal: 1.17s\tremaining: 230ms\n",
      "209:\tlearn: 0.5727108\ttotal: 1.18s\tremaining: 225ms\n",
      "210:\tlearn: 0.5726612\ttotal: 1.18s\tremaining: 219ms\n",
      "211:\tlearn: 0.5725617\ttotal: 1.19s\tremaining: 213ms\n",
      "212:\tlearn: 0.5724820\ttotal: 1.2s\tremaining: 208ms\n",
      "213:\tlearn: 0.5724765\ttotal: 1.2s\tremaining: 202ms\n",
      "214:\tlearn: 0.5722047\ttotal: 1.21s\tremaining: 197ms\n",
      "215:\tlearn: 0.5722047\ttotal: 1.22s\tremaining: 192ms\n",
      "216:\tlearn: 0.5721076\ttotal: 1.23s\tremaining: 187ms\n",
      "217:\tlearn: 0.5720064\ttotal: 1.23s\tremaining: 181ms\n",
      "218:\tlearn: 0.5719184\ttotal: 1.24s\tremaining: 175ms\n",
      "219:\tlearn: 0.5719086\ttotal: 1.24s\tremaining: 169ms\n",
      "220:\tlearn: 0.5718372\ttotal: 1.25s\tremaining: 164ms\n",
      "221:\tlearn: 0.5718348\ttotal: 1.25s\tremaining: 158ms\n",
      "222:\tlearn: 0.5718219\ttotal: 1.26s\tremaining: 152ms\n",
      "223:\tlearn: 0.5717569\ttotal: 1.26s\tremaining: 147ms\n",
      "224:\tlearn: 0.5717417\ttotal: 1.27s\tremaining: 141ms\n",
      "225:\tlearn: 0.5717417\ttotal: 1.27s\tremaining: 135ms\n",
      "226:\tlearn: 0.5714226\ttotal: 1.28s\tremaining: 130ms\n",
      "227:\tlearn: 0.5713382\ttotal: 1.28s\tremaining: 124ms\n",
      "228:\tlearn: 0.5712753\ttotal: 1.29s\tremaining: 118ms\n",
      "229:\tlearn: 0.5711575\ttotal: 1.29s\tremaining: 113ms\n",
      "230:\tlearn: 0.5710131\ttotal: 1.3s\tremaining: 107ms\n",
      "231:\tlearn: 0.5708010\ttotal: 1.3s\tremaining: 101ms\n",
      "232:\tlearn: 0.5707464\ttotal: 1.31s\tremaining: 95.7ms\n",
      "233:\tlearn: 0.5707314\ttotal: 1.32s\tremaining: 90ms\n",
      "234:\tlearn: 0.5706935\ttotal: 1.32s\tremaining: 84.4ms\n",
      "235:\tlearn: 0.5706732\ttotal: 1.33s\tremaining: 78.7ms\n",
      "236:\tlearn: 0.5704277\ttotal: 1.33s\tremaining: 73.1ms\n",
      "237:\tlearn: 0.5702676\ttotal: 1.34s\tremaining: 67.5ms\n",
      "238:\tlearn: 0.5701912\ttotal: 1.34s\tremaining: 61.9ms\n",
      "239:\tlearn: 0.5701542\ttotal: 1.35s\tremaining: 56.3ms\n",
      "240:\tlearn: 0.5700753\ttotal: 1.35s\tremaining: 50.6ms\n",
      "241:\tlearn: 0.5699864\ttotal: 1.36s\tremaining: 45ms\n",
      "242:\tlearn: 0.5699810\ttotal: 1.37s\tremaining: 39.4ms\n",
      "243:\tlearn: 0.5698477\ttotal: 1.37s\tremaining: 33.8ms\n",
      "244:\tlearn: 0.5697628\ttotal: 1.38s\tremaining: 28.2ms\n",
      "245:\tlearn: 0.5697583\ttotal: 1.39s\tremaining: 22.5ms\n",
      "246:\tlearn: 0.5697571\ttotal: 1.39s\tremaining: 16.9ms\n",
      "247:\tlearn: 0.5697530\ttotal: 1.4s\tremaining: 11.3ms\n",
      "248:\tlearn: 0.5696292\ttotal: 1.4s\tremaining: 5.64ms\n",
      "249:\tlearn: 0.5695602\ttotal: 1.41s\tremaining: 0us\n",
      "0:\tlearn: 0.6761929\ttotal: 7.83ms\tremaining: 1.95s\n",
      "1:\tlearn: 0.6609606\ttotal: 19.1ms\tremaining: 2.37s\n",
      "2:\tlearn: 0.6513680\ttotal: 27.1ms\tremaining: 2.23s\n",
      "3:\tlearn: 0.6423319\ttotal: 35ms\tremaining: 2.15s\n",
      "4:\tlearn: 0.6352031\ttotal: 43.1ms\tremaining: 2.11s\n",
      "5:\tlearn: 0.6302718\ttotal: 51.2ms\tremaining: 2.08s\n",
      "6:\tlearn: 0.6268570\ttotal: 58.8ms\tremaining: 2.04s\n",
      "7:\tlearn: 0.6240011\ttotal: 66.7ms\tremaining: 2.02s\n",
      "8:\tlearn: 0.6215065\ttotal: 74.4ms\tremaining: 1.99s\n",
      "9:\tlearn: 0.6190438\ttotal: 82.4ms\tremaining: 1.98s\n",
      "10:\tlearn: 0.6173840\ttotal: 90.3ms\tremaining: 1.96s\n",
      "11:\tlearn: 0.6156518\ttotal: 98.2ms\tremaining: 1.95s\n",
      "12:\tlearn: 0.6149703\ttotal: 106ms\tremaining: 1.93s\n",
      "13:\tlearn: 0.6137999\ttotal: 114ms\tremaining: 1.92s\n",
      "14:\tlearn: 0.6131531\ttotal: 122ms\tremaining: 1.91s\n",
      "15:\tlearn: 0.6125657\ttotal: 130ms\tremaining: 1.9s\n",
      "16:\tlearn: 0.6117043\ttotal: 140ms\tremaining: 1.92s\n",
      "17:\tlearn: 0.6112502\ttotal: 148ms\tremaining: 1.9s\n",
      "18:\tlearn: 0.6107595\ttotal: 155ms\tremaining: 1.89s\n",
      "19:\tlearn: 0.6104823\ttotal: 163ms\tremaining: 1.87s\n",
      "20:\tlearn: 0.6099204\ttotal: 171ms\tremaining: 1.86s\n",
      "21:\tlearn: 0.6095996\ttotal: 179ms\tremaining: 1.85s\n",
      "22:\tlearn: 0.6091774\ttotal: 187ms\tremaining: 1.85s\n",
      "23:\tlearn: 0.6086355\ttotal: 195ms\tremaining: 1.84s\n",
      "24:\tlearn: 0.6083440\ttotal: 204ms\tremaining: 1.84s\n"
     ]
    },
    {
     "name": "stdout",
     "output_type": "stream",
     "text": [
      "25:\tlearn: 0.6079258\ttotal: 218ms\tremaining: 1.88s\n",
      "26:\tlearn: 0.6075028\ttotal: 230ms\tremaining: 1.9s\n",
      "27:\tlearn: 0.6072368\ttotal: 237ms\tremaining: 1.88s\n",
      "28:\tlearn: 0.6070967\ttotal: 247ms\tremaining: 1.88s\n",
      "29:\tlearn: 0.6068951\ttotal: 255ms\tremaining: 1.87s\n",
      "30:\tlearn: 0.6064877\ttotal: 263ms\tremaining: 1.86s\n",
      "31:\tlearn: 0.6059461\ttotal: 271ms\tremaining: 1.85s\n",
      "32:\tlearn: 0.6055859\ttotal: 280ms\tremaining: 1.84s\n",
      "33:\tlearn: 0.6054738\ttotal: 288ms\tremaining: 1.83s\n",
      "34:\tlearn: 0.6053280\ttotal: 296ms\tremaining: 1.82s\n",
      "35:\tlearn: 0.6052103\ttotal: 304ms\tremaining: 1.8s\n",
      "36:\tlearn: 0.6052098\ttotal: 310ms\tremaining: 1.78s\n",
      "37:\tlearn: 0.6049869\ttotal: 319ms\tremaining: 1.78s\n",
      "38:\tlearn: 0.6048825\ttotal: 327ms\tremaining: 1.77s\n",
      "39:\tlearn: 0.6048636\ttotal: 336ms\tremaining: 1.76s\n",
      "40:\tlearn: 0.6048128\ttotal: 348ms\tremaining: 1.77s\n",
      "41:\tlearn: 0.6046532\ttotal: 355ms\tremaining: 1.76s\n",
      "42:\tlearn: 0.6043428\ttotal: 363ms\tremaining: 1.75s\n",
      "43:\tlearn: 0.6041141\ttotal: 371ms\tremaining: 1.74s\n",
      "44:\tlearn: 0.6039344\ttotal: 379ms\tremaining: 1.73s\n",
      "45:\tlearn: 0.6036298\ttotal: 387ms\tremaining: 1.72s\n",
      "46:\tlearn: 0.6034281\ttotal: 395ms\tremaining: 1.71s\n",
      "47:\tlearn: 0.6032696\ttotal: 402ms\tremaining: 1.69s\n",
      "48:\tlearn: 0.6029933\ttotal: 411ms\tremaining: 1.68s\n",
      "49:\tlearn: 0.6029521\ttotal: 427ms\tremaining: 1.71s\n",
      "50:\tlearn: 0.6028422\ttotal: 435ms\tremaining: 1.7s\n",
      "51:\tlearn: 0.6027657\ttotal: 443ms\tremaining: 1.69s\n",
      "52:\tlearn: 0.6026047\ttotal: 451ms\tremaining: 1.68s\n",
      "53:\tlearn: 0.6024364\ttotal: 459ms\tremaining: 1.67s\n",
      "54:\tlearn: 0.6022365\ttotal: 467ms\tremaining: 1.66s\n",
      "55:\tlearn: 0.6020992\ttotal: 475ms\tremaining: 1.65s\n",
      "56:\tlearn: 0.6019029\ttotal: 483ms\tremaining: 1.64s\n",
      "57:\tlearn: 0.6017189\ttotal: 491ms\tremaining: 1.63s\n",
      "58:\tlearn: 0.6013876\ttotal: 499ms\tremaining: 1.61s\n",
      "59:\tlearn: 0.6013077\ttotal: 507ms\tremaining: 1.6s\n",
      "60:\tlearn: 0.6011826\ttotal: 515ms\tremaining: 1.6s\n",
      "61:\tlearn: 0.6010571\ttotal: 523ms\tremaining: 1.58s\n",
      "62:\tlearn: 0.6010491\ttotal: 529ms\tremaining: 1.57s\n",
      "63:\tlearn: 0.6006959\ttotal: 537ms\tremaining: 1.56s\n",
      "64:\tlearn: 0.6005509\ttotal: 546ms\tremaining: 1.55s\n",
      "65:\tlearn: 0.6003893\ttotal: 554ms\tremaining: 1.54s\n",
      "66:\tlearn: 0.6001670\ttotal: 562ms\tremaining: 1.53s\n",
      "67:\tlearn: 0.5999123\ttotal: 570ms\tremaining: 1.52s\n",
      "68:\tlearn: 0.5998415\ttotal: 578ms\tremaining: 1.51s\n",
      "69:\tlearn: 0.5996804\ttotal: 586ms\tremaining: 1.5s\n",
      "70:\tlearn: 0.5994170\ttotal: 594ms\tremaining: 1.5s\n",
      "71:\tlearn: 0.5993483\ttotal: 602ms\tremaining: 1.49s\n",
      "72:\tlearn: 0.5992467\ttotal: 610ms\tremaining: 1.48s\n",
      "73:\tlearn: 0.5990524\ttotal: 618ms\tremaining: 1.47s\n",
      "74:\tlearn: 0.5990236\ttotal: 626ms\tremaining: 1.46s\n",
      "75:\tlearn: 0.5989194\ttotal: 642ms\tremaining: 1.47s\n",
      "76:\tlearn: 0.5987782\ttotal: 650ms\tremaining: 1.46s\n",
      "77:\tlearn: 0.5986817\ttotal: 658ms\tremaining: 1.45s\n",
      "78:\tlearn: 0.5985697\ttotal: 666ms\tremaining: 1.44s\n",
      "79:\tlearn: 0.5985557\ttotal: 673ms\tremaining: 1.43s\n",
      "80:\tlearn: 0.5984352\ttotal: 681ms\tremaining: 1.42s\n",
      "81:\tlearn: 0.5983232\ttotal: 689ms\tremaining: 1.41s\n",
      "82:\tlearn: 0.5981762\ttotal: 697ms\tremaining: 1.4s\n",
      "83:\tlearn: 0.5979573\ttotal: 705ms\tremaining: 1.39s\n",
      "84:\tlearn: 0.5978405\ttotal: 713ms\tremaining: 1.38s\n",
      "85:\tlearn: 0.5977999\ttotal: 721ms\tremaining: 1.38s\n",
      "86:\tlearn: 0.5977491\ttotal: 729ms\tremaining: 1.36s\n",
      "87:\tlearn: 0.5975497\ttotal: 737ms\tremaining: 1.36s\n",
      "88:\tlearn: 0.5972832\ttotal: 745ms\tremaining: 1.35s\n",
      "89:\tlearn: 0.5970874\ttotal: 753ms\tremaining: 1.34s\n",
      "90:\tlearn: 0.5968476\ttotal: 761ms\tremaining: 1.33s\n",
      "91:\tlearn: 0.5967493\ttotal: 768ms\tremaining: 1.32s\n",
      "92:\tlearn: 0.5966282\ttotal: 776ms\tremaining: 1.31s\n",
      "93:\tlearn: 0.5966103\ttotal: 784ms\tremaining: 1.3s\n",
      "94:\tlearn: 0.5965510\ttotal: 791ms\tremaining: 1.29s\n",
      "95:\tlearn: 0.5964255\ttotal: 799ms\tremaining: 1.28s\n",
      "96:\tlearn: 0.5964255\ttotal: 805ms\tremaining: 1.27s\n",
      "97:\tlearn: 0.5960567\ttotal: 813ms\tremaining: 1.26s\n",
      "98:\tlearn: 0.5958123\ttotal: 821ms\tremaining: 1.25s\n",
      "99:\tlearn: 0.5957477\ttotal: 833ms\tremaining: 1.25s\n",
      "100:\tlearn: 0.5956512\ttotal: 845ms\tremaining: 1.25s\n",
      "101:\tlearn: 0.5955855\ttotal: 852ms\tremaining: 1.24s\n",
      "102:\tlearn: 0.5954234\ttotal: 861ms\tremaining: 1.23s\n",
      "103:\tlearn: 0.5952769\ttotal: 869ms\tremaining: 1.22s\n",
      "104:\tlearn: 0.5950868\ttotal: 877ms\tremaining: 1.21s\n",
      "105:\tlearn: 0.5948290\ttotal: 885ms\tremaining: 1.2s\n",
      "106:\tlearn: 0.5946856\ttotal: 893ms\tremaining: 1.19s\n",
      "107:\tlearn: 0.5946812\ttotal: 901ms\tremaining: 1.18s\n",
      "108:\tlearn: 0.5944386\ttotal: 909ms\tremaining: 1.18s\n",
      "109:\tlearn: 0.5944350\ttotal: 916ms\tremaining: 1.17s\n",
      "110:\tlearn: 0.5943411\ttotal: 926ms\tremaining: 1.16s\n",
      "111:\tlearn: 0.5942821\ttotal: 934ms\tremaining: 1.15s\n",
      "112:\tlearn: 0.5942211\ttotal: 943ms\tremaining: 1.14s\n",
      "113:\tlearn: 0.5941079\ttotal: 951ms\tremaining: 1.13s\n",
      "114:\tlearn: 0.5939746\ttotal: 959ms\tremaining: 1.13s\n",
      "115:\tlearn: 0.5938219\ttotal: 967ms\tremaining: 1.12s\n",
      "116:\tlearn: 0.5937316\ttotal: 975ms\tremaining: 1.11s\n",
      "117:\tlearn: 0.5936785\ttotal: 983ms\tremaining: 1.1s\n",
      "118:\tlearn: 0.5934641\ttotal: 991ms\tremaining: 1.09s\n",
      "119:\tlearn: 0.5933896\ttotal: 999ms\tremaining: 1.08s\n",
      "120:\tlearn: 0.5932863\ttotal: 1.01s\tremaining: 1.07s\n",
      "121:\tlearn: 0.5931670\ttotal: 1.01s\tremaining: 1.06s\n",
      "122:\tlearn: 0.5930800\ttotal: 1.02s\tremaining: 1.06s\n",
      "123:\tlearn: 0.5930250\ttotal: 1.03s\tremaining: 1.05s\n",
      "124:\tlearn: 0.5927890\ttotal: 1.04s\tremaining: 1.04s\n",
      "125:\tlearn: 0.5926255\ttotal: 1.05s\tremaining: 1.03s\n",
      "126:\tlearn: 0.5924527\ttotal: 1.06s\tremaining: 1.03s\n",
      "127:\tlearn: 0.5924394\ttotal: 1.07s\tremaining: 1.02s\n",
      "128:\tlearn: 0.5922115\ttotal: 1.08s\tremaining: 1.01s\n",
      "129:\tlearn: 0.5922089\ttotal: 1.08s\tremaining: 1s\n",
      "130:\tlearn: 0.5920291\ttotal: 1.09s\tremaining: 992ms\n",
      "131:\tlearn: 0.5920130\ttotal: 1.1s\tremaining: 983ms\n",
      "132:\tlearn: 0.5919362\ttotal: 1.11s\tremaining: 974ms\n",
      "133:\tlearn: 0.5917810\ttotal: 1.11s\tremaining: 965ms\n",
      "134:\tlearn: 0.5916171\ttotal: 1.12s\tremaining: 957ms\n",
      "135:\tlearn: 0.5914616\ttotal: 1.13s\tremaining: 948ms\n",
      "136:\tlearn: 0.5913259\ttotal: 1.14s\tremaining: 940ms\n",
      "137:\tlearn: 0.5911319\ttotal: 1.15s\tremaining: 931ms\n",
      "138:\tlearn: 0.5908704\ttotal: 1.16s\tremaining: 923ms\n",
      "139:\tlearn: 0.5908439\ttotal: 1.16s\tremaining: 914ms\n",
      "140:\tlearn: 0.5907908\ttotal: 1.17s\tremaining: 906ms\n",
      "141:\tlearn: 0.5906741\ttotal: 1.18s\tremaining: 897ms\n",
      "142:\tlearn: 0.5905979\ttotal: 1.19s\tremaining: 889ms\n",
      "143:\tlearn: 0.5905133\ttotal: 1.2s\tremaining: 880ms\n",
      "144:\tlearn: 0.5903655\ttotal: 1.2s\tremaining: 872ms\n",
      "145:\tlearn: 0.5903654\ttotal: 1.21s\tremaining: 862ms\n",
      "146:\tlearn: 0.5901868\ttotal: 1.22s\tremaining: 853ms\n",
      "147:\tlearn: 0.5901456\ttotal: 1.23s\tremaining: 845ms\n",
      "148:\tlearn: 0.5901455\ttotal: 1.23s\tremaining: 837ms\n",
      "149:\tlearn: 0.5899995\ttotal: 1.25s\tremaining: 831ms\n",
      "150:\tlearn: 0.5896641\ttotal: 1.25s\tremaining: 823ms\n",
      "151:\tlearn: 0.5896521\ttotal: 1.26s\tremaining: 815ms\n",
      "152:\tlearn: 0.5895497\ttotal: 1.27s\tremaining: 806ms\n",
      "153:\tlearn: 0.5893703\ttotal: 1.28s\tremaining: 797ms\n",
      "154:\tlearn: 0.5892737\ttotal: 1.29s\tremaining: 789ms\n",
      "155:\tlearn: 0.5891805\ttotal: 1.29s\tremaining: 780ms\n",
      "156:\tlearn: 0.5891261\ttotal: 1.3s\tremaining: 772ms\n",
      "157:\tlearn: 0.5890604\ttotal: 1.31s\tremaining: 763ms\n",
      "158:\tlearn: 0.5889709\ttotal: 1.32s\tremaining: 755ms\n",
      "159:\tlearn: 0.5889269\ttotal: 1.33s\tremaining: 746ms\n",
      "160:\tlearn: 0.5888793\ttotal: 1.33s\tremaining: 738ms\n",
      "161:\tlearn: 0.5888334\ttotal: 1.34s\tremaining: 729ms\n",
      "162:\tlearn: 0.5887215\ttotal: 1.35s\tremaining: 721ms\n",
      "163:\tlearn: 0.5886322\ttotal: 1.36s\tremaining: 712ms\n",
      "164:\tlearn: 0.5885910\ttotal: 1.37s\tremaining: 704ms\n",
      "165:\tlearn: 0.5883968\ttotal: 1.37s\tremaining: 696ms\n",
      "166:\tlearn: 0.5883248\ttotal: 1.38s\tremaining: 687ms\n",
      "167:\tlearn: 0.5881655\ttotal: 1.39s\tremaining: 679ms\n",
      "168:\tlearn: 0.5881033\ttotal: 1.4s\tremaining: 671ms\n",
      "169:\tlearn: 0.5880218\ttotal: 1.41s\tremaining: 662ms\n",
      "170:\tlearn: 0.5879977\ttotal: 1.41s\tremaining: 654ms\n",
      "171:\tlearn: 0.5879621\ttotal: 1.42s\tremaining: 645ms\n",
      "172:\tlearn: 0.5879591\ttotal: 1.43s\tremaining: 636ms\n",
      "173:\tlearn: 0.5878980\ttotal: 1.44s\tremaining: 629ms\n",
      "174:\tlearn: 0.5877561\ttotal: 1.45s\tremaining: 622ms\n",
      "175:\tlearn: 0.5875665\ttotal: 1.47s\tremaining: 616ms\n",
      "176:\tlearn: 0.5874250\ttotal: 1.47s\tremaining: 608ms\n",
      "177:\tlearn: 0.5873606\ttotal: 1.48s\tremaining: 599ms\n",
      "178:\tlearn: 0.5872141\ttotal: 1.49s\tremaining: 591ms\n",
      "179:\tlearn: 0.5871173\ttotal: 1.5s\tremaining: 582ms\n",
      "180:\tlearn: 0.5870477\ttotal: 1.5s\tremaining: 574ms\n",
      "181:\tlearn: 0.5870048\ttotal: 1.51s\tremaining: 566ms\n",
      "182:\tlearn: 0.5869792\ttotal: 1.52s\tremaining: 557ms\n",
      "183:\tlearn: 0.5869145\ttotal: 1.53s\tremaining: 548ms\n",
      "184:\tlearn: 0.5868516\ttotal: 1.54s\tremaining: 540ms\n",
      "185:\tlearn: 0.5868402\ttotal: 1.54s\tremaining: 531ms\n",
      "186:\tlearn: 0.5867913\ttotal: 1.55s\tremaining: 523ms\n",
      "187:\tlearn: 0.5867776\ttotal: 1.56s\tremaining: 515ms\n",
      "188:\tlearn: 0.5867776\ttotal: 1.57s\tremaining: 506ms\n",
      "189:\tlearn: 0.5867646\ttotal: 1.58s\tremaining: 498ms\n",
      "190:\tlearn: 0.5867317\ttotal: 1.58s\tremaining: 490ms\n",
      "191:\tlearn: 0.5867049\ttotal: 1.59s\tremaining: 481ms\n",
      "192:\tlearn: 0.5865618\ttotal: 1.6s\tremaining: 473ms\n",
      "193:\tlearn: 0.5864762\ttotal: 1.61s\tremaining: 464ms\n",
      "194:\tlearn: 0.5863173\ttotal: 1.62s\tremaining: 456ms\n",
      "195:\tlearn: 0.5862907\ttotal: 1.62s\tremaining: 448ms\n",
      "196:\tlearn: 0.5861693\ttotal: 1.63s\tremaining: 439ms\n"
     ]
    },
    {
     "name": "stdout",
     "output_type": "stream",
     "text": [
      "197:\tlearn: 0.5860753\ttotal: 1.64s\tremaining: 431ms\n",
      "198:\tlearn: 0.5860191\ttotal: 1.66s\tremaining: 424ms\n",
      "199:\tlearn: 0.5858921\ttotal: 1.66s\tremaining: 416ms\n",
      "200:\tlearn: 0.5858421\ttotal: 1.68s\tremaining: 408ms\n",
      "201:\tlearn: 0.5857984\ttotal: 1.68s\tremaining: 400ms\n",
      "202:\tlearn: 0.5857177\ttotal: 1.69s\tremaining: 392ms\n",
      "203:\tlearn: 0.5855692\ttotal: 1.7s\tremaining: 383ms\n",
      "204:\tlearn: 0.5854503\ttotal: 1.71s\tremaining: 375ms\n",
      "205:\tlearn: 0.5854151\ttotal: 1.72s\tremaining: 366ms\n",
      "206:\tlearn: 0.5854025\ttotal: 1.72s\tremaining: 358ms\n",
      "207:\tlearn: 0.5852585\ttotal: 1.73s\tremaining: 349ms\n",
      "208:\tlearn: 0.5851331\ttotal: 1.74s\tremaining: 341ms\n",
      "209:\tlearn: 0.5850467\ttotal: 1.75s\tremaining: 333ms\n",
      "210:\tlearn: 0.5849323\ttotal: 1.75s\tremaining: 324ms\n",
      "211:\tlearn: 0.5849224\ttotal: 1.76s\tremaining: 316ms\n",
      "212:\tlearn: 0.5849029\ttotal: 1.77s\tremaining: 308ms\n",
      "213:\tlearn: 0.5848483\ttotal: 1.78s\tremaining: 299ms\n",
      "214:\tlearn: 0.5848376\ttotal: 1.78s\tremaining: 291ms\n",
      "215:\tlearn: 0.5846694\ttotal: 1.8s\tremaining: 283ms\n",
      "216:\tlearn: 0.5846181\ttotal: 1.8s\tremaining: 275ms\n",
      "217:\tlearn: 0.5846181\ttotal: 1.81s\tremaining: 266ms\n",
      "218:\tlearn: 0.5844180\ttotal: 1.82s\tremaining: 257ms\n",
      "219:\tlearn: 0.5843197\ttotal: 1.83s\tremaining: 249ms\n",
      "220:\tlearn: 0.5841977\ttotal: 1.83s\tremaining: 241ms\n",
      "221:\tlearn: 0.5841290\ttotal: 1.85s\tremaining: 233ms\n",
      "222:\tlearn: 0.5840551\ttotal: 1.86s\tremaining: 225ms\n",
      "223:\tlearn: 0.5839665\ttotal: 1.86s\tremaining: 217ms\n",
      "224:\tlearn: 0.5839258\ttotal: 1.87s\tremaining: 208ms\n",
      "225:\tlearn: 0.5838665\ttotal: 1.88s\tremaining: 200ms\n",
      "226:\tlearn: 0.5837726\ttotal: 1.89s\tremaining: 191ms\n",
      "227:\tlearn: 0.5837505\ttotal: 1.9s\tremaining: 183ms\n",
      "228:\tlearn: 0.5836348\ttotal: 1.9s\tremaining: 175ms\n",
      "229:\tlearn: 0.5835124\ttotal: 1.91s\tremaining: 166ms\n",
      "230:\tlearn: 0.5835074\ttotal: 1.92s\tremaining: 158ms\n",
      "231:\tlearn: 0.5834037\ttotal: 1.93s\tremaining: 150ms\n",
      "232:\tlearn: 0.5834014\ttotal: 1.94s\tremaining: 141ms\n",
      "233:\tlearn: 0.5834014\ttotal: 1.94s\tremaining: 133ms\n",
      "234:\tlearn: 0.5833947\ttotal: 1.95s\tremaining: 124ms\n",
      "235:\tlearn: 0.5831946\ttotal: 1.96s\tremaining: 116ms\n",
      "236:\tlearn: 0.5831298\ttotal: 1.97s\tremaining: 108ms\n",
      "237:\tlearn: 0.5831075\ttotal: 1.97s\tremaining: 99.5ms\n",
      "238:\tlearn: 0.5830977\ttotal: 1.98s\tremaining: 91.2ms\n",
      "239:\tlearn: 0.5830299\ttotal: 1.99s\tremaining: 82.9ms\n",
      "240:\tlearn: 0.5830029\ttotal: 2s\tremaining: 74.6ms\n",
      "241:\tlearn: 0.5829785\ttotal: 2s\tremaining: 66.3ms\n",
      "242:\tlearn: 0.5828947\ttotal: 2.01s\tremaining: 58ms\n",
      "243:\tlearn: 0.5828926\ttotal: 2.02s\tremaining: 49.7ms\n",
      "244:\tlearn: 0.5827438\ttotal: 2.03s\tremaining: 41.4ms\n",
      "245:\tlearn: 0.5826026\ttotal: 2.04s\tremaining: 33.1ms\n",
      "246:\tlearn: 0.5824667\ttotal: 2.04s\tremaining: 24.8ms\n",
      "247:\tlearn: 0.5824177\ttotal: 2.05s\tremaining: 16.6ms\n",
      "248:\tlearn: 0.5823612\ttotal: 2.06s\tremaining: 8.29ms\n",
      "249:\tlearn: 0.5821931\ttotal: 2.07s\tremaining: 0us\n",
      "0:\tlearn: 0.6740804\ttotal: 8.99ms\tremaining: 2.24s\n",
      "1:\tlearn: 0.6599644\ttotal: 18ms\tremaining: 2.23s\n",
      "2:\tlearn: 0.6481892\ttotal: 27.2ms\tremaining: 2.24s\n",
      "3:\tlearn: 0.6390783\ttotal: 36.1ms\tremaining: 2.22s\n",
      "4:\tlearn: 0.6340813\ttotal: 44.4ms\tremaining: 2.18s\n",
      "5:\tlearn: 0.6289845\ttotal: 53.3ms\tremaining: 2.17s\n",
      "6:\tlearn: 0.6257467\ttotal: 62ms\tremaining: 2.15s\n",
      "7:\tlearn: 0.6218727\ttotal: 70.8ms\tremaining: 2.14s\n",
      "8:\tlearn: 0.6195018\ttotal: 79.6ms\tremaining: 2.13s\n",
      "9:\tlearn: 0.6172040\ttotal: 88.3ms\tremaining: 2.12s\n",
      "10:\tlearn: 0.6152016\ttotal: 97ms\tremaining: 2.11s\n",
      "11:\tlearn: 0.6129882\ttotal: 106ms\tremaining: 2.1s\n",
      "12:\tlearn: 0.6112688\ttotal: 115ms\tremaining: 2.1s\n",
      "13:\tlearn: 0.6098638\ttotal: 124ms\tremaining: 2.09s\n",
      "14:\tlearn: 0.6091322\ttotal: 133ms\tremaining: 2.08s\n",
      "15:\tlearn: 0.6081117\ttotal: 141ms\tremaining: 2.07s\n",
      "16:\tlearn: 0.6076354\ttotal: 151ms\tremaining: 2.06s\n",
      "17:\tlearn: 0.6071111\ttotal: 158ms\tremaining: 2.04s\n",
      "18:\tlearn: 0.6065430\ttotal: 168ms\tremaining: 2.04s\n",
      "19:\tlearn: 0.6060599\ttotal: 176ms\tremaining: 2.03s\n",
      "20:\tlearn: 0.6057516\ttotal: 185ms\tremaining: 2.02s\n",
      "21:\tlearn: 0.6055099\ttotal: 194ms\tremaining: 2.01s\n",
      "22:\tlearn: 0.6052673\ttotal: 202ms\tremaining: 2s\n",
      "23:\tlearn: 0.6052436\ttotal: 211ms\tremaining: 1.99s\n",
      "24:\tlearn: 0.6048368\ttotal: 224ms\tremaining: 2.01s\n",
      "25:\tlearn: 0.6046254\ttotal: 233ms\tremaining: 2s\n",
      "26:\tlearn: 0.6041747\ttotal: 241ms\tremaining: 1.99s\n",
      "27:\tlearn: 0.6039374\ttotal: 250ms\tremaining: 1.99s\n",
      "28:\tlearn: 0.6035433\ttotal: 259ms\tremaining: 1.98s\n",
      "29:\tlearn: 0.6033446\ttotal: 268ms\tremaining: 1.97s\n",
      "30:\tlearn: 0.6032291\ttotal: 277ms\tremaining: 1.96s\n",
      "31:\tlearn: 0.6029852\ttotal: 286ms\tremaining: 1.95s\n",
      "32:\tlearn: 0.6027679\ttotal: 295ms\tremaining: 1.94s\n",
      "33:\tlearn: 0.6024894\ttotal: 304ms\tremaining: 1.93s\n",
      "34:\tlearn: 0.6023488\ttotal: 313ms\tremaining: 1.92s\n",
      "35:\tlearn: 0.6020501\ttotal: 322ms\tremaining: 1.91s\n",
      "36:\tlearn: 0.6018026\ttotal: 332ms\tremaining: 1.91s\n",
      "37:\tlearn: 0.6016862\ttotal: 341ms\tremaining: 1.9s\n",
      "38:\tlearn: 0.6013965\ttotal: 350ms\tremaining: 1.89s\n",
      "39:\tlearn: 0.6012991\ttotal: 359ms\tremaining: 1.89s\n",
      "40:\tlearn: 0.6012660\ttotal: 368ms\tremaining: 1.87s\n",
      "41:\tlearn: 0.6011250\ttotal: 377ms\tremaining: 1.86s\n",
      "42:\tlearn: 0.6009988\ttotal: 386ms\tremaining: 1.86s\n",
      "43:\tlearn: 0.6008289\ttotal: 395ms\tremaining: 1.85s\n",
      "44:\tlearn: 0.6007558\ttotal: 404ms\tremaining: 1.84s\n",
      "45:\tlearn: 0.6004814\ttotal: 414ms\tremaining: 1.84s\n",
      "46:\tlearn: 0.6003971\ttotal: 428ms\tremaining: 1.85s\n",
      "47:\tlearn: 0.6001172\ttotal: 437ms\tremaining: 1.84s\n",
      "48:\tlearn: 0.5999713\ttotal: 447ms\tremaining: 1.83s\n",
      "49:\tlearn: 0.5997696\ttotal: 457ms\tremaining: 1.83s\n",
      "50:\tlearn: 0.5997620\ttotal: 464ms\tremaining: 1.81s\n",
      "51:\tlearn: 0.5996067\ttotal: 473ms\tremaining: 1.8s\n",
      "52:\tlearn: 0.5995244\ttotal: 482ms\tremaining: 1.79s\n",
      "53:\tlearn: 0.5994604\ttotal: 490ms\tremaining: 1.78s\n",
      "54:\tlearn: 0.5993824\ttotal: 499ms\tremaining: 1.77s\n",
      "55:\tlearn: 0.5990877\ttotal: 508ms\tremaining: 1.76s\n",
      "56:\tlearn: 0.5989800\ttotal: 517ms\tremaining: 1.75s\n",
      "57:\tlearn: 0.5988167\ttotal: 526ms\tremaining: 1.74s\n",
      "58:\tlearn: 0.5987446\ttotal: 536ms\tremaining: 1.74s\n",
      "59:\tlearn: 0.5986840\ttotal: 548ms\tremaining: 1.74s\n",
      "60:\tlearn: 0.5986244\ttotal: 557ms\tremaining: 1.72s\n",
      "61:\tlearn: 0.5984881\ttotal: 568ms\tremaining: 1.72s\n",
      "62:\tlearn: 0.5983852\ttotal: 577ms\tremaining: 1.71s\n",
      "63:\tlearn: 0.5982726\ttotal: 587ms\tremaining: 1.71s\n",
      "64:\tlearn: 0.5982669\ttotal: 595ms\tremaining: 1.69s\n",
      "65:\tlearn: 0.5980977\ttotal: 604ms\tremaining: 1.68s\n",
      "66:\tlearn: 0.5979892\ttotal: 614ms\tremaining: 1.68s\n",
      "67:\tlearn: 0.5978710\ttotal: 628ms\tremaining: 1.68s\n",
      "68:\tlearn: 0.5978203\ttotal: 638ms\tremaining: 1.67s\n",
      "69:\tlearn: 0.5976044\ttotal: 648ms\tremaining: 1.67s\n",
      "70:\tlearn: 0.5975072\ttotal: 659ms\tremaining: 1.66s\n",
      "71:\tlearn: 0.5974514\ttotal: 668ms\tremaining: 1.65s\n",
      "72:\tlearn: 0.5973692\ttotal: 677ms\tremaining: 1.64s\n",
      "73:\tlearn: 0.5973043\ttotal: 686ms\tremaining: 1.63s\n",
      "74:\tlearn: 0.5971571\ttotal: 695ms\tremaining: 1.62s\n",
      "75:\tlearn: 0.5969384\ttotal: 704ms\tremaining: 1.61s\n",
      "76:\tlearn: 0.5967915\ttotal: 713ms\tremaining: 1.6s\n",
      "77:\tlearn: 0.5967373\ttotal: 721ms\tremaining: 1.59s\n",
      "78:\tlearn: 0.5966163\ttotal: 730ms\tremaining: 1.58s\n",
      "79:\tlearn: 0.5964095\ttotal: 739ms\tremaining: 1.57s\n",
      "80:\tlearn: 0.5963244\ttotal: 749ms\tremaining: 1.56s\n",
      "81:\tlearn: 0.5963214\ttotal: 756ms\tremaining: 1.55s\n",
      "82:\tlearn: 0.5962284\ttotal: 765ms\tremaining: 1.54s\n",
      "83:\tlearn: 0.5960702\ttotal: 774ms\tremaining: 1.53s\n",
      "84:\tlearn: 0.5960127\ttotal: 783ms\tremaining: 1.52s\n",
      "85:\tlearn: 0.5959145\ttotal: 796ms\tremaining: 1.52s\n",
      "86:\tlearn: 0.5958540\ttotal: 805ms\tremaining: 1.51s\n",
      "87:\tlearn: 0.5957802\ttotal: 819ms\tremaining: 1.51s\n",
      "88:\tlearn: 0.5956165\ttotal: 830ms\tremaining: 1.5s\n",
      "89:\tlearn: 0.5953736\ttotal: 840ms\tremaining: 1.49s\n",
      "90:\tlearn: 0.5952416\ttotal: 848ms\tremaining: 1.48s\n",
      "91:\tlearn: 0.5951883\ttotal: 857ms\tremaining: 1.47s\n",
      "92:\tlearn: 0.5950398\ttotal: 866ms\tremaining: 1.46s\n",
      "93:\tlearn: 0.5949456\ttotal: 875ms\tremaining: 1.45s\n",
      "94:\tlearn: 0.5948479\ttotal: 883ms\tremaining: 1.44s\n",
      "95:\tlearn: 0.5947289\ttotal: 892ms\tremaining: 1.43s\n",
      "96:\tlearn: 0.5945456\ttotal: 901ms\tremaining: 1.42s\n",
      "97:\tlearn: 0.5944691\ttotal: 910ms\tremaining: 1.41s\n",
      "98:\tlearn: 0.5944155\ttotal: 919ms\tremaining: 1.4s\n",
      "99:\tlearn: 0.5944053\ttotal: 927ms\tremaining: 1.39s\n",
      "100:\tlearn: 0.5942988\ttotal: 936ms\tremaining: 1.38s\n",
      "101:\tlearn: 0.5942280\ttotal: 944ms\tremaining: 1.37s\n",
      "102:\tlearn: 0.5940651\ttotal: 953ms\tremaining: 1.36s\n",
      "103:\tlearn: 0.5939932\ttotal: 962ms\tremaining: 1.35s\n",
      "104:\tlearn: 0.5937294\ttotal: 971ms\tremaining: 1.34s\n",
      "105:\tlearn: 0.5935720\ttotal: 980ms\tremaining: 1.33s\n",
      "106:\tlearn: 0.5934699\ttotal: 989ms\tremaining: 1.32s\n",
      "107:\tlearn: 0.5934506\ttotal: 997ms\tremaining: 1.31s\n",
      "108:\tlearn: 0.5934235\ttotal: 1s\tremaining: 1.3s\n",
      "109:\tlearn: 0.5932722\ttotal: 1.01s\tremaining: 1.29s\n"
     ]
    },
    {
     "name": "stdout",
     "output_type": "stream",
     "text": [
      "110:\tlearn: 0.5931491\ttotal: 1.03s\tremaining: 1.29s\n",
      "111:\tlearn: 0.5931036\ttotal: 1.04s\tremaining: 1.28s\n",
      "112:\tlearn: 0.5930702\ttotal: 1.05s\tremaining: 1.27s\n",
      "113:\tlearn: 0.5929621\ttotal: 1.06s\tremaining: 1.26s\n",
      "114:\tlearn: 0.5929051\ttotal: 1.07s\tremaining: 1.26s\n",
      "115:\tlearn: 0.5927990\ttotal: 1.08s\tremaining: 1.25s\n",
      "116:\tlearn: 0.5926267\ttotal: 1.09s\tremaining: 1.24s\n",
      "117:\tlearn: 0.5925128\ttotal: 1.1s\tremaining: 1.23s\n",
      "118:\tlearn: 0.5925031\ttotal: 1.11s\tremaining: 1.22s\n",
      "119:\tlearn: 0.5923427\ttotal: 1.12s\tremaining: 1.21s\n",
      "120:\tlearn: 0.5923239\ttotal: 1.13s\tremaining: 1.21s\n",
      "121:\tlearn: 0.5922875\ttotal: 1.14s\tremaining: 1.2s\n",
      "122:\tlearn: 0.5921467\ttotal: 1.15s\tremaining: 1.19s\n",
      "123:\tlearn: 0.5920488\ttotal: 1.16s\tremaining: 1.18s\n",
      "124:\tlearn: 0.5919709\ttotal: 1.17s\tremaining: 1.17s\n",
      "125:\tlearn: 0.5917653\ttotal: 1.18s\tremaining: 1.16s\n",
      "126:\tlearn: 0.5916507\ttotal: 1.18s\tremaining: 1.15s\n",
      "127:\tlearn: 0.5916129\ttotal: 1.19s\tremaining: 1.14s\n",
      "128:\tlearn: 0.5915288\ttotal: 1.2s\tremaining: 1.13s\n",
      "129:\tlearn: 0.5914641\ttotal: 1.21s\tremaining: 1.12s\n",
      "130:\tlearn: 0.5914467\ttotal: 1.22s\tremaining: 1.11s\n",
      "131:\tlearn: 0.5913422\ttotal: 1.24s\tremaining: 1.1s\n",
      "132:\tlearn: 0.5913112\ttotal: 1.25s\tremaining: 1.1s\n",
      "133:\tlearn: 0.5912353\ttotal: 1.25s\tremaining: 1.09s\n",
      "134:\tlearn: 0.5911713\ttotal: 1.26s\tremaining: 1.08s\n",
      "135:\tlearn: 0.5910681\ttotal: 1.27s\tremaining: 1.07s\n",
      "136:\tlearn: 0.5910545\ttotal: 1.28s\tremaining: 1.06s\n",
      "137:\tlearn: 0.5909794\ttotal: 1.29s\tremaining: 1.05s\n",
      "138:\tlearn: 0.5909155\ttotal: 1.3s\tremaining: 1.04s\n",
      "139:\tlearn: 0.5908336\ttotal: 1.31s\tremaining: 1.03s\n",
      "140:\tlearn: 0.5908336\ttotal: 1.32s\tremaining: 1.02s\n",
      "141:\tlearn: 0.5906886\ttotal: 1.33s\tremaining: 1.01s\n",
      "142:\tlearn: 0.5904194\ttotal: 1.34s\tremaining: 1s\n",
      "143:\tlearn: 0.5903061\ttotal: 1.35s\tremaining: 991ms\n",
      "144:\tlearn: 0.5902242\ttotal: 1.35s\tremaining: 981ms\n",
      "145:\tlearn: 0.5900752\ttotal: 1.36s\tremaining: 972ms\n",
      "146:\tlearn: 0.5900414\ttotal: 1.37s\tremaining: 962ms\n",
      "147:\tlearn: 0.5899630\ttotal: 1.38s\tremaining: 953ms\n",
      "148:\tlearn: 0.5898887\ttotal: 1.39s\tremaining: 943ms\n",
      "149:\tlearn: 0.5897915\ttotal: 1.4s\tremaining: 934ms\n",
      "150:\tlearn: 0.5897597\ttotal: 1.41s\tremaining: 924ms\n",
      "151:\tlearn: 0.5896838\ttotal: 1.42s\tremaining: 914ms\n",
      "152:\tlearn: 0.5896568\ttotal: 1.43s\tremaining: 905ms\n",
      "153:\tlearn: 0.5896508\ttotal: 1.44s\tremaining: 896ms\n",
      "154:\tlearn: 0.5895639\ttotal: 1.45s\tremaining: 889ms\n",
      "155:\tlearn: 0.5895639\ttotal: 1.46s\tremaining: 878ms\n",
      "156:\tlearn: 0.5894749\ttotal: 1.47s\tremaining: 869ms\n",
      "157:\tlearn: 0.5894194\ttotal: 1.48s\tremaining: 859ms\n",
      "158:\tlearn: 0.5893430\ttotal: 1.48s\tremaining: 850ms\n",
      "159:\tlearn: 0.5893208\ttotal: 1.49s\tremaining: 840ms\n",
      "160:\tlearn: 0.5893208\ttotal: 1.5s\tremaining: 830ms\n",
      "161:\tlearn: 0.5892765\ttotal: 1.51s\tremaining: 820ms\n",
      "162:\tlearn: 0.5892293\ttotal: 1.52s\tremaining: 810ms\n",
      "163:\tlearn: 0.5891316\ttotal: 1.53s\tremaining: 801ms\n",
      "164:\tlearn: 0.5889983\ttotal: 1.54s\tremaining: 792ms\n",
      "165:\tlearn: 0.5889317\ttotal: 1.55s\tremaining: 783ms\n",
      "166:\tlearn: 0.5889048\ttotal: 1.55s\tremaining: 773ms\n",
      "167:\tlearn: 0.5888864\ttotal: 1.56s\tremaining: 764ms\n",
      "168:\tlearn: 0.5888682\ttotal: 1.57s\tremaining: 754ms\n",
      "169:\tlearn: 0.5888055\ttotal: 1.58s\tremaining: 745ms\n",
      "170:\tlearn: 0.5886804\ttotal: 1.59s\tremaining: 736ms\n",
      "171:\tlearn: 0.5886659\ttotal: 1.6s\tremaining: 726ms\n",
      "172:\tlearn: 0.5886565\ttotal: 1.61s\tremaining: 717ms\n",
      "173:\tlearn: 0.5886065\ttotal: 1.62s\tremaining: 707ms\n",
      "174:\tlearn: 0.5885694\ttotal: 1.63s\tremaining: 698ms\n",
      "175:\tlearn: 0.5885012\ttotal: 1.64s\tremaining: 690ms\n",
      "176:\tlearn: 0.5883932\ttotal: 1.65s\tremaining: 680ms\n",
      "177:\tlearn: 0.5883138\ttotal: 1.67s\tremaining: 674ms\n",
      "178:\tlearn: 0.5882608\ttotal: 1.68s\tremaining: 665ms\n",
      "179:\tlearn: 0.5882387\ttotal: 1.68s\tremaining: 655ms\n",
      "180:\tlearn: 0.5881895\ttotal: 1.69s\tremaining: 646ms\n",
      "181:\tlearn: 0.5881647\ttotal: 1.7s\tremaining: 636ms\n",
      "182:\tlearn: 0.5880978\ttotal: 1.71s\tremaining: 627ms\n",
      "183:\tlearn: 0.5880038\ttotal: 1.72s\tremaining: 618ms\n",
      "184:\tlearn: 0.5879310\ttotal: 1.73s\tremaining: 608ms\n",
      "185:\tlearn: 0.5879035\ttotal: 1.74s\tremaining: 599ms\n",
      "186:\tlearn: 0.5878606\ttotal: 1.75s\tremaining: 589ms\n",
      "187:\tlearn: 0.5878335\ttotal: 1.76s\tremaining: 580ms\n",
      "188:\tlearn: 0.5878297\ttotal: 1.77s\tremaining: 571ms\n",
      "189:\tlearn: 0.5877921\ttotal: 1.78s\tremaining: 561ms\n",
      "190:\tlearn: 0.5877738\ttotal: 1.79s\tremaining: 552ms\n",
      "191:\tlearn: 0.5876595\ttotal: 1.8s\tremaining: 543ms\n",
      "192:\tlearn: 0.5875673\ttotal: 1.81s\tremaining: 535ms\n",
      "193:\tlearn: 0.5874669\ttotal: 1.82s\tremaining: 527ms\n",
      "194:\tlearn: 0.5874581\ttotal: 1.83s\tremaining: 517ms\n",
      "195:\tlearn: 0.5873345\ttotal: 1.84s\tremaining: 508ms\n",
      "196:\tlearn: 0.5872023\ttotal: 1.86s\tremaining: 500ms\n",
      "197:\tlearn: 0.5871783\ttotal: 1.87s\tremaining: 490ms\n",
      "198:\tlearn: 0.5871152\ttotal: 1.88s\tremaining: 481ms\n",
      "199:\tlearn: 0.5870286\ttotal: 1.89s\tremaining: 472ms\n",
      "200:\tlearn: 0.5870178\ttotal: 1.9s\tremaining: 462ms\n",
      "201:\tlearn: 0.5870025\ttotal: 1.9s\tremaining: 453ms\n",
      "202:\tlearn: 0.5868801\ttotal: 1.91s\tremaining: 443ms\n",
      "203:\tlearn: 0.5867534\ttotal: 1.92s\tremaining: 434ms\n",
      "204:\tlearn: 0.5866723\ttotal: 1.93s\tremaining: 424ms\n",
      "205:\tlearn: 0.5866048\ttotal: 1.94s\tremaining: 415ms\n",
      "206:\tlearn: 0.5865442\ttotal: 1.95s\tremaining: 405ms\n",
      "207:\tlearn: 0.5865075\ttotal: 1.96s\tremaining: 396ms\n",
      "208:\tlearn: 0.5864483\ttotal: 1.97s\tremaining: 386ms\n",
      "209:\tlearn: 0.5863809\ttotal: 1.98s\tremaining: 377ms\n",
      "210:\tlearn: 0.5863576\ttotal: 1.99s\tremaining: 367ms\n",
      "211:\tlearn: 0.5863378\ttotal: 2s\tremaining: 358ms\n",
      "212:\tlearn: 0.5863130\ttotal: 2s\tremaining: 348ms\n",
      "213:\tlearn: 0.5862660\ttotal: 2.01s\tremaining: 339ms\n",
      "214:\tlearn: 0.5862299\ttotal: 2.02s\tremaining: 329ms\n",
      "215:\tlearn: 0.5861747\ttotal: 2.03s\tremaining: 320ms\n",
      "216:\tlearn: 0.5861587\ttotal: 2.04s\tremaining: 310ms\n",
      "217:\tlearn: 0.5860502\ttotal: 2.05s\tremaining: 301ms\n",
      "218:\tlearn: 0.5860002\ttotal: 2.06s\tremaining: 292ms\n",
      "219:\tlearn: 0.5859700\ttotal: 2.07s\tremaining: 283ms\n",
      "220:\tlearn: 0.5859591\ttotal: 2.08s\tremaining: 273ms\n",
      "221:\tlearn: 0.5858848\ttotal: 2.09s\tremaining: 264ms\n",
      "222:\tlearn: 0.5857831\ttotal: 2.1s\tremaining: 254ms\n",
      "223:\tlearn: 0.5857219\ttotal: 2.11s\tremaining: 245ms\n",
      "224:\tlearn: 0.5856495\ttotal: 2.12s\tremaining: 235ms\n",
      "225:\tlearn: 0.5855668\ttotal: 2.13s\tremaining: 226ms\n",
      "226:\tlearn: 0.5855475\ttotal: 2.13s\tremaining: 216ms\n",
      "227:\tlearn: 0.5855116\ttotal: 2.14s\tremaining: 207ms\n",
      "228:\tlearn: 0.5854935\ttotal: 2.15s\tremaining: 197ms\n",
      "229:\tlearn: 0.5853422\ttotal: 2.16s\tremaining: 188ms\n",
      "230:\tlearn: 0.5851823\ttotal: 2.17s\tremaining: 179ms\n",
      "231:\tlearn: 0.5850426\ttotal: 2.18s\tremaining: 169ms\n",
      "232:\tlearn: 0.5848599\ttotal: 2.19s\tremaining: 160ms\n",
      "233:\tlearn: 0.5848383\ttotal: 2.2s\tremaining: 151ms\n",
      "234:\tlearn: 0.5847915\ttotal: 2.21s\tremaining: 141ms\n",
      "235:\tlearn: 0.5847211\ttotal: 2.23s\tremaining: 132ms\n",
      "236:\tlearn: 0.5846430\ttotal: 2.24s\tremaining: 123ms\n",
      "237:\tlearn: 0.5846247\ttotal: 2.25s\tremaining: 114ms\n",
      "238:\tlearn: 0.5845748\ttotal: 2.27s\tremaining: 105ms\n",
      "239:\tlearn: 0.5845746\ttotal: 2.28s\tremaining: 95.1ms\n",
      "240:\tlearn: 0.5845272\ttotal: 2.29s\tremaining: 85.6ms\n",
      "241:\tlearn: 0.5845058\ttotal: 2.3s\tremaining: 76.1ms\n",
      "242:\tlearn: 0.5844790\ttotal: 2.31s\tremaining: 66.6ms\n",
      "243:\tlearn: 0.5844421\ttotal: 2.32s\tremaining: 57ms\n",
      "244:\tlearn: 0.5843875\ttotal: 2.33s\tremaining: 47.5ms\n",
      "245:\tlearn: 0.5843105\ttotal: 2.34s\tremaining: 38ms\n",
      "246:\tlearn: 0.5842318\ttotal: 2.35s\tremaining: 28.5ms\n",
      "247:\tlearn: 0.5841761\ttotal: 2.36s\tremaining: 19ms\n",
      "248:\tlearn: 0.5841393\ttotal: 2.37s\tremaining: 9.5ms\n",
      "249:\tlearn: 0.5840716\ttotal: 2.38s\tremaining: 0us\n",
      "0:\tlearn: 0.6712177\ttotal: 14.9ms\tremaining: 3.71s\n",
      "1:\tlearn: 0.6554861\ttotal: 29.1ms\tremaining: 3.6s\n",
      "2:\tlearn: 0.6410851\ttotal: 44.8ms\tremaining: 3.69s\n",
      "3:\tlearn: 0.6234278\ttotal: 59.4ms\tremaining: 3.65s\n",
      "4:\tlearn: 0.6100663\ttotal: 72.3ms\tremaining: 3.54s\n",
      "5:\tlearn: 0.6004436\ttotal: 85.9ms\tremaining: 3.49s\n",
      "6:\tlearn: 0.5942301\ttotal: 100ms\tremaining: 3.49s\n",
      "7:\tlearn: 0.5903603\ttotal: 114ms\tremaining: 3.45s\n",
      "8:\tlearn: 0.5871826\ttotal: 127ms\tremaining: 3.41s\n",
      "9:\tlearn: 0.5846360\ttotal: 141ms\tremaining: 3.37s\n",
      "10:\tlearn: 0.5827914\ttotal: 154ms\tremaining: 3.35s\n",
      "11:\tlearn: 0.5812984\ttotal: 167ms\tremaining: 3.31s\n",
      "12:\tlearn: 0.5785245\ttotal: 180ms\tremaining: 3.27s\n",
      "13:\tlearn: 0.5768707\ttotal: 193ms\tremaining: 3.25s\n",
      "14:\tlearn: 0.5748094\ttotal: 205ms\tremaining: 3.22s\n",
      "15:\tlearn: 0.5739615\ttotal: 220ms\tremaining: 3.22s\n",
      "16:\tlearn: 0.5730596\ttotal: 236ms\tremaining: 3.23s\n",
      "17:\tlearn: 0.5722629\ttotal: 252ms\tremaining: 3.25s\n",
      "18:\tlearn: 0.5710661\ttotal: 265ms\tremaining: 3.22s\n",
      "19:\tlearn: 0.5703676\ttotal: 277ms\tremaining: 3.18s\n",
      "20:\tlearn: 0.5699738\ttotal: 290ms\tremaining: 3.16s\n",
      "21:\tlearn: 0.5699335\ttotal: 300ms\tremaining: 3.1s\n",
      "22:\tlearn: 0.5689699\ttotal: 313ms\tremaining: 3.09s\n",
      "23:\tlearn: 0.5689215\ttotal: 325ms\tremaining: 3.06s\n",
      "24:\tlearn: 0.5683477\ttotal: 338ms\tremaining: 3.04s\n",
      "25:\tlearn: 0.5678379\ttotal: 351ms\tremaining: 3.03s\n",
      "26:\tlearn: 0.5675933\ttotal: 372ms\tremaining: 3.07s\n",
      "27:\tlearn: 0.5672924\ttotal: 394ms\tremaining: 3.13s\n",
      "28:\tlearn: 0.5668317\ttotal: 411ms\tremaining: 3.13s\n"
     ]
    },
    {
     "name": "stdout",
     "output_type": "stream",
     "text": [
      "29:\tlearn: 0.5666080\ttotal: 429ms\tremaining: 3.14s\n",
      "30:\tlearn: 0.5662634\ttotal: 450ms\tremaining: 3.18s\n",
      "31:\tlearn: 0.5660075\ttotal: 465ms\tremaining: 3.17s\n",
      "32:\tlearn: 0.5657845\ttotal: 491ms\tremaining: 3.23s\n",
      "33:\tlearn: 0.5655129\ttotal: 507ms\tremaining: 3.22s\n",
      "34:\tlearn: 0.5654781\ttotal: 524ms\tremaining: 3.22s\n",
      "35:\tlearn: 0.5653777\ttotal: 540ms\tremaining: 3.21s\n",
      "36:\tlearn: 0.5651466\ttotal: 556ms\tremaining: 3.2s\n",
      "37:\tlearn: 0.5647565\ttotal: 573ms\tremaining: 3.2s\n",
      "38:\tlearn: 0.5647564\ttotal: 586ms\tremaining: 3.17s\n",
      "39:\tlearn: 0.5645738\ttotal: 600ms\tremaining: 3.15s\n",
      "40:\tlearn: 0.5644566\ttotal: 614ms\tremaining: 3.13s\n",
      "41:\tlearn: 0.5641844\ttotal: 628ms\tremaining: 3.11s\n",
      "42:\tlearn: 0.5641734\ttotal: 644ms\tremaining: 3.1s\n",
      "43:\tlearn: 0.5640380\ttotal: 657ms\tremaining: 3.07s\n",
      "44:\tlearn: 0.5638371\ttotal: 670ms\tremaining: 3.05s\n",
      "45:\tlearn: 0.5636642\ttotal: 683ms\tremaining: 3.03s\n",
      "46:\tlearn: 0.5635508\ttotal: 697ms\tremaining: 3.01s\n",
      "47:\tlearn: 0.5634504\ttotal: 710ms\tremaining: 2.99s\n",
      "48:\tlearn: 0.5632556\ttotal: 723ms\tremaining: 2.96s\n",
      "49:\tlearn: 0.5631275\ttotal: 736ms\tremaining: 2.94s\n",
      "50:\tlearn: 0.5630601\ttotal: 748ms\tremaining: 2.92s\n",
      "51:\tlearn: 0.5629128\ttotal: 761ms\tremaining: 2.9s\n",
      "52:\tlearn: 0.5628341\ttotal: 774ms\tremaining: 2.88s\n",
      "53:\tlearn: 0.5626383\ttotal: 787ms\tremaining: 2.86s\n",
      "54:\tlearn: 0.5625432\ttotal: 800ms\tremaining: 2.84s\n",
      "55:\tlearn: 0.5624866\ttotal: 812ms\tremaining: 2.81s\n",
      "56:\tlearn: 0.5623484\ttotal: 824ms\tremaining: 2.79s\n",
      "57:\tlearn: 0.5622705\ttotal: 842ms\tremaining: 2.79s\n",
      "58:\tlearn: 0.5620678\ttotal: 855ms\tremaining: 2.77s\n",
      "59:\tlearn: 0.5619725\ttotal: 868ms\tremaining: 2.75s\n",
      "60:\tlearn: 0.5618639\ttotal: 881ms\tremaining: 2.73s\n",
      "61:\tlearn: 0.5617943\ttotal: 895ms\tremaining: 2.71s\n",
      "62:\tlearn: 0.5615453\ttotal: 909ms\tremaining: 2.7s\n",
      "63:\tlearn: 0.5614654\ttotal: 922ms\tremaining: 2.68s\n",
      "64:\tlearn: 0.5613530\ttotal: 935ms\tremaining: 2.66s\n",
      "65:\tlearn: 0.5612318\ttotal: 948ms\tremaining: 2.64s\n",
      "66:\tlearn: 0.5610795\ttotal: 962ms\tremaining: 2.63s\n",
      "67:\tlearn: 0.5610447\ttotal: 977ms\tremaining: 2.61s\n",
      "68:\tlearn: 0.5609436\ttotal: 994ms\tremaining: 2.61s\n",
      "69:\tlearn: 0.5608083\ttotal: 1.02s\tremaining: 2.61s\n",
      "70:\tlearn: 0.5607246\ttotal: 1.04s\tremaining: 2.62s\n",
      "71:\tlearn: 0.5606743\ttotal: 1.07s\tremaining: 2.64s\n",
      "72:\tlearn: 0.5606070\ttotal: 1.09s\tremaining: 2.64s\n",
      "73:\tlearn: 0.5605556\ttotal: 1.1s\tremaining: 2.63s\n",
      "74:\tlearn: 0.5604573\ttotal: 1.12s\tremaining: 2.62s\n",
      "75:\tlearn: 0.5604281\ttotal: 1.14s\tremaining: 2.6s\n",
      "76:\tlearn: 0.5603021\ttotal: 1.15s\tremaining: 2.58s\n",
      "77:\tlearn: 0.5601740\ttotal: 1.17s\tremaining: 2.58s\n",
      "78:\tlearn: 0.5601206\ttotal: 1.18s\tremaining: 2.56s\n",
      "79:\tlearn: 0.5600819\ttotal: 1.2s\tremaining: 2.54s\n",
      "80:\tlearn: 0.5600050\ttotal: 1.21s\tremaining: 2.52s\n",
      "81:\tlearn: 0.5598551\ttotal: 1.22s\tremaining: 2.51s\n",
      "82:\tlearn: 0.5598089\ttotal: 1.24s\tremaining: 2.49s\n",
      "83:\tlearn: 0.5597381\ttotal: 1.25s\tremaining: 2.48s\n",
      "84:\tlearn: 0.5596060\ttotal: 1.26s\tremaining: 2.46s\n",
      "85:\tlearn: 0.5595190\ttotal: 1.28s\tremaining: 2.45s\n",
      "86:\tlearn: 0.5594408\ttotal: 1.3s\tremaining: 2.43s\n",
      "87:\tlearn: 0.5593953\ttotal: 1.31s\tremaining: 2.41s\n",
      "88:\tlearn: 0.5593384\ttotal: 1.32s\tremaining: 2.39s\n",
      "89:\tlearn: 0.5591994\ttotal: 1.34s\tremaining: 2.38s\n",
      "90:\tlearn: 0.5590935\ttotal: 1.35s\tremaining: 2.36s\n",
      "91:\tlearn: 0.5589716\ttotal: 1.36s\tremaining: 2.34s\n",
      "92:\tlearn: 0.5588083\ttotal: 1.38s\tremaining: 2.32s\n",
      "93:\tlearn: 0.5586833\ttotal: 1.39s\tremaining: 2.31s\n",
      "94:\tlearn: 0.5585621\ttotal: 1.4s\tremaining: 2.29s\n",
      "95:\tlearn: 0.5584106\ttotal: 1.42s\tremaining: 2.27s\n",
      "96:\tlearn: 0.5583627\ttotal: 1.43s\tremaining: 2.25s\n",
      "97:\tlearn: 0.5583130\ttotal: 1.44s\tremaining: 2.24s\n",
      "98:\tlearn: 0.5582342\ttotal: 1.46s\tremaining: 2.22s\n",
      "99:\tlearn: 0.5581491\ttotal: 1.47s\tremaining: 2.21s\n",
      "100:\tlearn: 0.5581251\ttotal: 1.5s\tremaining: 2.21s\n",
      "101:\tlearn: 0.5581082\ttotal: 1.52s\tremaining: 2.2s\n",
      "102:\tlearn: 0.5579666\ttotal: 1.53s\tremaining: 2.19s\n",
      "103:\tlearn: 0.5579172\ttotal: 1.55s\tremaining: 2.18s\n",
      "104:\tlearn: 0.5578002\ttotal: 1.57s\tremaining: 2.17s\n",
      "105:\tlearn: 0.5577580\ttotal: 1.59s\tremaining: 2.16s\n",
      "106:\tlearn: 0.5576618\ttotal: 1.62s\tremaining: 2.16s\n",
      "107:\tlearn: 0.5575586\ttotal: 1.64s\tremaining: 2.15s\n",
      "108:\tlearn: 0.5573390\ttotal: 1.66s\tremaining: 2.14s\n",
      "109:\tlearn: 0.5572621\ttotal: 1.68s\tremaining: 2.14s\n",
      "110:\tlearn: 0.5570988\ttotal: 1.7s\tremaining: 2.13s\n",
      "111:\tlearn: 0.5570408\ttotal: 1.72s\tremaining: 2.12s\n",
      "112:\tlearn: 0.5569878\ttotal: 1.74s\tremaining: 2.11s\n",
      "113:\tlearn: 0.5568833\ttotal: 1.76s\tremaining: 2.1s\n",
      "114:\tlearn: 0.5568621\ttotal: 1.78s\tremaining: 2.1s\n",
      "115:\tlearn: 0.5567321\ttotal: 1.8s\tremaining: 2.08s\n",
      "116:\tlearn: 0.5566650\ttotal: 1.82s\tremaining: 2.07s\n",
      "117:\tlearn: 0.5566423\ttotal: 1.84s\tremaining: 2.06s\n",
      "118:\tlearn: 0.5565495\ttotal: 1.86s\tremaining: 2.04s\n",
      "119:\tlearn: 0.5564742\ttotal: 1.87s\tremaining: 2.03s\n",
      "120:\tlearn: 0.5564250\ttotal: 1.89s\tremaining: 2.02s\n",
      "121:\tlearn: 0.5563861\ttotal: 1.92s\tremaining: 2.01s\n",
      "122:\tlearn: 0.5563166\ttotal: 1.93s\tremaining: 2s\n",
      "123:\tlearn: 0.5562523\ttotal: 1.95s\tremaining: 1.98s\n",
      "124:\tlearn: 0.5561917\ttotal: 1.97s\tremaining: 1.97s\n",
      "125:\tlearn: 0.5561289\ttotal: 1.99s\tremaining: 1.96s\n",
      "126:\tlearn: 0.5560122\ttotal: 2.01s\tremaining: 1.95s\n",
      "127:\tlearn: 0.5559871\ttotal: 2.03s\tremaining: 1.94s\n",
      "128:\tlearn: 0.5559418\ttotal: 2.05s\tremaining: 1.92s\n",
      "129:\tlearn: 0.5556992\ttotal: 2.06s\tremaining: 1.91s\n",
      "130:\tlearn: 0.5555859\ttotal: 2.08s\tremaining: 1.89s\n",
      "131:\tlearn: 0.5555720\ttotal: 2.1s\tremaining: 1.88s\n",
      "132:\tlearn: 0.5555027\ttotal: 2.13s\tremaining: 1.87s\n",
      "133:\tlearn: 0.5554423\ttotal: 2.15s\tremaining: 1.86s\n",
      "134:\tlearn: 0.5554423\ttotal: 2.16s\tremaining: 1.84s\n",
      "135:\tlearn: 0.5553916\ttotal: 2.17s\tremaining: 1.82s\n",
      "136:\tlearn: 0.5552717\ttotal: 2.19s\tremaining: 1.81s\n",
      "137:\tlearn: 0.5552093\ttotal: 2.21s\tremaining: 1.8s\n",
      "138:\tlearn: 0.5551506\ttotal: 2.24s\tremaining: 1.79s\n",
      "139:\tlearn: 0.5550672\ttotal: 2.26s\tremaining: 1.78s\n",
      "140:\tlearn: 0.5550203\ttotal: 2.29s\tremaining: 1.77s\n",
      "141:\tlearn: 0.5549006\ttotal: 2.32s\tremaining: 1.76s\n",
      "142:\tlearn: 0.5548774\ttotal: 2.34s\tremaining: 1.75s\n",
      "143:\tlearn: 0.5548376\ttotal: 2.36s\tremaining: 1.74s\n",
      "144:\tlearn: 0.5547953\ttotal: 2.38s\tremaining: 1.73s\n",
      "145:\tlearn: 0.5547297\ttotal: 2.41s\tremaining: 1.72s\n",
      "146:\tlearn: 0.5547297\ttotal: 2.43s\tremaining: 1.7s\n",
      "147:\tlearn: 0.5546984\ttotal: 2.45s\tremaining: 1.69s\n",
      "148:\tlearn: 0.5546652\ttotal: 2.48s\tremaining: 1.68s\n",
      "149:\tlearn: 0.5546521\ttotal: 2.49s\tremaining: 1.66s\n",
      "150:\tlearn: 0.5546096\ttotal: 2.51s\tremaining: 1.65s\n",
      "151:\tlearn: 0.5545167\ttotal: 2.53s\tremaining: 1.63s\n",
      "152:\tlearn: 0.5544942\ttotal: 2.54s\tremaining: 1.61s\n",
      "153:\tlearn: 0.5544094\ttotal: 2.56s\tremaining: 1.6s\n",
      "154:\tlearn: 0.5543577\ttotal: 2.58s\tremaining: 1.58s\n",
      "155:\tlearn: 0.5542953\ttotal: 2.6s\tremaining: 1.57s\n",
      "156:\tlearn: 0.5541382\ttotal: 2.62s\tremaining: 1.55s\n",
      "157:\tlearn: 0.5540707\ttotal: 2.63s\tremaining: 1.53s\n",
      "158:\tlearn: 0.5539613\ttotal: 2.65s\tremaining: 1.52s\n",
      "159:\tlearn: 0.5539275\ttotal: 2.67s\tremaining: 1.5s\n",
      "160:\tlearn: 0.5538460\ttotal: 2.69s\tremaining: 1.49s\n",
      "161:\tlearn: 0.5537420\ttotal: 2.71s\tremaining: 1.47s\n",
      "162:\tlearn: 0.5537420\ttotal: 2.72s\tremaining: 1.45s\n",
      "163:\tlearn: 0.5536865\ttotal: 2.73s\tremaining: 1.43s\n",
      "164:\tlearn: 0.5536094\ttotal: 2.76s\tremaining: 1.42s\n",
      "165:\tlearn: 0.5535037\ttotal: 2.77s\tremaining: 1.4s\n",
      "166:\tlearn: 0.5534130\ttotal: 2.79s\tremaining: 1.39s\n",
      "167:\tlearn: 0.5534130\ttotal: 2.8s\tremaining: 1.37s\n",
      "168:\tlearn: 0.5532974\ttotal: 2.81s\tremaining: 1.35s\n",
      "169:\tlearn: 0.5532038\ttotal: 2.83s\tremaining: 1.33s\n",
      "170:\tlearn: 0.5531617\ttotal: 2.84s\tremaining: 1.31s\n",
      "171:\tlearn: 0.5531595\ttotal: 2.86s\tremaining: 1.29s\n",
      "172:\tlearn: 0.5531332\ttotal: 2.87s\tremaining: 1.28s\n",
      "173:\tlearn: 0.5530927\ttotal: 2.88s\tremaining: 1.26s\n",
      "174:\tlearn: 0.5530556\ttotal: 2.9s\tremaining: 1.24s\n",
      "175:\tlearn: 0.5530112\ttotal: 2.91s\tremaining: 1.22s\n",
      "176:\tlearn: 0.5529609\ttotal: 2.92s\tremaining: 1.21s\n",
      "177:\tlearn: 0.5528431\ttotal: 2.94s\tremaining: 1.19s\n",
      "178:\tlearn: 0.5527688\ttotal: 2.95s\tremaining: 1.17s\n",
      "179:\tlearn: 0.5526826\ttotal: 2.97s\tremaining: 1.15s\n",
      "180:\tlearn: 0.5526633\ttotal: 2.98s\tremaining: 1.14s\n",
      "181:\tlearn: 0.5525452\ttotal: 2.99s\tremaining: 1.12s\n",
      "182:\tlearn: 0.5524742\ttotal: 3.01s\tremaining: 1.1s\n",
      "183:\tlearn: 0.5524295\ttotal: 3.02s\tremaining: 1.08s\n",
      "184:\tlearn: 0.5523632\ttotal: 3.03s\tremaining: 1.06s\n",
      "185:\tlearn: 0.5522625\ttotal: 3.04s\tremaining: 1.05s\n",
      "186:\tlearn: 0.5522346\ttotal: 3.06s\tremaining: 1.03s\n",
      "187:\tlearn: 0.5521543\ttotal: 3.07s\tremaining: 1.01s\n",
      "188:\tlearn: 0.5520869\ttotal: 3.08s\tremaining: 996ms\n",
      "189:\tlearn: 0.5520744\ttotal: 3.1s\tremaining: 978ms\n",
      "190:\tlearn: 0.5520186\ttotal: 3.11s\tremaining: 961ms\n",
      "191:\tlearn: 0.5520176\ttotal: 3.12s\tremaining: 943ms\n",
      "192:\tlearn: 0.5519605\ttotal: 3.13s\tremaining: 926ms\n",
      "193:\tlearn: 0.5518787\ttotal: 3.15s\tremaining: 908ms\n",
      "194:\tlearn: 0.5518729\ttotal: 3.16s\tremaining: 891ms\n"
     ]
    },
    {
     "name": "stdout",
     "output_type": "stream",
     "text": [
      "195:\tlearn: 0.5518235\ttotal: 3.17s\tremaining: 875ms\n",
      "196:\tlearn: 0.5517786\ttotal: 3.19s\tremaining: 858ms\n",
      "197:\tlearn: 0.5517428\ttotal: 3.2s\tremaining: 841ms\n",
      "198:\tlearn: 0.5516923\ttotal: 3.21s\tremaining: 824ms\n",
      "199:\tlearn: 0.5516138\ttotal: 3.23s\tremaining: 807ms\n",
      "200:\tlearn: 0.5516073\ttotal: 3.24s\tremaining: 790ms\n",
      "201:\tlearn: 0.5516048\ttotal: 3.25s\tremaining: 773ms\n",
      "202:\tlearn: 0.5515835\ttotal: 3.26s\tremaining: 755ms\n",
      "203:\tlearn: 0.5514836\ttotal: 3.27s\tremaining: 739ms\n",
      "204:\tlearn: 0.5514453\ttotal: 3.29s\tremaining: 722ms\n",
      "205:\tlearn: 0.5514122\ttotal: 3.3s\tremaining: 705ms\n",
      "206:\tlearn: 0.5513690\ttotal: 3.31s\tremaining: 688ms\n",
      "207:\tlearn: 0.5512991\ttotal: 3.33s\tremaining: 672ms\n",
      "208:\tlearn: 0.5512389\ttotal: 3.34s\tremaining: 655ms\n",
      "209:\tlearn: 0.5511075\ttotal: 3.35s\tremaining: 638ms\n",
      "210:\tlearn: 0.5510670\ttotal: 3.36s\tremaining: 622ms\n",
      "211:\tlearn: 0.5509929\ttotal: 3.38s\tremaining: 606ms\n",
      "212:\tlearn: 0.5509615\ttotal: 3.4s\tremaining: 590ms\n",
      "213:\tlearn: 0.5508910\ttotal: 3.41s\tremaining: 573ms\n",
      "214:\tlearn: 0.5508838\ttotal: 3.42s\tremaining: 557ms\n",
      "215:\tlearn: 0.5508007\ttotal: 3.44s\tremaining: 541ms\n",
      "216:\tlearn: 0.5507079\ttotal: 3.45s\tremaining: 525ms\n",
      "217:\tlearn: 0.5506902\ttotal: 3.47s\tremaining: 510ms\n",
      "218:\tlearn: 0.5505713\ttotal: 3.49s\tremaining: 494ms\n",
      "219:\tlearn: 0.5505465\ttotal: 3.51s\tremaining: 478ms\n",
      "220:\tlearn: 0.5504888\ttotal: 3.52s\tremaining: 462ms\n",
      "221:\tlearn: 0.5504397\ttotal: 3.54s\tremaining: 446ms\n",
      "222:\tlearn: 0.5504070\ttotal: 3.55s\tremaining: 430ms\n",
      "223:\tlearn: 0.5503321\ttotal: 3.57s\tremaining: 415ms\n",
      "224:\tlearn: 0.5503047\ttotal: 3.6s\tremaining: 400ms\n",
      "225:\tlearn: 0.5502607\ttotal: 3.61s\tremaining: 384ms\n",
      "226:\tlearn: 0.5502223\ttotal: 3.63s\tremaining: 368ms\n",
      "227:\tlearn: 0.5501429\ttotal: 3.65s\tremaining: 352ms\n",
      "228:\tlearn: 0.5501149\ttotal: 3.66s\tremaining: 336ms\n",
      "229:\tlearn: 0.5500430\ttotal: 3.68s\tremaining: 320ms\n",
      "230:\tlearn: 0.5500398\ttotal: 3.7s\tremaining: 304ms\n",
      "231:\tlearn: 0.5499842\ttotal: 3.72s\tremaining: 288ms\n",
      "232:\tlearn: 0.5499632\ttotal: 3.73s\tremaining: 272ms\n",
      "233:\tlearn: 0.5499607\ttotal: 3.75s\tremaining: 256ms\n",
      "234:\tlearn: 0.5499146\ttotal: 3.77s\tremaining: 240ms\n",
      "235:\tlearn: 0.5498127\ttotal: 3.79s\tremaining: 225ms\n",
      "236:\tlearn: 0.5497125\ttotal: 3.81s\tremaining: 209ms\n",
      "237:\tlearn: 0.5496618\ttotal: 3.83s\tremaining: 193ms\n",
      "238:\tlearn: 0.5496320\ttotal: 3.85s\tremaining: 177ms\n",
      "239:\tlearn: 0.5495751\ttotal: 3.86s\tremaining: 161ms\n",
      "240:\tlearn: 0.5494910\ttotal: 3.88s\tremaining: 145ms\n",
      "241:\tlearn: 0.5494436\ttotal: 3.9s\tremaining: 129ms\n",
      "242:\tlearn: 0.5493463\ttotal: 3.92s\tremaining: 113ms\n",
      "243:\tlearn: 0.5493146\ttotal: 3.93s\tremaining: 96.7ms\n",
      "244:\tlearn: 0.5492335\ttotal: 3.95s\tremaining: 80.7ms\n",
      "245:\tlearn: 0.5492023\ttotal: 3.97s\tremaining: 64.6ms\n",
      "246:\tlearn: 0.5491495\ttotal: 3.99s\tremaining: 48.5ms\n",
      "247:\tlearn: 0.5491495\ttotal: 4s\tremaining: 32.3ms\n",
      "248:\tlearn: 0.5491284\ttotal: 4.03s\tremaining: 16.2ms\n",
      "249:\tlearn: 0.5490683\ttotal: 4.05s\tremaining: 0us\n",
      "0:\tlearn: 0.6736680\ttotal: 2.97ms\tremaining: 741ms\n",
      "1:\tlearn: 0.6554643\ttotal: 7.19ms\tremaining: 892ms\n",
      "2:\tlearn: 0.6407512\ttotal: 10.7ms\tremaining: 885ms\n",
      "3:\tlearn: 0.6284431\ttotal: 13.9ms\tremaining: 858ms\n",
      "4:\tlearn: 0.6215120\ttotal: 17.4ms\tremaining: 854ms\n",
      "5:\tlearn: 0.6148019\ttotal: 20.6ms\tremaining: 836ms\n",
      "6:\tlearn: 0.6086736\ttotal: 24.5ms\tremaining: 852ms\n",
      "7:\tlearn: 0.6049744\ttotal: 27.6ms\tremaining: 836ms\n",
      "8:\tlearn: 0.6013373\ttotal: 30.7ms\tremaining: 822ms\n",
      "9:\tlearn: 0.5985185\ttotal: 34ms\tremaining: 815ms\n",
      "10:\tlearn: 0.5970505\ttotal: 37.5ms\tremaining: 814ms\n",
      "11:\tlearn: 0.5943234\ttotal: 40.8ms\tremaining: 809ms\n",
      "12:\tlearn: 0.5934638\ttotal: 43.6ms\tremaining: 795ms\n",
      "13:\tlearn: 0.5916930\ttotal: 47ms\tremaining: 792ms\n",
      "14:\tlearn: 0.5904737\ttotal: 50.2ms\tremaining: 786ms\n",
      "15:\tlearn: 0.5891607\ttotal: 53.7ms\tremaining: 785ms\n",
      "16:\tlearn: 0.5881445\ttotal: 57ms\tremaining: 781ms\n",
      "17:\tlearn: 0.5879073\ttotal: 60ms\tremaining: 773ms\n",
      "18:\tlearn: 0.5866201\ttotal: 63.4ms\tremaining: 771ms\n",
      "19:\tlearn: 0.5853661\ttotal: 66.6ms\tremaining: 766ms\n",
      "20:\tlearn: 0.5849718\ttotal: 70ms\tremaining: 763ms\n",
      "21:\tlearn: 0.5836196\ttotal: 73.1ms\tremaining: 758ms\n",
      "22:\tlearn: 0.5829363\ttotal: 76.8ms\tremaining: 758ms\n",
      "23:\tlearn: 0.5822087\ttotal: 79.8ms\tremaining: 751ms\n",
      "24:\tlearn: 0.5810597\ttotal: 83ms\tremaining: 747ms\n",
      "25:\tlearn: 0.5802612\ttotal: 86.4ms\tremaining: 744ms\n",
      "26:\tlearn: 0.5796437\ttotal: 89.9ms\tremaining: 743ms\n",
      "27:\tlearn: 0.5786733\ttotal: 93ms\tremaining: 738ms\n",
      "28:\tlearn: 0.5784041\ttotal: 96.5ms\tremaining: 736ms\n",
      "29:\tlearn: 0.5780928\ttotal: 99.7ms\tremaining: 731ms\n",
      "30:\tlearn: 0.5780783\ttotal: 103ms\tremaining: 724ms\n",
      "31:\tlearn: 0.5776766\ttotal: 106ms\tremaining: 719ms\n",
      "32:\tlearn: 0.5770951\ttotal: 109ms\tremaining: 715ms\n",
      "33:\tlearn: 0.5769123\ttotal: 112ms\tremaining: 711ms\n",
      "34:\tlearn: 0.5764634\ttotal: 115ms\tremaining: 708ms\n",
      "35:\tlearn: 0.5758795\ttotal: 119ms\tremaining: 705ms\n",
      "36:\tlearn: 0.5753035\ttotal: 122ms\tremaining: 701ms\n",
      "37:\tlearn: 0.5744811\ttotal: 125ms\tremaining: 699ms\n",
      "38:\tlearn: 0.5736698\ttotal: 129ms\tremaining: 698ms\n",
      "39:\tlearn: 0.5734611\ttotal: 132ms\tremaining: 695ms\n",
      "40:\tlearn: 0.5730275\ttotal: 137ms\tremaining: 701ms\n",
      "41:\tlearn: 0.5723462\ttotal: 141ms\tremaining: 697ms\n",
      "42:\tlearn: 0.5718418\ttotal: 144ms\tremaining: 695ms\n",
      "43:\tlearn: 0.5713099\ttotal: 148ms\tremaining: 692ms\n",
      "44:\tlearn: 0.5709515\ttotal: 151ms\tremaining: 689ms\n",
      "45:\tlearn: 0.5704820\ttotal: 156ms\tremaining: 693ms\n",
      "46:\tlearn: 0.5700798\ttotal: 159ms\tremaining: 689ms\n",
      "47:\tlearn: 0.5696216\ttotal: 163ms\tremaining: 684ms\n",
      "48:\tlearn: 0.5690810\ttotal: 166ms\tremaining: 681ms\n",
      "49:\tlearn: 0.5688731\ttotal: 170ms\tremaining: 678ms\n",
      "50:\tlearn: 0.5684560\ttotal: 173ms\tremaining: 676ms\n",
      "51:\tlearn: 0.5676958\ttotal: 177ms\tremaining: 673ms\n",
      "52:\tlearn: 0.5674640\ttotal: 180ms\tremaining: 670ms\n",
      "53:\tlearn: 0.5668420\ttotal: 184ms\tremaining: 666ms\n",
      "54:\tlearn: 0.5667295\ttotal: 186ms\tremaining: 661ms\n",
      "55:\tlearn: 0.5664502\ttotal: 190ms\tremaining: 657ms\n",
      "56:\tlearn: 0.5663643\ttotal: 195ms\tremaining: 659ms\n",
      "57:\tlearn: 0.5660415\ttotal: 199ms\tremaining: 659ms\n",
      "58:\tlearn: 0.5655007\ttotal: 204ms\tremaining: 662ms\n",
      "59:\tlearn: 0.5651485\ttotal: 212ms\tremaining: 673ms\n",
      "60:\tlearn: 0.5646218\ttotal: 216ms\tremaining: 670ms\n",
      "61:\tlearn: 0.5642833\ttotal: 220ms\tremaining: 666ms\n",
      "62:\tlearn: 0.5641835\ttotal: 223ms\tremaining: 661ms\n",
      "63:\tlearn: 0.5637884\ttotal: 226ms\tremaining: 658ms\n",
      "64:\tlearn: 0.5636926\ttotal: 230ms\tremaining: 653ms\n",
      "65:\tlearn: 0.5633822\ttotal: 233ms\tremaining: 650ms\n",
      "66:\tlearn: 0.5631822\ttotal: 236ms\tremaining: 646ms\n",
      "67:\tlearn: 0.5631809\ttotal: 239ms\tremaining: 641ms\n",
      "68:\tlearn: 0.5622744\ttotal: 242ms\tremaining: 636ms\n",
      "69:\tlearn: 0.5618978\ttotal: 246ms\tremaining: 632ms\n",
      "70:\tlearn: 0.5616697\ttotal: 249ms\tremaining: 629ms\n",
      "71:\tlearn: 0.5612707\ttotal: 253ms\tremaining: 625ms\n",
      "72:\tlearn: 0.5611918\ttotal: 256ms\tremaining: 621ms\n",
      "73:\tlearn: 0.5605064\ttotal: 259ms\tremaining: 617ms\n",
      "74:\tlearn: 0.5604007\ttotal: 263ms\tremaining: 613ms\n",
      "75:\tlearn: 0.5601950\ttotal: 266ms\tremaining: 609ms\n",
      "76:\tlearn: 0.5596096\ttotal: 270ms\tremaining: 606ms\n",
      "77:\tlearn: 0.5590025\ttotal: 273ms\tremaining: 601ms\n",
      "78:\tlearn: 0.5584757\ttotal: 276ms\tremaining: 597ms\n",
      "79:\tlearn: 0.5582574\ttotal: 279ms\tremaining: 593ms\n",
      "80:\tlearn: 0.5579438\ttotal: 282ms\tremaining: 589ms\n",
      "81:\tlearn: 0.5578356\ttotal: 285ms\tremaining: 585ms\n",
      "82:\tlearn: 0.5572736\ttotal: 289ms\tremaining: 581ms\n",
      "83:\tlearn: 0.5568768\ttotal: 292ms\tremaining: 578ms\n",
      "84:\tlearn: 0.5564813\ttotal: 296ms\tremaining: 574ms\n",
      "85:\tlearn: 0.5561720\ttotal: 299ms\tremaining: 571ms\n",
      "86:\tlearn: 0.5559322\ttotal: 302ms\tremaining: 566ms\n",
      "87:\tlearn: 0.5551416\ttotal: 306ms\tremaining: 562ms\n",
      "88:\tlearn: 0.5540935\ttotal: 309ms\tremaining: 559ms\n",
      "89:\tlearn: 0.5539420\ttotal: 313ms\tremaining: 556ms\n",
      "90:\tlearn: 0.5537089\ttotal: 316ms\tremaining: 552ms\n",
      "91:\tlearn: 0.5534314\ttotal: 321ms\tremaining: 551ms\n",
      "92:\tlearn: 0.5529455\ttotal: 325ms\tremaining: 548ms\n",
      "93:\tlearn: 0.5527328\ttotal: 328ms\tremaining: 544ms\n",
      "94:\tlearn: 0.5525200\ttotal: 331ms\tremaining: 540ms\n",
      "95:\tlearn: 0.5517393\ttotal: 334ms\tremaining: 536ms\n",
      "96:\tlearn: 0.5514067\ttotal: 338ms\tremaining: 533ms\n",
      "97:\tlearn: 0.5512928\ttotal: 341ms\tremaining: 529ms\n",
      "98:\tlearn: 0.5509620\ttotal: 344ms\tremaining: 525ms\n",
      "99:\tlearn: 0.5502409\ttotal: 348ms\tremaining: 522ms\n",
      "100:\tlearn: 0.5501343\ttotal: 351ms\tremaining: 518ms\n",
      "101:\tlearn: 0.5497893\ttotal: 354ms\tremaining: 514ms\n",
      "102:\tlearn: 0.5496254\ttotal: 358ms\tremaining: 510ms\n",
      "103:\tlearn: 0.5492526\ttotal: 363ms\tremaining: 509ms\n",
      "104:\tlearn: 0.5490877\ttotal: 366ms\tremaining: 506ms\n",
      "105:\tlearn: 0.5489545\ttotal: 370ms\tremaining: 502ms\n",
      "106:\tlearn: 0.5487480\ttotal: 373ms\tremaining: 499ms\n",
      "107:\tlearn: 0.5483819\ttotal: 376ms\tremaining: 495ms\n",
      "108:\tlearn: 0.5479804\ttotal: 380ms\tremaining: 491ms\n",
      "109:\tlearn: 0.5478026\ttotal: 385ms\tremaining: 490ms\n",
      "110:\tlearn: 0.5474603\ttotal: 388ms\tremaining: 486ms\n",
      "111:\tlearn: 0.5471538\ttotal: 392ms\tremaining: 482ms\n"
     ]
    },
    {
     "name": "stdout",
     "output_type": "stream",
     "text": [
      "112:\tlearn: 0.5468824\ttotal: 396ms\tremaining: 481ms\n",
      "113:\tlearn: 0.5468059\ttotal: 400ms\tremaining: 478ms\n",
      "114:\tlearn: 0.5466610\ttotal: 404ms\tremaining: 475ms\n",
      "115:\tlearn: 0.5463659\ttotal: 409ms\tremaining: 473ms\n",
      "116:\tlearn: 0.5461046\ttotal: 413ms\tremaining: 470ms\n",
      "117:\tlearn: 0.5455772\ttotal: 417ms\tremaining: 466ms\n",
      "118:\tlearn: 0.5453093\ttotal: 420ms\tremaining: 462ms\n",
      "119:\tlearn: 0.5450572\ttotal: 423ms\tremaining: 459ms\n",
      "120:\tlearn: 0.5449473\ttotal: 427ms\tremaining: 455ms\n",
      "121:\tlearn: 0.5445100\ttotal: 430ms\tremaining: 451ms\n",
      "122:\tlearn: 0.5445073\ttotal: 433ms\tremaining: 447ms\n",
      "123:\tlearn: 0.5439511\ttotal: 436ms\tremaining: 443ms\n",
      "124:\tlearn: 0.5436215\ttotal: 439ms\tremaining: 439ms\n",
      "125:\tlearn: 0.5433265\ttotal: 443ms\tremaining: 436ms\n",
      "126:\tlearn: 0.5428940\ttotal: 446ms\tremaining: 432ms\n",
      "127:\tlearn: 0.5427575\ttotal: 449ms\tremaining: 428ms\n",
      "128:\tlearn: 0.5424792\ttotal: 453ms\tremaining: 425ms\n",
      "129:\tlearn: 0.5424162\ttotal: 456ms\tremaining: 421ms\n",
      "130:\tlearn: 0.5419703\ttotal: 460ms\tremaining: 417ms\n",
      "131:\tlearn: 0.5417998\ttotal: 463ms\tremaining: 414ms\n",
      "132:\tlearn: 0.5409836\ttotal: 466ms\tremaining: 410ms\n",
      "133:\tlearn: 0.5406908\ttotal: 469ms\tremaining: 406ms\n",
      "134:\tlearn: 0.5405360\ttotal: 473ms\tremaining: 403ms\n",
      "135:\tlearn: 0.5403856\ttotal: 476ms\tremaining: 399ms\n",
      "136:\tlearn: 0.5401324\ttotal: 479ms\tremaining: 395ms\n",
      "137:\tlearn: 0.5399406\ttotal: 483ms\tremaining: 392ms\n",
      "138:\tlearn: 0.5399399\ttotal: 486ms\tremaining: 388ms\n",
      "139:\tlearn: 0.5397915\ttotal: 489ms\tremaining: 384ms\n",
      "140:\tlearn: 0.5397158\ttotal: 492ms\tremaining: 381ms\n",
      "141:\tlearn: 0.5397150\ttotal: 495ms\tremaining: 377ms\n",
      "142:\tlearn: 0.5397150\ttotal: 498ms\tremaining: 372ms\n",
      "143:\tlearn: 0.5393940\ttotal: 501ms\tremaining: 369ms\n",
      "144:\tlearn: 0.5393519\ttotal: 505ms\tremaining: 365ms\n",
      "145:\tlearn: 0.5391125\ttotal: 508ms\tremaining: 362ms\n",
      "146:\tlearn: 0.5389228\ttotal: 512ms\tremaining: 359ms\n",
      "147:\tlearn: 0.5387283\ttotal: 515ms\tremaining: 355ms\n",
      "148:\tlearn: 0.5384886\ttotal: 519ms\tremaining: 352ms\n",
      "149:\tlearn: 0.5382409\ttotal: 522ms\tremaining: 348ms\n",
      "150:\tlearn: 0.5380129\ttotal: 525ms\tremaining: 344ms\n",
      "151:\tlearn: 0.5379134\ttotal: 529ms\tremaining: 341ms\n",
      "152:\tlearn: 0.5376177\ttotal: 532ms\tremaining: 337ms\n",
      "153:\tlearn: 0.5372193\ttotal: 535ms\tremaining: 333ms\n",
      "154:\tlearn: 0.5364419\ttotal: 538ms\tremaining: 330ms\n",
      "155:\tlearn: 0.5362013\ttotal: 542ms\tremaining: 326ms\n",
      "156:\tlearn: 0.5355511\ttotal: 545ms\tremaining: 323ms\n",
      "157:\tlearn: 0.5353817\ttotal: 548ms\tremaining: 319ms\n",
      "158:\tlearn: 0.5353325\ttotal: 551ms\tremaining: 315ms\n",
      "159:\tlearn: 0.5352872\ttotal: 554ms\tremaining: 312ms\n",
      "160:\tlearn: 0.5349618\ttotal: 558ms\tremaining: 308ms\n",
      "161:\tlearn: 0.5346637\ttotal: 561ms\tremaining: 305ms\n",
      "162:\tlearn: 0.5344494\ttotal: 564ms\tremaining: 301ms\n",
      "163:\tlearn: 0.5340925\ttotal: 567ms\tremaining: 298ms\n",
      "164:\tlearn: 0.5339491\ttotal: 571ms\tremaining: 294ms\n",
      "165:\tlearn: 0.5338387\ttotal: 574ms\tremaining: 290ms\n",
      "166:\tlearn: 0.5338355\ttotal: 577ms\tremaining: 287ms\n",
      "167:\tlearn: 0.5336270\ttotal: 580ms\tremaining: 283ms\n",
      "168:\tlearn: 0.5333193\ttotal: 584ms\tremaining: 280ms\n",
      "169:\tlearn: 0.5333191\ttotal: 586ms\tremaining: 276ms\n",
      "170:\tlearn: 0.5333191\ttotal: 589ms\tremaining: 272ms\n",
      "171:\tlearn: 0.5329492\ttotal: 594ms\tremaining: 270ms\n",
      "172:\tlearn: 0.5326792\ttotal: 601ms\tremaining: 268ms\n",
      "173:\tlearn: 0.5325161\ttotal: 606ms\tremaining: 265ms\n",
      "174:\tlearn: 0.5324909\ttotal: 609ms\tremaining: 261ms\n",
      "175:\tlearn: 0.5323695\ttotal: 612ms\tremaining: 257ms\n",
      "176:\tlearn: 0.5319582\ttotal: 615ms\tremaining: 254ms\n",
      "177:\tlearn: 0.5318544\ttotal: 619ms\tremaining: 250ms\n",
      "178:\tlearn: 0.5317810\ttotal: 622ms\tremaining: 247ms\n",
      "179:\tlearn: 0.5315881\ttotal: 625ms\tremaining: 243ms\n",
      "180:\tlearn: 0.5314953\ttotal: 629ms\tremaining: 240ms\n",
      "181:\tlearn: 0.5314050\ttotal: 632ms\tremaining: 236ms\n",
      "182:\tlearn: 0.5312370\ttotal: 636ms\tremaining: 233ms\n",
      "183:\tlearn: 0.5312182\ttotal: 640ms\tremaining: 229ms\n",
      "184:\tlearn: 0.5310403\ttotal: 643ms\tremaining: 226ms\n",
      "185:\tlearn: 0.5310205\ttotal: 646ms\tremaining: 222ms\n",
      "186:\tlearn: 0.5307151\ttotal: 650ms\tremaining: 219ms\n",
      "187:\tlearn: 0.5302088\ttotal: 655ms\tremaining: 216ms\n",
      "188:\tlearn: 0.5300670\ttotal: 659ms\tremaining: 213ms\n",
      "189:\tlearn: 0.5299844\ttotal: 662ms\tremaining: 209ms\n",
      "190:\tlearn: 0.5296390\ttotal: 666ms\tremaining: 206ms\n",
      "191:\tlearn: 0.5292014\ttotal: 671ms\tremaining: 203ms\n",
      "192:\tlearn: 0.5290731\ttotal: 674ms\tremaining: 199ms\n",
      "193:\tlearn: 0.5289716\ttotal: 678ms\tremaining: 196ms\n",
      "194:\tlearn: 0.5288433\ttotal: 681ms\tremaining: 192ms\n",
      "195:\tlearn: 0.5283456\ttotal: 686ms\tremaining: 189ms\n",
      "196:\tlearn: 0.5282956\ttotal: 690ms\tremaining: 186ms\n",
      "197:\tlearn: 0.5282186\ttotal: 693ms\tremaining: 182ms\n",
      "198:\tlearn: 0.5281042\ttotal: 697ms\tremaining: 179ms\n",
      "199:\tlearn: 0.5279822\ttotal: 700ms\tremaining: 175ms\n",
      "200:\tlearn: 0.5275849\ttotal: 704ms\tremaining: 172ms\n",
      "201:\tlearn: 0.5271488\ttotal: 707ms\tremaining: 168ms\n",
      "202:\tlearn: 0.5268399\ttotal: 711ms\tremaining: 165ms\n",
      "203:\tlearn: 0.5265968\ttotal: 714ms\tremaining: 161ms\n",
      "204:\tlearn: 0.5261419\ttotal: 717ms\tremaining: 157ms\n",
      "205:\tlearn: 0.5259991\ttotal: 721ms\tremaining: 154ms\n",
      "206:\tlearn: 0.5259991\ttotal: 724ms\tremaining: 150ms\n",
      "207:\tlearn: 0.5256287\ttotal: 727ms\tremaining: 147ms\n",
      "208:\tlearn: 0.5253421\ttotal: 730ms\tremaining: 143ms\n",
      "209:\tlearn: 0.5251474\ttotal: 734ms\tremaining: 140ms\n",
      "210:\tlearn: 0.5249176\ttotal: 737ms\tremaining: 136ms\n",
      "211:\tlearn: 0.5247803\ttotal: 740ms\tremaining: 133ms\n",
      "212:\tlearn: 0.5247803\ttotal: 743ms\tremaining: 129ms\n",
      "213:\tlearn: 0.5246067\ttotal: 746ms\tremaining: 125ms\n",
      "214:\tlearn: 0.5244695\ttotal: 749ms\tremaining: 122ms\n",
      "215:\tlearn: 0.5242641\ttotal: 752ms\tremaining: 118ms\n",
      "216:\tlearn: 0.5241953\ttotal: 756ms\tremaining: 115ms\n",
      "217:\tlearn: 0.5239478\ttotal: 759ms\tremaining: 111ms\n",
      "218:\tlearn: 0.5239196\ttotal: 762ms\tremaining: 108ms\n",
      "219:\tlearn: 0.5236858\ttotal: 766ms\tremaining: 104ms\n",
      "220:\tlearn: 0.5234424\ttotal: 769ms\tremaining: 101ms\n",
      "221:\tlearn: 0.5232551\ttotal: 772ms\tremaining: 97.4ms\n",
      "222:\tlearn: 0.5228941\ttotal: 776ms\tremaining: 93.9ms\n",
      "223:\tlearn: 0.5226310\ttotal: 781ms\tremaining: 90.6ms\n",
      "224:\tlearn: 0.5224893\ttotal: 784ms\tremaining: 87.2ms\n",
      "225:\tlearn: 0.5221961\ttotal: 788ms\tremaining: 83.6ms\n",
      "226:\tlearn: 0.5219374\ttotal: 794ms\tremaining: 80.5ms\n",
      "227:\tlearn: 0.5218769\ttotal: 797ms\tremaining: 76.9ms\n",
      "228:\tlearn: 0.5216023\ttotal: 802ms\tremaining: 73.6ms\n",
      "229:\tlearn: 0.5213539\ttotal: 808ms\tremaining: 70.3ms\n",
      "230:\tlearn: 0.5211205\ttotal: 814ms\tremaining: 66.9ms\n",
      "231:\tlearn: 0.5209754\ttotal: 817ms\tremaining: 63.4ms\n",
      "232:\tlearn: 0.5208152\ttotal: 821ms\tremaining: 59.9ms\n",
      "233:\tlearn: 0.5207939\ttotal: 824ms\tremaining: 56.4ms\n",
      "234:\tlearn: 0.5206086\ttotal: 828ms\tremaining: 52.8ms\n",
      "235:\tlearn: 0.5205442\ttotal: 832ms\tremaining: 49.3ms\n",
      "236:\tlearn: 0.5201355\ttotal: 835ms\tremaining: 45.8ms\n",
      "237:\tlearn: 0.5199931\ttotal: 839ms\tremaining: 42.3ms\n",
      "238:\tlearn: 0.5197143\ttotal: 842ms\tremaining: 38.8ms\n",
      "239:\tlearn: 0.5197140\ttotal: 845ms\tremaining: 35.2ms\n",
      "240:\tlearn: 0.5194737\ttotal: 848ms\tremaining: 31.7ms\n",
      "241:\tlearn: 0.5194607\ttotal: 852ms\tremaining: 28.2ms\n",
      "242:\tlearn: 0.5193358\ttotal: 855ms\tremaining: 24.6ms\n",
      "243:\tlearn: 0.5192333\ttotal: 859ms\tremaining: 21.1ms\n",
      "244:\tlearn: 0.5191568\ttotal: 862ms\tremaining: 17.6ms\n",
      "245:\tlearn: 0.5188882\ttotal: 865ms\tremaining: 14.1ms\n",
      "246:\tlearn: 0.5185990\ttotal: 869ms\tremaining: 10.6ms\n",
      "247:\tlearn: 0.5185990\ttotal: 872ms\tremaining: 7.03ms\n",
      "248:\tlearn: 0.5184016\ttotal: 875ms\tremaining: 3.51ms\n",
      "249:\tlearn: 0.5183133\ttotal: 878ms\tremaining: 0us\n",
      "0:\tlearn: 0.6781538\ttotal: 7.97ms\tremaining: 1.98s\n",
      "1:\tlearn: 0.6641188\ttotal: 15.2ms\tremaining: 1.88s\n",
      "2:\tlearn: 0.6495024\ttotal: 21.5ms\tremaining: 1.77s\n",
      "3:\tlearn: 0.6410886\ttotal: 26.9ms\tremaining: 1.65s\n",
      "4:\tlearn: 0.6327941\ttotal: 32.9ms\tremaining: 1.61s\n",
      "5:\tlearn: 0.6281493\ttotal: 38.7ms\tremaining: 1.57s\n",
      "6:\tlearn: 0.6239331\ttotal: 44.6ms\tremaining: 1.55s\n",
      "7:\tlearn: 0.6206660\ttotal: 50.3ms\tremaining: 1.52s\n",
      "8:\tlearn: 0.6182997\ttotal: 56.1ms\tremaining: 1.5s\n",
      "9:\tlearn: 0.6162741\ttotal: 62ms\tremaining: 1.49s\n",
      "10:\tlearn: 0.6151034\ttotal: 67.9ms\tremaining: 1.47s\n",
      "11:\tlearn: 0.6135831\ttotal: 73.6ms\tremaining: 1.46s\n",
      "12:\tlearn: 0.6113339\ttotal: 79.3ms\tremaining: 1.45s\n",
      "13:\tlearn: 0.6093954\ttotal: 85.1ms\tremaining: 1.43s\n",
      "14:\tlearn: 0.6080210\ttotal: 93.7ms\tremaining: 1.47s\n",
      "15:\tlearn: 0.6076473\ttotal: 99.6ms\tremaining: 1.46s\n",
      "16:\tlearn: 0.6063518\ttotal: 106ms\tremaining: 1.46s\n",
      "17:\tlearn: 0.6053365\ttotal: 112ms\tremaining: 1.44s\n",
      "18:\tlearn: 0.6041871\ttotal: 118ms\tremaining: 1.43s\n",
      "19:\tlearn: 0.6040088\ttotal: 125ms\tremaining: 1.44s\n",
      "20:\tlearn: 0.6034601\ttotal: 131ms\tremaining: 1.43s\n",
      "21:\tlearn: 0.6029644\ttotal: 137ms\tremaining: 1.42s\n",
      "22:\tlearn: 0.6022275\ttotal: 142ms\tremaining: 1.41s\n",
      "23:\tlearn: 0.6018766\ttotal: 148ms\tremaining: 1.4s\n",
      "24:\tlearn: 0.6014854\ttotal: 156ms\tremaining: 1.41s\n",
      "25:\tlearn: 0.6010872\ttotal: 163ms\tremaining: 1.41s\n",
      "26:\tlearn: 0.6010783\ttotal: 168ms\tremaining: 1.38s\n",
      "27:\tlearn: 0.6005384\ttotal: 174ms\tremaining: 1.38s\n",
      "28:\tlearn: 0.5997649\ttotal: 180ms\tremaining: 1.37s\n",
      "29:\tlearn: 0.5995886\ttotal: 185ms\tremaining: 1.36s\n",
      "30:\tlearn: 0.5992247\ttotal: 191ms\tremaining: 1.35s\n",
      "31:\tlearn: 0.5990876\ttotal: 199ms\tremaining: 1.36s\n"
     ]
    },
    {
     "name": "stdout",
     "output_type": "stream",
     "text": [
      "32:\tlearn: 0.5984442\ttotal: 208ms\tremaining: 1.37s\n",
      "33:\tlearn: 0.5982017\ttotal: 219ms\tremaining: 1.39s\n",
      "34:\tlearn: 0.5978901\ttotal: 224ms\tremaining: 1.38s\n",
      "35:\tlearn: 0.5975904\ttotal: 230ms\tremaining: 1.37s\n",
      "36:\tlearn: 0.5974418\ttotal: 236ms\tremaining: 1.36s\n",
      "37:\tlearn: 0.5968259\ttotal: 242ms\tremaining: 1.35s\n",
      "38:\tlearn: 0.5966516\ttotal: 248ms\tremaining: 1.34s\n",
      "39:\tlearn: 0.5965212\ttotal: 254ms\tremaining: 1.33s\n",
      "40:\tlearn: 0.5957957\ttotal: 260ms\tremaining: 1.32s\n",
      "41:\tlearn: 0.5956884\ttotal: 265ms\tremaining: 1.31s\n",
      "42:\tlearn: 0.5954229\ttotal: 271ms\tremaining: 1.3s\n",
      "43:\tlearn: 0.5952871\ttotal: 277ms\tremaining: 1.3s\n",
      "44:\tlearn: 0.5952104\ttotal: 282ms\tremaining: 1.28s\n",
      "45:\tlearn: 0.5949596\ttotal: 288ms\tremaining: 1.28s\n",
      "46:\tlearn: 0.5948000\ttotal: 294ms\tremaining: 1.27s\n",
      "47:\tlearn: 0.5945366\ttotal: 300ms\tremaining: 1.26s\n",
      "48:\tlearn: 0.5945366\ttotal: 304ms\tremaining: 1.25s\n",
      "49:\tlearn: 0.5942599\ttotal: 310ms\tremaining: 1.24s\n",
      "50:\tlearn: 0.5940180\ttotal: 316ms\tremaining: 1.23s\n",
      "51:\tlearn: 0.5939029\ttotal: 322ms\tremaining: 1.22s\n",
      "52:\tlearn: 0.5936471\ttotal: 327ms\tremaining: 1.22s\n",
      "53:\tlearn: 0.5935203\ttotal: 333ms\tremaining: 1.21s\n",
      "54:\tlearn: 0.5933192\ttotal: 339ms\tremaining: 1.2s\n",
      "55:\tlearn: 0.5931542\ttotal: 345ms\tremaining: 1.2s\n",
      "56:\tlearn: 0.5927986\ttotal: 351ms\tremaining: 1.19s\n",
      "57:\tlearn: 0.5926321\ttotal: 357ms\tremaining: 1.18s\n",
      "58:\tlearn: 0.5924648\ttotal: 363ms\tremaining: 1.18s\n",
      "59:\tlearn: 0.5923634\ttotal: 369ms\tremaining: 1.17s\n",
      "60:\tlearn: 0.5922051\ttotal: 377ms\tremaining: 1.17s\n",
      "61:\tlearn: 0.5920280\ttotal: 383ms\tremaining: 1.16s\n",
      "62:\tlearn: 0.5920280\ttotal: 388ms\tremaining: 1.15s\n",
      "63:\tlearn: 0.5919075\ttotal: 394ms\tremaining: 1.14s\n",
      "64:\tlearn: 0.5917224\ttotal: 400ms\tremaining: 1.14s\n",
      "65:\tlearn: 0.5914987\ttotal: 407ms\tremaining: 1.14s\n",
      "66:\tlearn: 0.5914665\ttotal: 416ms\tremaining: 1.14s\n",
      "67:\tlearn: 0.5912317\ttotal: 425ms\tremaining: 1.14s\n",
      "68:\tlearn: 0.5910993\ttotal: 431ms\tremaining: 1.13s\n",
      "69:\tlearn: 0.5906654\ttotal: 436ms\tremaining: 1.12s\n",
      "70:\tlearn: 0.5906308\ttotal: 442ms\tremaining: 1.11s\n",
      "71:\tlearn: 0.5904995\ttotal: 448ms\tremaining: 1.11s\n",
      "72:\tlearn: 0.5902868\ttotal: 455ms\tremaining: 1.1s\n",
      "73:\tlearn: 0.5900661\ttotal: 460ms\tremaining: 1.09s\n",
      "74:\tlearn: 0.5898663\ttotal: 469ms\tremaining: 1.09s\n",
      "75:\tlearn: 0.5897557\ttotal: 477ms\tremaining: 1.09s\n",
      "76:\tlearn: 0.5897222\ttotal: 485ms\tremaining: 1.09s\n",
      "77:\tlearn: 0.5897222\ttotal: 492ms\tremaining: 1.08s\n",
      "78:\tlearn: 0.5896040\ttotal: 499ms\tremaining: 1.08s\n",
      "79:\tlearn: 0.5895039\ttotal: 504ms\tremaining: 1.07s\n",
      "80:\tlearn: 0.5895039\ttotal: 511ms\tremaining: 1.07s\n",
      "81:\tlearn: 0.5892403\ttotal: 517ms\tremaining: 1.06s\n",
      "82:\tlearn: 0.5890917\ttotal: 523ms\tremaining: 1.05s\n",
      "83:\tlearn: 0.5889872\ttotal: 529ms\tremaining: 1.04s\n",
      "84:\tlearn: 0.5888598\ttotal: 537ms\tremaining: 1.04s\n",
      "85:\tlearn: 0.5883516\ttotal: 543ms\tremaining: 1.03s\n",
      "86:\tlearn: 0.5882014\ttotal: 548ms\tremaining: 1.03s\n",
      "87:\tlearn: 0.5880571\ttotal: 554ms\tremaining: 1.02s\n",
      "88:\tlearn: 0.5878637\ttotal: 560ms\tremaining: 1.01s\n",
      "89:\tlearn: 0.5877080\ttotal: 566ms\tremaining: 1.01s\n",
      "90:\tlearn: 0.5875892\ttotal: 572ms\tremaining: 1000ms\n",
      "91:\tlearn: 0.5872975\ttotal: 578ms\tremaining: 992ms\n",
      "92:\tlearn: 0.5868884\ttotal: 584ms\tremaining: 985ms\n",
      "93:\tlearn: 0.5867883\ttotal: 589ms\tremaining: 978ms\n",
      "94:\tlearn: 0.5865802\ttotal: 595ms\tremaining: 971ms\n",
      "95:\tlearn: 0.5864576\ttotal: 601ms\tremaining: 964ms\n",
      "96:\tlearn: 0.5861830\ttotal: 612ms\tremaining: 965ms\n",
      "97:\tlearn: 0.5859221\ttotal: 621ms\tremaining: 964ms\n",
      "98:\tlearn: 0.5857974\ttotal: 627ms\tremaining: 956ms\n",
      "99:\tlearn: 0.5857392\ttotal: 633ms\tremaining: 949ms\n",
      "100:\tlearn: 0.5855688\ttotal: 638ms\tremaining: 942ms\n",
      "101:\tlearn: 0.5853785\ttotal: 645ms\tremaining: 935ms\n",
      "102:\tlearn: 0.5851129\ttotal: 650ms\tremaining: 928ms\n",
      "103:\tlearn: 0.5850427\ttotal: 656ms\tremaining: 921ms\n",
      "104:\tlearn: 0.5849104\ttotal: 662ms\tremaining: 914ms\n",
      "105:\tlearn: 0.5847213\ttotal: 668ms\tremaining: 907ms\n",
      "106:\tlearn: 0.5844213\ttotal: 674ms\tremaining: 900ms\n",
      "107:\tlearn: 0.5843673\ttotal: 679ms\tremaining: 893ms\n",
      "108:\tlearn: 0.5841589\ttotal: 685ms\tremaining: 886ms\n",
      "109:\tlearn: 0.5840670\ttotal: 691ms\tremaining: 879ms\n",
      "110:\tlearn: 0.5840629\ttotal: 696ms\tremaining: 871ms\n",
      "111:\tlearn: 0.5840001\ttotal: 702ms\tremaining: 865ms\n",
      "112:\tlearn: 0.5838652\ttotal: 708ms\tremaining: 858ms\n",
      "113:\tlearn: 0.5836621\ttotal: 714ms\tremaining: 851ms\n",
      "114:\tlearn: 0.5835217\ttotal: 720ms\tremaining: 845ms\n",
      "115:\tlearn: 0.5833270\ttotal: 726ms\tremaining: 839ms\n",
      "116:\tlearn: 0.5832150\ttotal: 732ms\tremaining: 832ms\n",
      "117:\tlearn: 0.5830451\ttotal: 737ms\tremaining: 825ms\n",
      "118:\tlearn: 0.5828147\ttotal: 743ms\tremaining: 818ms\n",
      "119:\tlearn: 0.5825565\ttotal: 749ms\tremaining: 811ms\n",
      "120:\tlearn: 0.5824345\ttotal: 755ms\tremaining: 805ms\n",
      "121:\tlearn: 0.5823999\ttotal: 760ms\tremaining: 798ms\n",
      "122:\tlearn: 0.5823162\ttotal: 767ms\tremaining: 791ms\n",
      "123:\tlearn: 0.5821506\ttotal: 772ms\tremaining: 785ms\n",
      "124:\tlearn: 0.5820266\ttotal: 778ms\tremaining: 778ms\n",
      "125:\tlearn: 0.5819389\ttotal: 784ms\tremaining: 772ms\n",
      "126:\tlearn: 0.5818114\ttotal: 790ms\tremaining: 765ms\n",
      "127:\tlearn: 0.5817013\ttotal: 796ms\tremaining: 758ms\n",
      "128:\tlearn: 0.5816878\ttotal: 801ms\tremaining: 751ms\n",
      "129:\tlearn: 0.5816852\ttotal: 806ms\tremaining: 744ms\n",
      "130:\tlearn: 0.5816395\ttotal: 816ms\tremaining: 741ms\n",
      "131:\tlearn: 0.5815094\ttotal: 825ms\tremaining: 737ms\n",
      "132:\tlearn: 0.5814129\ttotal: 831ms\tremaining: 731ms\n",
      "133:\tlearn: 0.5812287\ttotal: 837ms\tremaining: 725ms\n",
      "134:\tlearn: 0.5810957\ttotal: 843ms\tremaining: 718ms\n",
      "135:\tlearn: 0.5810896\ttotal: 849ms\tremaining: 711ms\n",
      "136:\tlearn: 0.5810377\ttotal: 854ms\tremaining: 704ms\n",
      "137:\tlearn: 0.5809966\ttotal: 860ms\tremaining: 698ms\n",
      "138:\tlearn: 0.5808992\ttotal: 866ms\tremaining: 692ms\n",
      "139:\tlearn: 0.5807742\ttotal: 872ms\tremaining: 685ms\n",
      "140:\tlearn: 0.5807742\ttotal: 876ms\tremaining: 677ms\n",
      "141:\tlearn: 0.5806871\ttotal: 882ms\tremaining: 671ms\n",
      "142:\tlearn: 0.5805403\ttotal: 888ms\tremaining: 664ms\n",
      "143:\tlearn: 0.5803675\ttotal: 894ms\tremaining: 658ms\n",
      "144:\tlearn: 0.5801864\ttotal: 900ms\tremaining: 651ms\n",
      "145:\tlearn: 0.5799617\ttotal: 905ms\tremaining: 645ms\n",
      "146:\tlearn: 0.5799479\ttotal: 911ms\tremaining: 638ms\n",
      "147:\tlearn: 0.5798798\ttotal: 917ms\tremaining: 632ms\n",
      "148:\tlearn: 0.5797957\ttotal: 923ms\tremaining: 625ms\n",
      "149:\tlearn: 0.5797378\ttotal: 929ms\tremaining: 619ms\n",
      "150:\tlearn: 0.5796550\ttotal: 934ms\tremaining: 613ms\n",
      "151:\tlearn: 0.5796281\ttotal: 940ms\tremaining: 606ms\n",
      "152:\tlearn: 0.5794925\ttotal: 946ms\tremaining: 600ms\n",
      "153:\tlearn: 0.5794925\ttotal: 951ms\tremaining: 593ms\n",
      "154:\tlearn: 0.5793624\ttotal: 956ms\tremaining: 586ms\n",
      "155:\tlearn: 0.5793352\ttotal: 962ms\tremaining: 580ms\n",
      "156:\tlearn: 0.5791646\ttotal: 968ms\tremaining: 574ms\n",
      "157:\tlearn: 0.5789267\ttotal: 974ms\tremaining: 567ms\n",
      "158:\tlearn: 0.5787496\ttotal: 980ms\tremaining: 561ms\n",
      "159:\tlearn: 0.5786728\ttotal: 985ms\tremaining: 554ms\n",
      "160:\tlearn: 0.5785096\ttotal: 991ms\tremaining: 548ms\n",
      "161:\tlearn: 0.5784250\ttotal: 997ms\tremaining: 541ms\n",
      "162:\tlearn: 0.5782228\ttotal: 1s\tremaining: 535ms\n",
      "163:\tlearn: 0.5780122\ttotal: 1.01s\tremaining: 529ms\n",
      "164:\tlearn: 0.5777903\ttotal: 1.02s\tremaining: 525ms\n",
      "165:\tlearn: 0.5776077\ttotal: 1.03s\tremaining: 521ms\n",
      "166:\tlearn: 0.5775272\ttotal: 1.03s\tremaining: 514ms\n",
      "167:\tlearn: 0.5774638\ttotal: 1.04s\tremaining: 508ms\n",
      "168:\tlearn: 0.5774412\ttotal: 1.05s\tremaining: 502ms\n",
      "169:\tlearn: 0.5773929\ttotal: 1.05s\tremaining: 495ms\n",
      "170:\tlearn: 0.5773443\ttotal: 1.06s\tremaining: 489ms\n",
      "171:\tlearn: 0.5771189\ttotal: 1.06s\tremaining: 483ms\n",
      "172:\tlearn: 0.5770305\ttotal: 1.07s\tremaining: 476ms\n",
      "173:\tlearn: 0.5768943\ttotal: 1.08s\tremaining: 470ms\n",
      "174:\tlearn: 0.5767845\ttotal: 1.08s\tremaining: 464ms\n",
      "175:\tlearn: 0.5766256\ttotal: 1.09s\tremaining: 458ms\n",
      "176:\tlearn: 0.5765806\ttotal: 1.09s\tremaining: 451ms\n",
      "177:\tlearn: 0.5764596\ttotal: 1.1s\tremaining: 445ms\n",
      "178:\tlearn: 0.5763984\ttotal: 1.1s\tremaining: 439ms\n",
      "179:\tlearn: 0.5762870\ttotal: 1.11s\tremaining: 432ms\n",
      "180:\tlearn: 0.5760721\ttotal: 1.12s\tremaining: 426ms\n",
      "181:\tlearn: 0.5759663\ttotal: 1.12s\tremaining: 420ms\n",
      "182:\tlearn: 0.5758509\ttotal: 1.13s\tremaining: 413ms\n",
      "183:\tlearn: 0.5758272\ttotal: 1.13s\tremaining: 407ms\n",
      "184:\tlearn: 0.5757706\ttotal: 1.14s\tremaining: 401ms\n",
      "185:\tlearn: 0.5757270\ttotal: 1.15s\tremaining: 394ms\n",
      "186:\tlearn: 0.5755882\ttotal: 1.15s\tremaining: 388ms\n",
      "187:\tlearn: 0.5754524\ttotal: 1.16s\tremaining: 382ms\n",
      "188:\tlearn: 0.5754391\ttotal: 1.16s\tremaining: 375ms\n",
      "189:\tlearn: 0.5753641\ttotal: 1.17s\tremaining: 370ms\n",
      "190:\tlearn: 0.5752028\ttotal: 1.18s\tremaining: 363ms\n",
      "191:\tlearn: 0.5749529\ttotal: 1.18s\tremaining: 357ms\n",
      "192:\tlearn: 0.5748712\ttotal: 1.19s\tremaining: 351ms\n",
      "193:\tlearn: 0.5747291\ttotal: 1.19s\tremaining: 345ms\n",
      "194:\tlearn: 0.5745380\ttotal: 1.2s\tremaining: 338ms\n",
      "195:\tlearn: 0.5744316\ttotal: 1.21s\tremaining: 332ms\n",
      "196:\tlearn: 0.5742726\ttotal: 1.21s\tremaining: 326ms\n"
     ]
    },
    {
     "name": "stdout",
     "output_type": "stream",
     "text": [
      "197:\tlearn: 0.5741499\ttotal: 1.22s\tremaining: 320ms\n",
      "198:\tlearn: 0.5739831\ttotal: 1.23s\tremaining: 315ms\n",
      "199:\tlearn: 0.5739186\ttotal: 1.24s\tremaining: 309ms\n",
      "200:\tlearn: 0.5737797\ttotal: 1.24s\tremaining: 303ms\n",
      "201:\tlearn: 0.5736496\ttotal: 1.25s\tremaining: 296ms\n",
      "202:\tlearn: 0.5735356\ttotal: 1.25s\tremaining: 290ms\n",
      "203:\tlearn: 0.5735198\ttotal: 1.26s\tremaining: 284ms\n",
      "204:\tlearn: 0.5734670\ttotal: 1.26s\tremaining: 278ms\n",
      "205:\tlearn: 0.5732985\ttotal: 1.27s\tremaining: 272ms\n",
      "206:\tlearn: 0.5732203\ttotal: 1.28s\tremaining: 265ms\n",
      "207:\tlearn: 0.5731013\ttotal: 1.28s\tremaining: 259ms\n",
      "208:\tlearn: 0.5730474\ttotal: 1.29s\tremaining: 253ms\n",
      "209:\tlearn: 0.5728764\ttotal: 1.3s\tremaining: 247ms\n",
      "210:\tlearn: 0.5726958\ttotal: 1.3s\tremaining: 241ms\n",
      "211:\tlearn: 0.5725934\ttotal: 1.31s\tremaining: 235ms\n",
      "212:\tlearn: 0.5724246\ttotal: 1.31s\tremaining: 229ms\n",
      "213:\tlearn: 0.5723145\ttotal: 1.32s\tremaining: 222ms\n",
      "214:\tlearn: 0.5721935\ttotal: 1.33s\tremaining: 216ms\n",
      "215:\tlearn: 0.5721350\ttotal: 1.33s\tremaining: 210ms\n",
      "216:\tlearn: 0.5721347\ttotal: 1.34s\tremaining: 204ms\n",
      "217:\tlearn: 0.5720806\ttotal: 1.34s\tremaining: 197ms\n",
      "218:\tlearn: 0.5719374\ttotal: 1.35s\tremaining: 191ms\n",
      "219:\tlearn: 0.5719196\ttotal: 1.35s\tremaining: 185ms\n",
      "220:\tlearn: 0.5719011\ttotal: 1.36s\tremaining: 179ms\n",
      "221:\tlearn: 0.5718379\ttotal: 1.37s\tremaining: 172ms\n",
      "222:\tlearn: 0.5716382\ttotal: 1.37s\tremaining: 166ms\n",
      "223:\tlearn: 0.5715630\ttotal: 1.38s\tremaining: 160ms\n",
      "224:\tlearn: 0.5714429\ttotal: 1.39s\tremaining: 154ms\n",
      "225:\tlearn: 0.5714124\ttotal: 1.39s\tremaining: 148ms\n",
      "226:\tlearn: 0.5713764\ttotal: 1.4s\tremaining: 142ms\n",
      "227:\tlearn: 0.5713456\ttotal: 1.4s\tremaining: 135ms\n",
      "228:\tlearn: 0.5713455\ttotal: 1.41s\tremaining: 129ms\n",
      "229:\tlearn: 0.5712574\ttotal: 1.41s\tremaining: 123ms\n",
      "230:\tlearn: 0.5711715\ttotal: 1.42s\tremaining: 117ms\n",
      "231:\tlearn: 0.5709672\ttotal: 1.43s\tremaining: 111ms\n",
      "232:\tlearn: 0.5708191\ttotal: 1.44s\tremaining: 105ms\n",
      "233:\tlearn: 0.5707363\ttotal: 1.44s\tremaining: 98.7ms\n",
      "234:\tlearn: 0.5705399\ttotal: 1.45s\tremaining: 92.6ms\n",
      "235:\tlearn: 0.5704811\ttotal: 1.46s\tremaining: 86.4ms\n",
      "236:\tlearn: 0.5704016\ttotal: 1.46s\tremaining: 80.2ms\n",
      "237:\tlearn: 0.5702737\ttotal: 1.47s\tremaining: 74ms\n",
      "238:\tlearn: 0.5700830\ttotal: 1.47s\tremaining: 67.8ms\n",
      "239:\tlearn: 0.5700434\ttotal: 1.48s\tremaining: 61.7ms\n",
      "240:\tlearn: 0.5698932\ttotal: 1.49s\tremaining: 55.5ms\n",
      "241:\tlearn: 0.5698921\ttotal: 1.49s\tremaining: 49.3ms\n",
      "242:\tlearn: 0.5698641\ttotal: 1.5s\tremaining: 43.2ms\n",
      "243:\tlearn: 0.5698641\ttotal: 1.5s\tremaining: 37ms\n",
      "244:\tlearn: 0.5698032\ttotal: 1.51s\tremaining: 30.8ms\n",
      "245:\tlearn: 0.5697681\ttotal: 1.51s\tremaining: 24.6ms\n",
      "246:\tlearn: 0.5696010\ttotal: 1.52s\tremaining: 18.5ms\n",
      "247:\tlearn: 0.5695441\ttotal: 1.53s\tremaining: 12.3ms\n",
      "248:\tlearn: 0.5694105\ttotal: 1.53s\tremaining: 6.16ms\n",
      "249:\tlearn: 0.5693635\ttotal: 1.54s\tremaining: 0us\n",
      "0:\tlearn: 0.6765830\ttotal: 8.68ms\tremaining: 2.16s\n",
      "1:\tlearn: 0.6643839\ttotal: 17.8ms\tremaining: 2.21s\n",
      "2:\tlearn: 0.6527059\ttotal: 26.5ms\tremaining: 2.18s\n",
      "3:\tlearn: 0.6469516\ttotal: 33.5ms\tremaining: 2.06s\n",
      "4:\tlearn: 0.6396664\ttotal: 42.5ms\tremaining: 2.08s\n",
      "5:\tlearn: 0.6360591\ttotal: 50.9ms\tremaining: 2.07s\n",
      "6:\tlearn: 0.6308033\ttotal: 59.2ms\tremaining: 2.06s\n",
      "7:\tlearn: 0.6267663\ttotal: 67.8ms\tremaining: 2.05s\n",
      "8:\tlearn: 0.6240357\ttotal: 76.3ms\tremaining: 2.04s\n",
      "9:\tlearn: 0.6228552\ttotal: 84.3ms\tremaining: 2.02s\n",
      "10:\tlearn: 0.6206405\ttotal: 92.6ms\tremaining: 2.01s\n",
      "11:\tlearn: 0.6184576\ttotal: 101ms\tremaining: 2.01s\n",
      "12:\tlearn: 0.6172848\ttotal: 110ms\tremaining: 2s\n",
      "13:\tlearn: 0.6162978\ttotal: 118ms\tremaining: 1.98s\n",
      "14:\tlearn: 0.6158847\ttotal: 125ms\tremaining: 1.96s\n",
      "15:\tlearn: 0.6148600\ttotal: 134ms\tremaining: 1.95s\n",
      "16:\tlearn: 0.6142317\ttotal: 142ms\tremaining: 1.95s\n",
      "17:\tlearn: 0.6135428\ttotal: 151ms\tremaining: 1.95s\n",
      "18:\tlearn: 0.6130790\ttotal: 160ms\tremaining: 1.94s\n",
      "19:\tlearn: 0.6126330\ttotal: 169ms\tremaining: 1.94s\n",
      "20:\tlearn: 0.6122164\ttotal: 177ms\tremaining: 1.93s\n",
      "21:\tlearn: 0.6117627\ttotal: 186ms\tremaining: 1.93s\n",
      "22:\tlearn: 0.6113183\ttotal: 195ms\tremaining: 1.92s\n",
      "23:\tlearn: 0.6106038\ttotal: 209ms\tremaining: 1.97s\n",
      "24:\tlearn: 0.6102832\ttotal: 226ms\tremaining: 2.03s\n",
      "25:\tlearn: 0.6099424\ttotal: 236ms\tremaining: 2.03s\n",
      "26:\tlearn: 0.6096371\ttotal: 247ms\tremaining: 2.04s\n",
      "27:\tlearn: 0.6092106\ttotal: 258ms\tremaining: 2.05s\n",
      "28:\tlearn: 0.6092056\ttotal: 267ms\tremaining: 2.03s\n",
      "29:\tlearn: 0.6089236\ttotal: 278ms\tremaining: 2.04s\n",
      "30:\tlearn: 0.6087387\ttotal: 289ms\tremaining: 2.04s\n",
      "31:\tlearn: 0.6083006\ttotal: 300ms\tremaining: 2.05s\n",
      "32:\tlearn: 0.6081388\ttotal: 312ms\tremaining: 2.05s\n",
      "33:\tlearn: 0.6079398\ttotal: 323ms\tremaining: 2.05s\n",
      "34:\tlearn: 0.6074495\ttotal: 334ms\tremaining: 2.05s\n",
      "35:\tlearn: 0.6073206\ttotal: 345ms\tremaining: 2.05s\n",
      "36:\tlearn: 0.6071516\ttotal: 356ms\tremaining: 2.05s\n",
      "37:\tlearn: 0.6068709\ttotal: 367ms\tremaining: 2.05s\n",
      "38:\tlearn: 0.6066011\ttotal: 378ms\tremaining: 2.05s\n",
      "39:\tlearn: 0.6063627\ttotal: 391ms\tremaining: 2.05s\n",
      "40:\tlearn: 0.6063424\ttotal: 401ms\tremaining: 2.04s\n",
      "41:\tlearn: 0.6061363\ttotal: 418ms\tremaining: 2.07s\n",
      "42:\tlearn: 0.6058951\ttotal: 430ms\tremaining: 2.07s\n",
      "43:\tlearn: 0.6056765\ttotal: 441ms\tremaining: 2.06s\n",
      "44:\tlearn: 0.6054243\ttotal: 452ms\tremaining: 2.06s\n",
      "45:\tlearn: 0.6053696\ttotal: 461ms\tremaining: 2.04s\n",
      "46:\tlearn: 0.6053695\ttotal: 469ms\tremaining: 2.03s\n",
      "47:\tlearn: 0.6051373\ttotal: 480ms\tremaining: 2.02s\n",
      "48:\tlearn: 0.6047917\ttotal: 491ms\tremaining: 2.02s\n",
      "49:\tlearn: 0.6046594\ttotal: 503ms\tremaining: 2.01s\n",
      "50:\tlearn: 0.6045496\ttotal: 513ms\tremaining: 2s\n",
      "51:\tlearn: 0.6042984\ttotal: 524ms\tremaining: 2s\n",
      "52:\tlearn: 0.6042071\ttotal: 535ms\tremaining: 1.99s\n",
      "53:\tlearn: 0.6038404\ttotal: 547ms\tremaining: 1.98s\n",
      "54:\tlearn: 0.6035115\ttotal: 558ms\tremaining: 1.98s\n",
      "55:\tlearn: 0.6034055\ttotal: 569ms\tremaining: 1.97s\n",
      "56:\tlearn: 0.6032689\ttotal: 580ms\tremaining: 1.97s\n",
      "57:\tlearn: 0.6030123\ttotal: 591ms\tremaining: 1.96s\n",
      "58:\tlearn: 0.6028325\ttotal: 602ms\tremaining: 1.95s\n",
      "59:\tlearn: 0.6025703\ttotal: 614ms\tremaining: 1.94s\n",
      "60:\tlearn: 0.6023977\ttotal: 632ms\tremaining: 1.96s\n",
      "61:\tlearn: 0.6022465\ttotal: 643ms\tremaining: 1.95s\n",
      "62:\tlearn: 0.6019626\ttotal: 654ms\tremaining: 1.94s\n",
      "63:\tlearn: 0.6019039\ttotal: 665ms\tremaining: 1.93s\n",
      "64:\tlearn: 0.6019039\ttotal: 675ms\tremaining: 1.92s\n",
      "65:\tlearn: 0.6018641\ttotal: 686ms\tremaining: 1.91s\n",
      "66:\tlearn: 0.6017077\ttotal: 697ms\tremaining: 1.9s\n",
      "67:\tlearn: 0.6015629\ttotal: 709ms\tremaining: 1.9s\n",
      "68:\tlearn: 0.6015131\ttotal: 721ms\tremaining: 1.89s\n",
      "69:\tlearn: 0.6014450\ttotal: 731ms\tremaining: 1.88s\n",
      "70:\tlearn: 0.6013466\ttotal: 742ms\tremaining: 1.87s\n",
      "71:\tlearn: 0.6013246\ttotal: 752ms\tremaining: 1.86s\n",
      "72:\tlearn: 0.6009915\ttotal: 762ms\tremaining: 1.85s\n",
      "73:\tlearn: 0.6009889\ttotal: 773ms\tremaining: 1.84s\n",
      "74:\tlearn: 0.6008762\ttotal: 786ms\tremaining: 1.83s\n",
      "75:\tlearn: 0.6006972\ttotal: 798ms\tremaining: 1.83s\n",
      "76:\tlearn: 0.6006022\ttotal: 809ms\tremaining: 1.82s\n",
      "77:\tlearn: 0.6004391\ttotal: 820ms\tremaining: 1.81s\n",
      "78:\tlearn: 0.5999991\ttotal: 833ms\tremaining: 1.8s\n",
      "79:\tlearn: 0.5998201\ttotal: 850ms\tremaining: 1.81s\n",
      "80:\tlearn: 0.5996742\ttotal: 861ms\tremaining: 1.8s\n",
      "81:\tlearn: 0.5995645\ttotal: 872ms\tremaining: 1.79s\n",
      "82:\tlearn: 0.5995048\ttotal: 883ms\tremaining: 1.78s\n",
      "83:\tlearn: 0.5993179\ttotal: 895ms\tremaining: 1.77s\n",
      "84:\tlearn: 0.5991895\ttotal: 906ms\tremaining: 1.76s\n",
      "85:\tlearn: 0.5990505\ttotal: 917ms\tremaining: 1.75s\n",
      "86:\tlearn: 0.5989781\ttotal: 928ms\tremaining: 1.74s\n",
      "87:\tlearn: 0.5988473\ttotal: 939ms\tremaining: 1.73s\n",
      "88:\tlearn: 0.5987665\ttotal: 950ms\tremaining: 1.72s\n",
      "89:\tlearn: 0.5985639\ttotal: 961ms\tremaining: 1.71s\n",
      "90:\tlearn: 0.5983516\ttotal: 972ms\tremaining: 1.7s\n",
      "91:\tlearn: 0.5983002\ttotal: 983ms\tremaining: 1.69s\n",
      "92:\tlearn: 0.5981842\ttotal: 994ms\tremaining: 1.68s\n",
      "93:\tlearn: 0.5980508\ttotal: 1s\tremaining: 1.67s\n",
      "94:\tlearn: 0.5979815\ttotal: 1.01s\tremaining: 1.66s\n",
      "95:\tlearn: 0.5977910\ttotal: 1.03s\tremaining: 1.65s\n",
      "96:\tlearn: 0.5976175\ttotal: 1.04s\tremaining: 1.65s\n",
      "97:\tlearn: 0.5974819\ttotal: 1.06s\tremaining: 1.64s\n",
      "98:\tlearn: 0.5973653\ttotal: 1.07s\tremaining: 1.63s\n",
      "99:\tlearn: 0.5973264\ttotal: 1.08s\tremaining: 1.62s\n",
      "100:\tlearn: 0.5972921\ttotal: 1.09s\tremaining: 1.61s\n",
      "101:\tlearn: 0.5971960\ttotal: 1.1s\tremaining: 1.6s\n",
      "102:\tlearn: 0.5970449\ttotal: 1.11s\tremaining: 1.59s\n",
      "103:\tlearn: 0.5970395\ttotal: 1.12s\tremaining: 1.58s\n",
      "104:\tlearn: 0.5970267\ttotal: 1.14s\tremaining: 1.57s\n",
      "105:\tlearn: 0.5969769\ttotal: 1.15s\tremaining: 1.57s\n",
      "106:\tlearn: 0.5968680\ttotal: 1.17s\tremaining: 1.56s\n",
      "107:\tlearn: 0.5967049\ttotal: 1.18s\tremaining: 1.55s\n",
      "108:\tlearn: 0.5965941\ttotal: 1.19s\tremaining: 1.54s\n",
      "109:\tlearn: 0.5965363\ttotal: 1.2s\tremaining: 1.53s\n",
      "110:\tlearn: 0.5964684\ttotal: 1.21s\tremaining: 1.52s\n",
      "111:\tlearn: 0.5962816\ttotal: 1.22s\tremaining: 1.5s\n",
      "112:\tlearn: 0.5962592\ttotal: 1.23s\tremaining: 1.49s\n"
     ]
    },
    {
     "name": "stdout",
     "output_type": "stream",
     "text": [
      "113:\tlearn: 0.5961343\ttotal: 1.24s\tremaining: 1.48s\n",
      "114:\tlearn: 0.5960869\ttotal: 1.26s\tremaining: 1.48s\n",
      "115:\tlearn: 0.5960732\ttotal: 1.27s\tremaining: 1.47s\n",
      "116:\tlearn: 0.5959346\ttotal: 1.28s\tremaining: 1.46s\n",
      "117:\tlearn: 0.5957685\ttotal: 1.3s\tremaining: 1.45s\n",
      "118:\tlearn: 0.5956846\ttotal: 1.31s\tremaining: 1.44s\n",
      "119:\tlearn: 0.5954569\ttotal: 1.32s\tremaining: 1.43s\n",
      "120:\tlearn: 0.5953702\ttotal: 1.33s\tremaining: 1.42s\n",
      "121:\tlearn: 0.5953147\ttotal: 1.34s\tremaining: 1.41s\n",
      "122:\tlearn: 0.5953112\ttotal: 1.35s\tremaining: 1.4s\n",
      "123:\tlearn: 0.5952071\ttotal: 1.36s\tremaining: 1.39s\n",
      "124:\tlearn: 0.5951347\ttotal: 1.38s\tremaining: 1.38s\n",
      "125:\tlearn: 0.5950935\ttotal: 1.39s\tremaining: 1.36s\n",
      "126:\tlearn: 0.5949237\ttotal: 1.4s\tremaining: 1.35s\n",
      "127:\tlearn: 0.5947742\ttotal: 1.41s\tremaining: 1.34s\n",
      "128:\tlearn: 0.5947737\ttotal: 1.42s\tremaining: 1.33s\n",
      "129:\tlearn: 0.5946493\ttotal: 1.43s\tremaining: 1.32s\n",
      "130:\tlearn: 0.5946429\ttotal: 1.44s\tremaining: 1.31s\n",
      "131:\tlearn: 0.5945859\ttotal: 1.46s\tremaining: 1.3s\n",
      "132:\tlearn: 0.5944846\ttotal: 1.47s\tremaining: 1.29s\n",
      "133:\tlearn: 0.5943817\ttotal: 1.48s\tremaining: 1.28s\n",
      "134:\tlearn: 0.5942801\ttotal: 1.49s\tremaining: 1.27s\n",
      "135:\tlearn: 0.5942257\ttotal: 1.5s\tremaining: 1.26s\n",
      "136:\tlearn: 0.5941276\ttotal: 1.52s\tremaining: 1.25s\n",
      "137:\tlearn: 0.5939217\ttotal: 1.53s\tremaining: 1.24s\n",
      "138:\tlearn: 0.5938074\ttotal: 1.54s\tremaining: 1.23s\n",
      "139:\tlearn: 0.5937884\ttotal: 1.55s\tremaining: 1.22s\n",
      "140:\tlearn: 0.5936101\ttotal: 1.56s\tremaining: 1.21s\n",
      "141:\tlearn: 0.5934957\ttotal: 1.57s\tremaining: 1.2s\n",
      "142:\tlearn: 0.5932324\ttotal: 1.59s\tremaining: 1.19s\n",
      "143:\tlearn: 0.5932316\ttotal: 1.59s\tremaining: 1.17s\n",
      "144:\tlearn: 0.5932105\ttotal: 1.6s\tremaining: 1.16s\n",
      "145:\tlearn: 0.5930893\ttotal: 1.62s\tremaining: 1.15s\n",
      "146:\tlearn: 0.5929710\ttotal: 1.63s\tremaining: 1.14s\n",
      "147:\tlearn: 0.5929210\ttotal: 1.64s\tremaining: 1.13s\n",
      "148:\tlearn: 0.5927362\ttotal: 1.65s\tremaining: 1.12s\n",
      "149:\tlearn: 0.5925810\ttotal: 1.66s\tremaining: 1.11s\n",
      "150:\tlearn: 0.5925020\ttotal: 1.68s\tremaining: 1.1s\n",
      "151:\tlearn: 0.5923278\ttotal: 1.69s\tremaining: 1.09s\n",
      "152:\tlearn: 0.5922738\ttotal: 1.7s\tremaining: 1.08s\n",
      "153:\tlearn: 0.5921566\ttotal: 1.72s\tremaining: 1.07s\n",
      "154:\tlearn: 0.5921539\ttotal: 1.72s\tremaining: 1.06s\n",
      "155:\tlearn: 0.5920257\ttotal: 1.74s\tremaining: 1.05s\n",
      "156:\tlearn: 0.5919792\ttotal: 1.75s\tremaining: 1.03s\n",
      "157:\tlearn: 0.5918811\ttotal: 1.76s\tremaining: 1.02s\n",
      "158:\tlearn: 0.5918218\ttotal: 1.77s\tremaining: 1.01s\n",
      "159:\tlearn: 0.5916319\ttotal: 1.78s\tremaining: 1s\n",
      "160:\tlearn: 0.5914946\ttotal: 1.79s\tremaining: 992ms\n",
      "161:\tlearn: 0.5913727\ttotal: 1.8s\tremaining: 981ms\n",
      "162:\tlearn: 0.5913317\ttotal: 1.81s\tremaining: 969ms\n",
      "163:\tlearn: 0.5912765\ttotal: 1.83s\tremaining: 960ms\n",
      "164:\tlearn: 0.5910486\ttotal: 1.84s\tremaining: 948ms\n",
      "165:\tlearn: 0.5909571\ttotal: 1.85s\tremaining: 939ms\n",
      "166:\tlearn: 0.5907369\ttotal: 1.87s\tremaining: 931ms\n",
      "167:\tlearn: 0.5907302\ttotal: 1.88s\tremaining: 919ms\n",
      "168:\tlearn: 0.5904960\ttotal: 1.9s\tremaining: 909ms\n",
      "169:\tlearn: 0.5904087\ttotal: 1.91s\tremaining: 898ms\n",
      "170:\tlearn: 0.5903137\ttotal: 1.92s\tremaining: 886ms\n",
      "171:\tlearn: 0.5901998\ttotal: 1.93s\tremaining: 875ms\n",
      "172:\tlearn: 0.5900684\ttotal: 1.94s\tremaining: 864ms\n",
      "173:\tlearn: 0.5900173\ttotal: 1.95s\tremaining: 853ms\n",
      "174:\tlearn: 0.5899980\ttotal: 1.96s\tremaining: 841ms\n",
      "175:\tlearn: 0.5898908\ttotal: 1.97s\tremaining: 830ms\n",
      "176:\tlearn: 0.5897823\ttotal: 1.98s\tremaining: 818ms\n",
      "177:\tlearn: 0.5896108\ttotal: 2s\tremaining: 807ms\n",
      "178:\tlearn: 0.5895314\ttotal: 2.01s\tremaining: 796ms\n",
      "179:\tlearn: 0.5892979\ttotal: 2.02s\tremaining: 785ms\n",
      "180:\tlearn: 0.5892979\ttotal: 2.02s\tremaining: 772ms\n",
      "181:\tlearn: 0.5891899\ttotal: 2.04s\tremaining: 761ms\n",
      "182:\tlearn: 0.5891037\ttotal: 2.05s\tremaining: 750ms\n",
      "183:\tlearn: 0.5890711\ttotal: 2.06s\tremaining: 739ms\n",
      "184:\tlearn: 0.5890675\ttotal: 2.07s\tremaining: 728ms\n",
      "185:\tlearn: 0.5889540\ttotal: 2.08s\tremaining: 717ms\n",
      "186:\tlearn: 0.5888607\ttotal: 2.1s\tremaining: 707ms\n",
      "187:\tlearn: 0.5887727\ttotal: 2.11s\tremaining: 695ms\n",
      "188:\tlearn: 0.5887132\ttotal: 2.12s\tremaining: 684ms\n",
      "189:\tlearn: 0.5885770\ttotal: 2.13s\tremaining: 673ms\n",
      "190:\tlearn: 0.5884123\ttotal: 2.14s\tremaining: 662ms\n",
      "191:\tlearn: 0.5883947\ttotal: 2.16s\tremaining: 651ms\n",
      "192:\tlearn: 0.5882773\ttotal: 2.17s\tremaining: 640ms\n",
      "193:\tlearn: 0.5882561\ttotal: 2.18s\tremaining: 630ms\n",
      "194:\tlearn: 0.5882528\ttotal: 2.19s\tremaining: 618ms\n",
      "195:\tlearn: 0.5882528\ttotal: 2.2s\tremaining: 606ms\n",
      "196:\tlearn: 0.5882127\ttotal: 2.21s\tremaining: 595ms\n",
      "197:\tlearn: 0.5880770\ttotal: 2.22s\tremaining: 584ms\n",
      "198:\tlearn: 0.5880305\ttotal: 2.24s\tremaining: 573ms\n",
      "199:\tlearn: 0.5879782\ttotal: 2.25s\tremaining: 562ms\n",
      "200:\tlearn: 0.5878847\ttotal: 2.26s\tremaining: 551ms\n",
      "201:\tlearn: 0.5878739\ttotal: 2.27s\tremaining: 540ms\n",
      "202:\tlearn: 0.5877961\ttotal: 2.28s\tremaining: 529ms\n",
      "203:\tlearn: 0.5876691\ttotal: 2.3s\tremaining: 519ms\n",
      "204:\tlearn: 0.5876689\ttotal: 2.31s\tremaining: 507ms\n",
      "205:\tlearn: 0.5876025\ttotal: 2.32s\tremaining: 496ms\n",
      "206:\tlearn: 0.5875333\ttotal: 2.33s\tremaining: 485ms\n",
      "207:\tlearn: 0.5875263\ttotal: 2.34s\tremaining: 473ms\n",
      "208:\tlearn: 0.5874128\ttotal: 2.35s\tremaining: 462ms\n",
      "209:\tlearn: 0.5872971\ttotal: 2.37s\tremaining: 451ms\n",
      "210:\tlearn: 0.5872355\ttotal: 2.38s\tremaining: 439ms\n",
      "211:\tlearn: 0.5871450\ttotal: 2.39s\tremaining: 428ms\n",
      "212:\tlearn: 0.5870237\ttotal: 2.4s\tremaining: 417ms\n",
      "213:\tlearn: 0.5869833\ttotal: 2.41s\tremaining: 405ms\n",
      "214:\tlearn: 0.5868881\ttotal: 2.42s\tremaining: 394ms\n",
      "215:\tlearn: 0.5868335\ttotal: 2.43s\tremaining: 383ms\n",
      "216:\tlearn: 0.5867721\ttotal: 2.44s\tremaining: 372ms\n",
      "217:\tlearn: 0.5867605\ttotal: 2.45s\tremaining: 360ms\n",
      "218:\tlearn: 0.5865734\ttotal: 2.46s\tremaining: 349ms\n",
      "219:\tlearn: 0.5865138\ttotal: 2.48s\tremaining: 338ms\n",
      "220:\tlearn: 0.5864114\ttotal: 2.49s\tremaining: 327ms\n",
      "221:\tlearn: 0.5863381\ttotal: 2.5s\tremaining: 316ms\n",
      "222:\tlearn: 0.5862697\ttotal: 2.52s\tremaining: 305ms\n",
      "223:\tlearn: 0.5861419\ttotal: 2.53s\tremaining: 293ms\n",
      "224:\tlearn: 0.5861365\ttotal: 2.54s\tremaining: 282ms\n",
      "225:\tlearn: 0.5861365\ttotal: 2.55s\tremaining: 271ms\n",
      "226:\tlearn: 0.5860479\ttotal: 2.56s\tremaining: 259ms\n",
      "227:\tlearn: 0.5859639\ttotal: 2.57s\tremaining: 248ms\n",
      "228:\tlearn: 0.5858353\ttotal: 2.58s\tremaining: 237ms\n",
      "229:\tlearn: 0.5857946\ttotal: 2.59s\tremaining: 225ms\n",
      "230:\tlearn: 0.5857538\ttotal: 2.6s\tremaining: 214ms\n",
      "231:\tlearn: 0.5857137\ttotal: 2.61s\tremaining: 203ms\n",
      "232:\tlearn: 0.5856999\ttotal: 2.62s\tremaining: 192ms\n",
      "233:\tlearn: 0.5855907\ttotal: 2.63s\tremaining: 180ms\n",
      "234:\tlearn: 0.5855011\ttotal: 2.65s\tremaining: 169ms\n",
      "235:\tlearn: 0.5854732\ttotal: 2.66s\tremaining: 158ms\n",
      "236:\tlearn: 0.5854582\ttotal: 2.67s\tremaining: 146ms\n",
      "237:\tlearn: 0.5853441\ttotal: 2.69s\tremaining: 135ms\n",
      "238:\tlearn: 0.5852361\ttotal: 2.7s\tremaining: 124ms\n",
      "239:\tlearn: 0.5850959\ttotal: 2.71s\tremaining: 113ms\n",
      "240:\tlearn: 0.5850093\ttotal: 2.72s\tremaining: 102ms\n",
      "241:\tlearn: 0.5850088\ttotal: 2.73s\tremaining: 90.3ms\n",
      "242:\tlearn: 0.5849459\ttotal: 2.74s\tremaining: 79ms\n",
      "243:\tlearn: 0.5849083\ttotal: 2.75s\tremaining: 67.7ms\n",
      "244:\tlearn: 0.5849083\ttotal: 2.76s\tremaining: 56.4ms\n",
      "245:\tlearn: 0.5848077\ttotal: 2.77s\tremaining: 45.1ms\n",
      "246:\tlearn: 0.5847416\ttotal: 2.78s\tremaining: 33.8ms\n",
      "247:\tlearn: 0.5847415\ttotal: 2.79s\tremaining: 22.5ms\n",
      "248:\tlearn: 0.5847415\ttotal: 2.8s\tremaining: 11.3ms\n",
      "249:\tlearn: 0.5846702\ttotal: 2.81s\tremaining: 0us\n",
      "0:\tlearn: 0.6751611\ttotal: 12.6ms\tremaining: 3.13s\n",
      "1:\tlearn: 0.6633919\ttotal: 22.4ms\tremaining: 2.78s\n",
      "2:\tlearn: 0.6500831\ttotal: 35ms\tremaining: 2.88s\n",
      "3:\tlearn: 0.6419897\ttotal: 47.3ms\tremaining: 2.91s\n",
      "4:\tlearn: 0.6354830\ttotal: 60.5ms\tremaining: 2.96s\n",
      "5:\tlearn: 0.6297672\ttotal: 73.3ms\tremaining: 2.98s\n",
      "6:\tlearn: 0.6264547\ttotal: 85.9ms\tremaining: 2.98s\n",
      "7:\tlearn: 0.6221177\ttotal: 98.2ms\tremaining: 2.97s\n",
      "8:\tlearn: 0.6191391\ttotal: 110ms\tremaining: 2.96s\n",
      "9:\tlearn: 0.6165640\ttotal: 123ms\tremaining: 2.95s\n",
      "10:\tlearn: 0.6153172\ttotal: 134ms\tremaining: 2.91s\n",
      "11:\tlearn: 0.6131952\ttotal: 146ms\tremaining: 2.9s\n",
      "12:\tlearn: 0.6126778\ttotal: 157ms\tremaining: 2.86s\n",
      "13:\tlearn: 0.6113369\ttotal: 169ms\tremaining: 2.85s\n",
      "14:\tlearn: 0.6108286\ttotal: 180ms\tremaining: 2.83s\n",
      "15:\tlearn: 0.6106039\ttotal: 190ms\tremaining: 2.77s\n",
      "16:\tlearn: 0.6098178\ttotal: 202ms\tremaining: 2.76s\n",
      "17:\tlearn: 0.6095338\ttotal: 220ms\tremaining: 2.84s\n",
      "18:\tlearn: 0.6086417\ttotal: 234ms\tremaining: 2.85s\n",
      "19:\tlearn: 0.6080869\ttotal: 247ms\tremaining: 2.84s\n",
      "20:\tlearn: 0.6073152\ttotal: 259ms\tremaining: 2.82s\n",
      "21:\tlearn: 0.6069758\ttotal: 271ms\tremaining: 2.81s\n",
      "22:\tlearn: 0.6069444\ttotal: 281ms\tremaining: 2.77s\n",
      "23:\tlearn: 0.6062688\ttotal: 293ms\tremaining: 2.76s\n",
      "24:\tlearn: 0.6058961\ttotal: 306ms\tremaining: 2.75s\n",
      "25:\tlearn: 0.6056293\ttotal: 318ms\tremaining: 2.74s\n",
      "26:\tlearn: 0.6052368\ttotal: 333ms\tremaining: 2.75s\n",
      "27:\tlearn: 0.6047431\ttotal: 346ms\tremaining: 2.75s\n",
      "28:\tlearn: 0.6043390\ttotal: 359ms\tremaining: 2.73s\n",
      "29:\tlearn: 0.6039805\ttotal: 371ms\tremaining: 2.72s\n",
      "30:\tlearn: 0.6037127\ttotal: 384ms\tremaining: 2.71s\n",
      "31:\tlearn: 0.6034251\ttotal: 397ms\tremaining: 2.7s\n",
      "32:\tlearn: 0.6033340\ttotal: 408ms\tremaining: 2.68s\n"
     ]
    },
    {
     "name": "stdout",
     "output_type": "stream",
     "text": [
      "33:\tlearn: 0.6031394\ttotal: 422ms\tremaining: 2.68s\n",
      "34:\tlearn: 0.6029789\ttotal: 440ms\tremaining: 2.71s\n",
      "35:\tlearn: 0.6029042\ttotal: 458ms\tremaining: 2.72s\n",
      "36:\tlearn: 0.6027283\ttotal: 471ms\tremaining: 2.71s\n",
      "37:\tlearn: 0.6026338\ttotal: 482ms\tremaining: 2.69s\n",
      "38:\tlearn: 0.6024988\ttotal: 500ms\tremaining: 2.71s\n",
      "39:\tlearn: 0.6023776\ttotal: 512ms\tremaining: 2.69s\n",
      "40:\tlearn: 0.6023513\ttotal: 523ms\tremaining: 2.67s\n",
      "41:\tlearn: 0.6022283\ttotal: 536ms\tremaining: 2.65s\n",
      "42:\tlearn: 0.6022092\ttotal: 547ms\tremaining: 2.63s\n",
      "43:\tlearn: 0.6021620\ttotal: 563ms\tremaining: 2.63s\n",
      "44:\tlearn: 0.6019187\ttotal: 575ms\tremaining: 2.62s\n",
      "45:\tlearn: 0.6017684\ttotal: 588ms\tremaining: 2.6s\n",
      "46:\tlearn: 0.6015231\ttotal: 600ms\tremaining: 2.59s\n",
      "47:\tlearn: 0.6014063\ttotal: 613ms\tremaining: 2.58s\n",
      "48:\tlearn: 0.6011878\ttotal: 629ms\tremaining: 2.58s\n",
      "49:\tlearn: 0.6010005\ttotal: 643ms\tremaining: 2.57s\n",
      "50:\tlearn: 0.6008447\ttotal: 655ms\tremaining: 2.56s\n",
      "51:\tlearn: 0.6005183\ttotal: 667ms\tremaining: 2.54s\n",
      "52:\tlearn: 0.6004821\ttotal: 678ms\tremaining: 2.52s\n",
      "53:\tlearn: 0.6003677\ttotal: 691ms\tremaining: 2.51s\n",
      "54:\tlearn: 0.6000970\ttotal: 703ms\tremaining: 2.49s\n",
      "55:\tlearn: 0.5999455\ttotal: 716ms\tremaining: 2.48s\n",
      "56:\tlearn: 0.5996133\ttotal: 728ms\tremaining: 2.47s\n",
      "57:\tlearn: 0.5995531\ttotal: 740ms\tremaining: 2.45s\n",
      "58:\tlearn: 0.5994979\ttotal: 753ms\tremaining: 2.44s\n",
      "59:\tlearn: 0.5992656\ttotal: 766ms\tremaining: 2.42s\n",
      "60:\tlearn: 0.5991193\ttotal: 779ms\tremaining: 2.41s\n",
      "61:\tlearn: 0.5988685\ttotal: 792ms\tremaining: 2.4s\n",
      "62:\tlearn: 0.5986923\ttotal: 805ms\tremaining: 2.39s\n",
      "63:\tlearn: 0.5985640\ttotal: 817ms\tremaining: 2.37s\n",
      "64:\tlearn: 0.5985186\ttotal: 832ms\tremaining: 2.37s\n",
      "65:\tlearn: 0.5983933\ttotal: 848ms\tremaining: 2.36s\n",
      "66:\tlearn: 0.5982747\ttotal: 861ms\tremaining: 2.35s\n",
      "67:\tlearn: 0.5981454\ttotal: 873ms\tremaining: 2.34s\n",
      "68:\tlearn: 0.5980682\ttotal: 886ms\tremaining: 2.32s\n",
      "69:\tlearn: 0.5979638\ttotal: 898ms\tremaining: 2.31s\n",
      "70:\tlearn: 0.5979560\ttotal: 908ms\tremaining: 2.29s\n",
      "71:\tlearn: 0.5978686\ttotal: 919ms\tremaining: 2.27s\n",
      "72:\tlearn: 0.5976615\ttotal: 930ms\tremaining: 2.25s\n",
      "73:\tlearn: 0.5975429\ttotal: 942ms\tremaining: 2.24s\n",
      "74:\tlearn: 0.5974411\ttotal: 953ms\tremaining: 2.22s\n",
      "75:\tlearn: 0.5973068\ttotal: 964ms\tremaining: 2.21s\n",
      "76:\tlearn: 0.5972317\ttotal: 976ms\tremaining: 2.19s\n",
      "77:\tlearn: 0.5970425\ttotal: 987ms\tremaining: 2.18s\n",
      "78:\tlearn: 0.5968955\ttotal: 998ms\tremaining: 2.16s\n",
      "79:\tlearn: 0.5967747\ttotal: 1.01s\tremaining: 2.14s\n",
      "80:\tlearn: 0.5966558\ttotal: 1.02s\tremaining: 2.13s\n",
      "81:\tlearn: 0.5965688\ttotal: 1.04s\tremaining: 2.12s\n",
      "82:\tlearn: 0.5965081\ttotal: 1.05s\tremaining: 2.12s\n",
      "83:\tlearn: 0.5963904\ttotal: 1.06s\tremaining: 2.1s\n",
      "84:\tlearn: 0.5962601\ttotal: 1.08s\tremaining: 2.09s\n",
      "85:\tlearn: 0.5962397\ttotal: 1.09s\tremaining: 2.07s\n",
      "86:\tlearn: 0.5961691\ttotal: 1.1s\tremaining: 2.06s\n",
      "87:\tlearn: 0.5961102\ttotal: 1.11s\tremaining: 2.04s\n",
      "88:\tlearn: 0.5960525\ttotal: 1.12s\tremaining: 2.03s\n",
      "89:\tlearn: 0.5958992\ttotal: 1.13s\tremaining: 2.01s\n",
      "90:\tlearn: 0.5958992\ttotal: 1.14s\tremaining: 1.99s\n",
      "91:\tlearn: 0.5958542\ttotal: 1.15s\tremaining: 1.98s\n",
      "92:\tlearn: 0.5957794\ttotal: 1.16s\tremaining: 1.96s\n",
      "93:\tlearn: 0.5956994\ttotal: 1.18s\tremaining: 1.96s\n",
      "94:\tlearn: 0.5956595\ttotal: 1.19s\tremaining: 1.94s\n",
      "95:\tlearn: 0.5955615\ttotal: 1.2s\tremaining: 1.92s\n",
      "96:\tlearn: 0.5954077\ttotal: 1.21s\tremaining: 1.91s\n",
      "97:\tlearn: 0.5952178\ttotal: 1.22s\tremaining: 1.9s\n",
      "98:\tlearn: 0.5951613\ttotal: 1.23s\tremaining: 1.88s\n",
      "99:\tlearn: 0.5951498\ttotal: 1.25s\tremaining: 1.87s\n",
      "100:\tlearn: 0.5951492\ttotal: 1.26s\tremaining: 1.86s\n",
      "101:\tlearn: 0.5950976\ttotal: 1.27s\tremaining: 1.84s\n",
      "102:\tlearn: 0.5949791\ttotal: 1.28s\tremaining: 1.83s\n",
      "103:\tlearn: 0.5948645\ttotal: 1.29s\tremaining: 1.82s\n",
      "104:\tlearn: 0.5947678\ttotal: 1.31s\tremaining: 1.8s\n",
      "105:\tlearn: 0.5947432\ttotal: 1.32s\tremaining: 1.79s\n",
      "106:\tlearn: 0.5947423\ttotal: 1.33s\tremaining: 1.77s\n",
      "107:\tlearn: 0.5946906\ttotal: 1.34s\tremaining: 1.76s\n",
      "108:\tlearn: 0.5946902\ttotal: 1.35s\tremaining: 1.74s\n",
      "109:\tlearn: 0.5945851\ttotal: 1.36s\tremaining: 1.73s\n",
      "110:\tlearn: 0.5944704\ttotal: 1.37s\tremaining: 1.72s\n",
      "111:\tlearn: 0.5943092\ttotal: 1.38s\tremaining: 1.7s\n",
      "112:\tlearn: 0.5942473\ttotal: 1.39s\tremaining: 1.69s\n",
      "113:\tlearn: 0.5941342\ttotal: 1.41s\tremaining: 1.68s\n",
      "114:\tlearn: 0.5940792\ttotal: 1.42s\tremaining: 1.66s\n",
      "115:\tlearn: 0.5940104\ttotal: 1.43s\tremaining: 1.65s\n",
      "116:\tlearn: 0.5938938\ttotal: 1.44s\tremaining: 1.64s\n",
      "117:\tlearn: 0.5938257\ttotal: 1.46s\tremaining: 1.63s\n",
      "118:\tlearn: 0.5936885\ttotal: 1.47s\tremaining: 1.62s\n",
      "119:\tlearn: 0.5935889\ttotal: 1.48s\tremaining: 1.61s\n",
      "120:\tlearn: 0.5933855\ttotal: 1.49s\tremaining: 1.59s\n",
      "121:\tlearn: 0.5933738\ttotal: 1.51s\tremaining: 1.58s\n",
      "122:\tlearn: 0.5933191\ttotal: 1.53s\tremaining: 1.57s\n",
      "123:\tlearn: 0.5933186\ttotal: 1.53s\tremaining: 1.56s\n",
      "124:\tlearn: 0.5932971\ttotal: 1.55s\tremaining: 1.55s\n",
      "125:\tlearn: 0.5931706\ttotal: 1.56s\tremaining: 1.53s\n",
      "126:\tlearn: 0.5929190\ttotal: 1.57s\tremaining: 1.52s\n",
      "127:\tlearn: 0.5929149\ttotal: 1.58s\tremaining: 1.51s\n",
      "128:\tlearn: 0.5928910\ttotal: 1.59s\tremaining: 1.49s\n",
      "129:\tlearn: 0.5927630\ttotal: 1.6s\tremaining: 1.48s\n",
      "130:\tlearn: 0.5927192\ttotal: 1.61s\tremaining: 1.47s\n",
      "131:\tlearn: 0.5926130\ttotal: 1.63s\tremaining: 1.45s\n",
      "132:\tlearn: 0.5925972\ttotal: 1.64s\tremaining: 1.44s\n",
      "133:\tlearn: 0.5925294\ttotal: 1.65s\tremaining: 1.43s\n",
      "134:\tlearn: 0.5923364\ttotal: 1.66s\tremaining: 1.42s\n",
      "135:\tlearn: 0.5922487\ttotal: 1.68s\tremaining: 1.41s\n",
      "136:\tlearn: 0.5921398\ttotal: 1.69s\tremaining: 1.4s\n",
      "137:\tlearn: 0.5920739\ttotal: 1.7s\tremaining: 1.38s\n",
      "138:\tlearn: 0.5920127\ttotal: 1.71s\tremaining: 1.37s\n",
      "139:\tlearn: 0.5919704\ttotal: 1.72s\tremaining: 1.35s\n",
      "140:\tlearn: 0.5918547\ttotal: 1.74s\tremaining: 1.34s\n",
      "141:\tlearn: 0.5917572\ttotal: 1.75s\tremaining: 1.33s\n",
      "142:\tlearn: 0.5917392\ttotal: 1.76s\tremaining: 1.31s\n",
      "143:\tlearn: 0.5916610\ttotal: 1.77s\tremaining: 1.3s\n",
      "144:\tlearn: 0.5915474\ttotal: 1.78s\tremaining: 1.29s\n",
      "145:\tlearn: 0.5914219\ttotal: 1.79s\tremaining: 1.28s\n",
      "146:\tlearn: 0.5913281\ttotal: 1.8s\tremaining: 1.26s\n",
      "147:\tlearn: 0.5913143\ttotal: 1.81s\tremaining: 1.25s\n",
      "148:\tlearn: 0.5912552\ttotal: 1.82s\tremaining: 1.24s\n",
      "149:\tlearn: 0.5911598\ttotal: 1.84s\tremaining: 1.22s\n",
      "150:\tlearn: 0.5910873\ttotal: 1.85s\tremaining: 1.21s\n",
      "151:\tlearn: 0.5908150\ttotal: 1.86s\tremaining: 1.2s\n",
      "152:\tlearn: 0.5907779\ttotal: 1.88s\tremaining: 1.19s\n",
      "153:\tlearn: 0.5906673\ttotal: 1.89s\tremaining: 1.18s\n",
      "154:\tlearn: 0.5906409\ttotal: 1.9s\tremaining: 1.16s\n",
      "155:\tlearn: 0.5905551\ttotal: 1.91s\tremaining: 1.15s\n",
      "156:\tlearn: 0.5905274\ttotal: 1.92s\tremaining: 1.14s\n",
      "157:\tlearn: 0.5905206\ttotal: 1.93s\tremaining: 1.12s\n",
      "158:\tlearn: 0.5905162\ttotal: 1.94s\tremaining: 1.11s\n",
      "159:\tlearn: 0.5904108\ttotal: 1.95s\tremaining: 1.1s\n",
      "160:\tlearn: 0.5903191\ttotal: 1.96s\tremaining: 1.08s\n",
      "161:\tlearn: 0.5903119\ttotal: 1.97s\tremaining: 1.07s\n",
      "162:\tlearn: 0.5901915\ttotal: 1.98s\tremaining: 1.06s\n",
      "163:\tlearn: 0.5901466\ttotal: 1.99s\tremaining: 1.04s\n",
      "164:\tlearn: 0.5900508\ttotal: 2s\tremaining: 1.03s\n",
      "165:\tlearn: 0.5900024\ttotal: 2.02s\tremaining: 1.02s\n",
      "166:\tlearn: 0.5899428\ttotal: 2.03s\tremaining: 1.01s\n",
      "167:\tlearn: 0.5898978\ttotal: 2.04s\tremaining: 995ms\n",
      "168:\tlearn: 0.5897820\ttotal: 2.05s\tremaining: 982ms\n",
      "169:\tlearn: 0.5896043\ttotal: 2.06s\tremaining: 969ms\n",
      "170:\tlearn: 0.5895344\ttotal: 2.07s\tremaining: 957ms\n",
      "171:\tlearn: 0.5895297\ttotal: 2.09s\tremaining: 946ms\n",
      "172:\tlearn: 0.5894737\ttotal: 2.1s\tremaining: 934ms\n",
      "173:\tlearn: 0.5894632\ttotal: 2.11s\tremaining: 921ms\n",
      "174:\tlearn: 0.5894174\ttotal: 2.12s\tremaining: 909ms\n",
      "175:\tlearn: 0.5893555\ttotal: 2.13s\tremaining: 896ms\n",
      "176:\tlearn: 0.5892889\ttotal: 2.14s\tremaining: 884ms\n",
      "177:\tlearn: 0.5892867\ttotal: 2.15s\tremaining: 871ms\n",
      "178:\tlearn: 0.5892821\ttotal: 2.16s\tremaining: 858ms\n",
      "179:\tlearn: 0.5892093\ttotal: 2.17s\tremaining: 845ms\n",
      "180:\tlearn: 0.5891801\ttotal: 2.18s\tremaining: 833ms\n",
      "181:\tlearn: 0.5890840\ttotal: 2.19s\tremaining: 820ms\n",
      "182:\tlearn: 0.5890839\ttotal: 2.21s\tremaining: 809ms\n",
      "183:\tlearn: 0.5890773\ttotal: 2.22s\tremaining: 797ms\n",
      "184:\tlearn: 0.5890137\ttotal: 2.23s\tremaining: 785ms\n",
      "185:\tlearn: 0.5890001\ttotal: 2.24s\tremaining: 772ms\n",
      "186:\tlearn: 0.5888878\ttotal: 2.25s\tremaining: 760ms\n",
      "187:\tlearn: 0.5888600\ttotal: 2.27s\tremaining: 747ms\n",
      "188:\tlearn: 0.5887700\ttotal: 2.28s\tremaining: 735ms\n",
      "189:\tlearn: 0.5886961\ttotal: 2.29s\tremaining: 724ms\n",
      "190:\tlearn: 0.5886348\ttotal: 2.31s\tremaining: 714ms\n",
      "191:\tlearn: 0.5886126\ttotal: 2.32s\tremaining: 702ms\n",
      "192:\tlearn: 0.5885341\ttotal: 2.34s\tremaining: 690ms\n",
      "193:\tlearn: 0.5885045\ttotal: 2.35s\tremaining: 679ms\n",
      "194:\tlearn: 0.5884752\ttotal: 2.36s\tremaining: 666ms\n",
      "195:\tlearn: 0.5884224\ttotal: 2.37s\tremaining: 654ms\n",
      "196:\tlearn: 0.5883682\ttotal: 2.38s\tremaining: 642ms\n",
      "197:\tlearn: 0.5883549\ttotal: 2.4s\tremaining: 629ms\n",
      "198:\tlearn: 0.5883405\ttotal: 2.41s\tremaining: 618ms\n",
      "199:\tlearn: 0.5882221\ttotal: 2.42s\tremaining: 605ms\n",
      "200:\tlearn: 0.5881758\ttotal: 2.43s\tremaining: 593ms\n",
      "201:\tlearn: 0.5881604\ttotal: 2.44s\tremaining: 581ms\n",
      "202:\tlearn: 0.5881249\ttotal: 2.46s\tremaining: 568ms\n",
      "203:\tlearn: 0.5880385\ttotal: 2.47s\tremaining: 557ms\n",
      "204:\tlearn: 0.5879892\ttotal: 2.48s\tremaining: 544ms\n"
     ]
    },
    {
     "name": "stdout",
     "output_type": "stream",
     "text": [
      "205:\tlearn: 0.5878358\ttotal: 2.49s\tremaining: 533ms\n",
      "206:\tlearn: 0.5877931\ttotal: 2.52s\tremaining: 523ms\n",
      "207:\tlearn: 0.5877146\ttotal: 2.53s\tremaining: 510ms\n",
      "208:\tlearn: 0.5876569\ttotal: 2.54s\tremaining: 498ms\n",
      "209:\tlearn: 0.5875454\ttotal: 2.55s\tremaining: 486ms\n",
      "210:\tlearn: 0.5875142\ttotal: 2.56s\tremaining: 473ms\n",
      "211:\tlearn: 0.5873886\ttotal: 2.57s\tremaining: 461ms\n",
      "212:\tlearn: 0.5873866\ttotal: 2.58s\tremaining: 449ms\n",
      "213:\tlearn: 0.5872968\ttotal: 2.6s\tremaining: 437ms\n",
      "214:\tlearn: 0.5872514\ttotal: 2.61s\tremaining: 424ms\n",
      "215:\tlearn: 0.5871989\ttotal: 2.62s\tremaining: 412ms\n",
      "216:\tlearn: 0.5871606\ttotal: 2.63s\tremaining: 400ms\n",
      "217:\tlearn: 0.5871488\ttotal: 2.64s\tremaining: 388ms\n",
      "218:\tlearn: 0.5870886\ttotal: 2.66s\tremaining: 376ms\n",
      "219:\tlearn: 0.5870492\ttotal: 2.67s\tremaining: 364ms\n",
      "220:\tlearn: 0.5870053\ttotal: 2.69s\tremaining: 353ms\n",
      "221:\tlearn: 0.5869584\ttotal: 2.71s\tremaining: 341ms\n",
      "222:\tlearn: 0.5868929\ttotal: 2.72s\tremaining: 329ms\n",
      "223:\tlearn: 0.5868444\ttotal: 2.73s\tremaining: 317ms\n",
      "224:\tlearn: 0.5868194\ttotal: 2.75s\tremaining: 305ms\n",
      "225:\tlearn: 0.5867556\ttotal: 2.76s\tremaining: 294ms\n",
      "226:\tlearn: 0.5867311\ttotal: 2.78s\tremaining: 282ms\n",
      "227:\tlearn: 0.5867014\ttotal: 2.79s\tremaining: 269ms\n",
      "228:\tlearn: 0.5866395\ttotal: 2.8s\tremaining: 257ms\n",
      "229:\tlearn: 0.5865540\ttotal: 2.82s\tremaining: 245ms\n",
      "230:\tlearn: 0.5864677\ttotal: 2.83s\tremaining: 233ms\n",
      "231:\tlearn: 0.5864023\ttotal: 2.84s\tremaining: 220ms\n",
      "232:\tlearn: 0.5863121\ttotal: 2.85s\tremaining: 208ms\n",
      "233:\tlearn: 0.5862042\ttotal: 2.87s\tremaining: 196ms\n",
      "234:\tlearn: 0.5861168\ttotal: 2.88s\tremaining: 184ms\n",
      "235:\tlearn: 0.5861134\ttotal: 2.89s\tremaining: 171ms\n",
      "236:\tlearn: 0.5860473\ttotal: 2.9s\tremaining: 159ms\n",
      "237:\tlearn: 0.5859347\ttotal: 2.92s\tremaining: 147ms\n",
      "238:\tlearn: 0.5859024\ttotal: 2.93s\tremaining: 135ms\n",
      "239:\tlearn: 0.5858861\ttotal: 2.94s\tremaining: 123ms\n",
      "240:\tlearn: 0.5858307\ttotal: 2.95s\tremaining: 110ms\n",
      "241:\tlearn: 0.5857488\ttotal: 2.96s\tremaining: 98ms\n",
      "242:\tlearn: 0.5856742\ttotal: 2.98s\tremaining: 85.7ms\n",
      "243:\tlearn: 0.5856443\ttotal: 2.99s\tremaining: 73.5ms\n",
      "244:\tlearn: 0.5855306\ttotal: 3s\tremaining: 61.2ms\n",
      "245:\tlearn: 0.5854781\ttotal: 3.01s\tremaining: 48.9ms\n",
      "246:\tlearn: 0.5854253\ttotal: 3.02s\tremaining: 36.7ms\n",
      "247:\tlearn: 0.5854150\ttotal: 3.03s\tremaining: 24.5ms\n",
      "248:\tlearn: 0.5853764\ttotal: 3.04s\tremaining: 12.2ms\n",
      "249:\tlearn: 0.5853151\ttotal: 3.05s\tremaining: 0us\n",
      "0:\tlearn: 0.6656688\ttotal: 15.5ms\tremaining: 3.86s\n",
      "1:\tlearn: 0.6430395\ttotal: 30.8ms\tremaining: 3.82s\n",
      "2:\tlearn: 0.6317135\ttotal: 46.3ms\tremaining: 3.81s\n",
      "3:\tlearn: 0.6157182\ttotal: 61.9ms\tremaining: 3.81s\n",
      "4:\tlearn: 0.6077573\ttotal: 77.7ms\tremaining: 3.81s\n",
      "5:\tlearn: 0.5996537\ttotal: 93.4ms\tremaining: 3.8s\n",
      "6:\tlearn: 0.5942536\ttotal: 109ms\tremaining: 3.77s\n",
      "7:\tlearn: 0.5876765\ttotal: 124ms\tremaining: 3.77s\n",
      "8:\tlearn: 0.5848405\ttotal: 140ms\tremaining: 3.74s\n",
      "9:\tlearn: 0.5824137\ttotal: 155ms\tremaining: 3.72s\n",
      "10:\tlearn: 0.5813553\ttotal: 168ms\tremaining: 3.64s\n",
      "11:\tlearn: 0.5796230\ttotal: 183ms\tremaining: 3.62s\n",
      "12:\tlearn: 0.5776268\ttotal: 198ms\tremaining: 3.62s\n",
      "13:\tlearn: 0.5762557\ttotal: 215ms\tremaining: 3.62s\n",
      "14:\tlearn: 0.5749460\ttotal: 237ms\tremaining: 3.71s\n",
      "15:\tlearn: 0.5734801\ttotal: 252ms\tremaining: 3.69s\n",
      "16:\tlearn: 0.5727297\ttotal: 267ms\tremaining: 3.65s\n",
      "17:\tlearn: 0.5723861\ttotal: 284ms\tremaining: 3.66s\n",
      "18:\tlearn: 0.5714775\ttotal: 299ms\tremaining: 3.64s\n",
      "19:\tlearn: 0.5712674\ttotal: 313ms\tremaining: 3.6s\n",
      "20:\tlearn: 0.5705231\ttotal: 328ms\tremaining: 3.58s\n",
      "21:\tlearn: 0.5699628\ttotal: 343ms\tremaining: 3.56s\n",
      "22:\tlearn: 0.5692198\ttotal: 359ms\tremaining: 3.54s\n",
      "23:\tlearn: 0.5684613\ttotal: 375ms\tremaining: 3.53s\n",
      "24:\tlearn: 0.5680763\ttotal: 394ms\tremaining: 3.54s\n",
      "25:\tlearn: 0.5677357\ttotal: 411ms\tremaining: 3.54s\n",
      "26:\tlearn: 0.5672883\ttotal: 433ms\tremaining: 3.58s\n",
      "27:\tlearn: 0.5670903\ttotal: 449ms\tremaining: 3.56s\n",
      "28:\tlearn: 0.5670852\ttotal: 466ms\tremaining: 3.55s\n",
      "29:\tlearn: 0.5666866\ttotal: 482ms\tremaining: 3.53s\n",
      "30:\tlearn: 0.5664611\ttotal: 497ms\tremaining: 3.51s\n",
      "31:\tlearn: 0.5662423\ttotal: 513ms\tremaining: 3.5s\n",
      "32:\tlearn: 0.5659377\ttotal: 529ms\tremaining: 3.48s\n",
      "33:\tlearn: 0.5658699\ttotal: 541ms\tremaining: 3.44s\n",
      "34:\tlearn: 0.5654530\ttotal: 558ms\tremaining: 3.43s\n",
      "35:\tlearn: 0.5652262\ttotal: 574ms\tremaining: 3.41s\n",
      "36:\tlearn: 0.5650220\ttotal: 589ms\tremaining: 3.39s\n",
      "37:\tlearn: 0.5648616\ttotal: 605ms\tremaining: 3.37s\n",
      "38:\tlearn: 0.5646634\ttotal: 621ms\tremaining: 3.36s\n",
      "39:\tlearn: 0.5644839\ttotal: 639ms\tremaining: 3.35s\n",
      "40:\tlearn: 0.5643832\ttotal: 657ms\tremaining: 3.35s\n",
      "41:\tlearn: 0.5642300\ttotal: 673ms\tremaining: 3.33s\n",
      "42:\tlearn: 0.5640770\ttotal: 688ms\tremaining: 3.31s\n",
      "43:\tlearn: 0.5638484\ttotal: 704ms\tremaining: 3.29s\n",
      "44:\tlearn: 0.5636718\ttotal: 720ms\tremaining: 3.28s\n",
      "45:\tlearn: 0.5634840\ttotal: 735ms\tremaining: 3.26s\n",
      "46:\tlearn: 0.5633181\ttotal: 751ms\tremaining: 3.24s\n",
      "47:\tlearn: 0.5633181\ttotal: 763ms\tremaining: 3.21s\n",
      "48:\tlearn: 0.5632166\ttotal: 779ms\tremaining: 3.19s\n",
      "49:\tlearn: 0.5629531\ttotal: 794ms\tremaining: 3.17s\n",
      "50:\tlearn: 0.5627497\ttotal: 809ms\tremaining: 3.16s\n",
      "51:\tlearn: 0.5626382\ttotal: 825ms\tremaining: 3.14s\n",
      "52:\tlearn: 0.5624254\ttotal: 841ms\tremaining: 3.13s\n",
      "53:\tlearn: 0.5623204\ttotal: 859ms\tremaining: 3.12s\n",
      "54:\tlearn: 0.5621464\ttotal: 875ms\tremaining: 3.1s\n",
      "55:\tlearn: 0.5620210\ttotal: 891ms\tremaining: 3.08s\n",
      "56:\tlearn: 0.5618366\ttotal: 907ms\tremaining: 3.07s\n",
      "57:\tlearn: 0.5616870\ttotal: 922ms\tremaining: 3.05s\n",
      "58:\tlearn: 0.5614743\ttotal: 937ms\tremaining: 3.03s\n",
      "59:\tlearn: 0.5614016\ttotal: 952ms\tremaining: 3.02s\n",
      "60:\tlearn: 0.5613168\ttotal: 968ms\tremaining: 3s\n",
      "61:\tlearn: 0.5612123\ttotal: 983ms\tremaining: 2.98s\n",
      "62:\tlearn: 0.5611192\ttotal: 998ms\tremaining: 2.96s\n",
      "63:\tlearn: 0.5609881\ttotal: 1.01s\tremaining: 2.95s\n",
      "64:\tlearn: 0.5609529\ttotal: 1.03s\tremaining: 2.93s\n",
      "65:\tlearn: 0.5608864\ttotal: 1.05s\tremaining: 2.93s\n",
      "66:\tlearn: 0.5608226\ttotal: 1.07s\tremaining: 2.92s\n",
      "67:\tlearn: 0.5606832\ttotal: 1.08s\tremaining: 2.9s\n",
      "68:\tlearn: 0.5605969\ttotal: 1.1s\tremaining: 2.88s\n",
      "69:\tlearn: 0.5605460\ttotal: 1.12s\tremaining: 2.87s\n",
      "70:\tlearn: 0.5604242\ttotal: 1.13s\tremaining: 2.85s\n",
      "71:\tlearn: 0.5602964\ttotal: 1.15s\tremaining: 2.84s\n",
      "72:\tlearn: 0.5602154\ttotal: 1.16s\tremaining: 2.82s\n",
      "73:\tlearn: 0.5600590\ttotal: 1.18s\tremaining: 2.8s\n",
      "74:\tlearn: 0.5599471\ttotal: 1.19s\tremaining: 2.79s\n",
      "75:\tlearn: 0.5598035\ttotal: 1.21s\tremaining: 2.77s\n",
      "76:\tlearn: 0.5594887\ttotal: 1.22s\tremaining: 2.75s\n",
      "77:\tlearn: 0.5594848\ttotal: 1.24s\tremaining: 2.73s\n",
      "78:\tlearn: 0.5592901\ttotal: 1.26s\tremaining: 2.73s\n",
      "79:\tlearn: 0.5591976\ttotal: 1.28s\tremaining: 2.71s\n",
      "80:\tlearn: 0.5591095\ttotal: 1.29s\tremaining: 2.69s\n",
      "81:\tlearn: 0.5588752\ttotal: 1.3s\tremaining: 2.67s\n",
      "82:\tlearn: 0.5588408\ttotal: 1.32s\tremaining: 2.65s\n",
      "83:\tlearn: 0.5587114\ttotal: 1.33s\tremaining: 2.63s\n",
      "84:\tlearn: 0.5587086\ttotal: 1.34s\tremaining: 2.61s\n",
      "85:\tlearn: 0.5585831\ttotal: 1.36s\tremaining: 2.59s\n",
      "86:\tlearn: 0.5585274\ttotal: 1.37s\tremaining: 2.57s\n",
      "87:\tlearn: 0.5584897\ttotal: 1.39s\tremaining: 2.55s\n",
      "88:\tlearn: 0.5583863\ttotal: 1.4s\tremaining: 2.53s\n",
      "89:\tlearn: 0.5582961\ttotal: 1.41s\tremaining: 2.51s\n",
      "90:\tlearn: 0.5581241\ttotal: 1.43s\tremaining: 2.49s\n",
      "91:\tlearn: 0.5580977\ttotal: 1.44s\tremaining: 2.47s\n",
      "92:\tlearn: 0.5579839\ttotal: 1.45s\tremaining: 2.45s\n",
      "93:\tlearn: 0.5579152\ttotal: 1.47s\tremaining: 2.44s\n",
      "94:\tlearn: 0.5578322\ttotal: 1.49s\tremaining: 2.43s\n",
      "95:\tlearn: 0.5577920\ttotal: 1.5s\tremaining: 2.41s\n",
      "96:\tlearn: 0.5577163\ttotal: 1.51s\tremaining: 2.39s\n",
      "97:\tlearn: 0.5577132\ttotal: 1.53s\tremaining: 2.37s\n",
      "98:\tlearn: 0.5576475\ttotal: 1.54s\tremaining: 2.35s\n",
      "99:\tlearn: 0.5574724\ttotal: 1.55s\tremaining: 2.33s\n",
      "100:\tlearn: 0.5573941\ttotal: 1.57s\tremaining: 2.31s\n",
      "101:\tlearn: 0.5573721\ttotal: 1.58s\tremaining: 2.3s\n",
      "102:\tlearn: 0.5572654\ttotal: 1.6s\tremaining: 2.28s\n",
      "103:\tlearn: 0.5572087\ttotal: 1.61s\tremaining: 2.26s\n",
      "104:\tlearn: 0.5571590\ttotal: 1.62s\tremaining: 2.24s\n",
      "105:\tlearn: 0.5570564\ttotal: 1.64s\tremaining: 2.23s\n",
      "106:\tlearn: 0.5569909\ttotal: 1.65s\tremaining: 2.21s\n",
      "107:\tlearn: 0.5569551\ttotal: 1.67s\tremaining: 2.19s\n",
      "108:\tlearn: 0.5569252\ttotal: 1.69s\tremaining: 2.18s\n",
      "109:\tlearn: 0.5567851\ttotal: 1.7s\tremaining: 2.16s\n",
      "110:\tlearn: 0.5567177\ttotal: 1.71s\tremaining: 2.15s\n",
      "111:\tlearn: 0.5566909\ttotal: 1.73s\tremaining: 2.13s\n",
      "112:\tlearn: 0.5566450\ttotal: 1.74s\tremaining: 2.11s\n",
      "113:\tlearn: 0.5565781\ttotal: 1.76s\tremaining: 2.1s\n",
      "114:\tlearn: 0.5564337\ttotal: 1.77s\tremaining: 2.08s\n",
      "115:\tlearn: 0.5563659\ttotal: 1.78s\tremaining: 2.06s\n",
      "116:\tlearn: 0.5561795\ttotal: 1.8s\tremaining: 2.04s\n",
      "117:\tlearn: 0.5561078\ttotal: 1.81s\tremaining: 2.03s\n",
      "118:\tlearn: 0.5559797\ttotal: 1.82s\tremaining: 2.01s\n",
      "119:\tlearn: 0.5558479\ttotal: 1.84s\tremaining: 2s\n",
      "120:\tlearn: 0.5558321\ttotal: 1.86s\tremaining: 1.98s\n",
      "121:\tlearn: 0.5557898\ttotal: 1.87s\tremaining: 1.96s\n"
     ]
    },
    {
     "name": "stdout",
     "output_type": "stream",
     "text": [
      "122:\tlearn: 0.5557297\ttotal: 1.89s\tremaining: 1.95s\n",
      "123:\tlearn: 0.5556292\ttotal: 1.91s\tremaining: 1.94s\n",
      "124:\tlearn: 0.5555937\ttotal: 1.92s\tremaining: 1.92s\n",
      "125:\tlearn: 0.5555284\ttotal: 1.94s\tremaining: 1.9s\n",
      "126:\tlearn: 0.5554543\ttotal: 1.95s\tremaining: 1.89s\n",
      "127:\tlearn: 0.5554166\ttotal: 1.96s\tremaining: 1.87s\n",
      "128:\tlearn: 0.5552996\ttotal: 1.98s\tremaining: 1.85s\n",
      "129:\tlearn: 0.5551473\ttotal: 1.99s\tremaining: 1.83s\n",
      "130:\tlearn: 0.5551159\ttotal: 2s\tremaining: 1.82s\n",
      "131:\tlearn: 0.5550550\ttotal: 2.02s\tremaining: 1.8s\n",
      "132:\tlearn: 0.5550218\ttotal: 2.03s\tremaining: 1.78s\n",
      "133:\tlearn: 0.5549981\ttotal: 2.04s\tremaining: 1.77s\n",
      "134:\tlearn: 0.5548827\ttotal: 2.06s\tremaining: 1.75s\n",
      "135:\tlearn: 0.5548162\ttotal: 2.07s\tremaining: 1.74s\n",
      "136:\tlearn: 0.5547696\ttotal: 2.08s\tremaining: 1.72s\n",
      "137:\tlearn: 0.5547204\ttotal: 2.1s\tremaining: 1.71s\n",
      "138:\tlearn: 0.5547115\ttotal: 2.12s\tremaining: 1.69s\n",
      "139:\tlearn: 0.5546792\ttotal: 2.13s\tremaining: 1.68s\n",
      "140:\tlearn: 0.5546615\ttotal: 2.15s\tremaining: 1.66s\n",
      "141:\tlearn: 0.5545834\ttotal: 2.16s\tremaining: 1.64s\n",
      "142:\tlearn: 0.5545685\ttotal: 2.17s\tremaining: 1.63s\n",
      "143:\tlearn: 0.5544881\ttotal: 2.19s\tremaining: 1.61s\n",
      "144:\tlearn: 0.5544687\ttotal: 2.2s\tremaining: 1.59s\n",
      "145:\tlearn: 0.5544221\ttotal: 2.21s\tremaining: 1.58s\n",
      "146:\tlearn: 0.5542917\ttotal: 2.23s\tremaining: 1.56s\n",
      "147:\tlearn: 0.5542784\ttotal: 2.24s\tremaining: 1.54s\n",
      "148:\tlearn: 0.5541803\ttotal: 2.26s\tremaining: 1.53s\n",
      "149:\tlearn: 0.5540966\ttotal: 2.27s\tremaining: 1.51s\n",
      "150:\tlearn: 0.5540786\ttotal: 2.29s\tremaining: 1.5s\n",
      "151:\tlearn: 0.5539439\ttotal: 2.3s\tremaining: 1.48s\n",
      "152:\tlearn: 0.5538909\ttotal: 2.32s\tremaining: 1.47s\n",
      "153:\tlearn: 0.5538685\ttotal: 2.33s\tremaining: 1.46s\n",
      "154:\tlearn: 0.5538397\ttotal: 2.35s\tremaining: 1.44s\n",
      "155:\tlearn: 0.5537747\ttotal: 2.36s\tremaining: 1.42s\n",
      "156:\tlearn: 0.5537186\ttotal: 2.38s\tremaining: 1.41s\n",
      "157:\tlearn: 0.5536708\ttotal: 2.39s\tremaining: 1.39s\n",
      "158:\tlearn: 0.5536563\ttotal: 2.4s\tremaining: 1.38s\n",
      "159:\tlearn: 0.5536156\ttotal: 2.42s\tremaining: 1.36s\n",
      "160:\tlearn: 0.5535149\ttotal: 2.43s\tremaining: 1.34s\n",
      "161:\tlearn: 0.5534565\ttotal: 2.44s\tremaining: 1.33s\n",
      "162:\tlearn: 0.5534082\ttotal: 2.46s\tremaining: 1.31s\n",
      "163:\tlearn: 0.5533264\ttotal: 2.47s\tremaining: 1.3s\n",
      "164:\tlearn: 0.5532678\ttotal: 2.49s\tremaining: 1.28s\n",
      "165:\tlearn: 0.5532330\ttotal: 2.5s\tremaining: 1.27s\n",
      "166:\tlearn: 0.5532023\ttotal: 2.52s\tremaining: 1.25s\n",
      "167:\tlearn: 0.5531328\ttotal: 2.54s\tremaining: 1.24s\n",
      "168:\tlearn: 0.5530611\ttotal: 2.55s\tremaining: 1.22s\n",
      "169:\tlearn: 0.5529625\ttotal: 2.56s\tremaining: 1.21s\n",
      "170:\tlearn: 0.5528833\ttotal: 2.58s\tremaining: 1.19s\n",
      "171:\tlearn: 0.5527341\ttotal: 2.59s\tremaining: 1.18s\n",
      "172:\tlearn: 0.5527101\ttotal: 2.61s\tremaining: 1.16s\n",
      "173:\tlearn: 0.5526602\ttotal: 2.62s\tremaining: 1.14s\n",
      "174:\tlearn: 0.5525943\ttotal: 2.63s\tremaining: 1.13s\n",
      "175:\tlearn: 0.5525940\ttotal: 2.65s\tremaining: 1.11s\n",
      "176:\tlearn: 0.5525918\ttotal: 2.66s\tremaining: 1.1s\n",
      "177:\tlearn: 0.5525870\ttotal: 2.67s\tremaining: 1.08s\n",
      "178:\tlearn: 0.5525291\ttotal: 2.69s\tremaining: 1.07s\n",
      "179:\tlearn: 0.5524608\ttotal: 2.7s\tremaining: 1.05s\n",
      "180:\tlearn: 0.5523967\ttotal: 2.72s\tremaining: 1.04s\n",
      "181:\tlearn: 0.5523551\ttotal: 2.73s\tremaining: 1.02s\n",
      "182:\tlearn: 0.5522473\ttotal: 2.75s\tremaining: 1.01s\n",
      "183:\tlearn: 0.5521994\ttotal: 2.77s\tremaining: 993ms\n",
      "184:\tlearn: 0.5521067\ttotal: 2.78s\tremaining: 978ms\n",
      "185:\tlearn: 0.5520736\ttotal: 2.8s\tremaining: 962ms\n",
      "186:\tlearn: 0.5520273\ttotal: 2.81s\tremaining: 947ms\n",
      "187:\tlearn: 0.5520034\ttotal: 2.82s\tremaining: 931ms\n",
      "188:\tlearn: 0.5519370\ttotal: 2.84s\tremaining: 916ms\n",
      "189:\tlearn: 0.5519038\ttotal: 2.85s\tremaining: 900ms\n",
      "190:\tlearn: 0.5518700\ttotal: 2.86s\tremaining: 885ms\n",
      "191:\tlearn: 0.5518216\ttotal: 2.88s\tremaining: 869ms\n",
      "192:\tlearn: 0.5517661\ttotal: 2.89s\tremaining: 854ms\n",
      "193:\tlearn: 0.5517113\ttotal: 2.9s\tremaining: 838ms\n",
      "194:\tlearn: 0.5516636\ttotal: 2.92s\tremaining: 823ms\n",
      "195:\tlearn: 0.5515842\ttotal: 2.93s\tremaining: 808ms\n",
      "196:\tlearn: 0.5515673\ttotal: 2.95s\tremaining: 793ms\n",
      "197:\tlearn: 0.5514655\ttotal: 2.97s\tremaining: 779ms\n",
      "198:\tlearn: 0.5514323\ttotal: 2.98s\tremaining: 764ms\n",
      "199:\tlearn: 0.5514320\ttotal: 2.99s\tremaining: 748ms\n",
      "200:\tlearn: 0.5514089\ttotal: 3.01s\tremaining: 733ms\n",
      "201:\tlearn: 0.5513774\ttotal: 3.02s\tremaining: 718ms\n",
      "202:\tlearn: 0.5513345\ttotal: 3.04s\tremaining: 703ms\n",
      "203:\tlearn: 0.5512931\ttotal: 3.05s\tremaining: 688ms\n",
      "204:\tlearn: 0.5512526\ttotal: 3.07s\tremaining: 673ms\n",
      "205:\tlearn: 0.5512526\ttotal: 3.08s\tremaining: 657ms\n",
      "206:\tlearn: 0.5512352\ttotal: 3.09s\tremaining: 642ms\n",
      "207:\tlearn: 0.5512248\ttotal: 3.1s\tremaining: 626ms\n",
      "208:\tlearn: 0.5511805\ttotal: 3.12s\tremaining: 611ms\n",
      "209:\tlearn: 0.5511202\ttotal: 3.13s\tremaining: 596ms\n",
      "210:\tlearn: 0.5510945\ttotal: 3.14s\tremaining: 581ms\n",
      "211:\tlearn: 0.5510529\ttotal: 3.16s\tremaining: 567ms\n",
      "212:\tlearn: 0.5510303\ttotal: 3.18s\tremaining: 552ms\n",
      "213:\tlearn: 0.5509452\ttotal: 3.19s\tremaining: 537ms\n",
      "214:\tlearn: 0.5509415\ttotal: 3.2s\tremaining: 522ms\n",
      "215:\tlearn: 0.5508477\ttotal: 3.22s\tremaining: 507ms\n",
      "216:\tlearn: 0.5507810\ttotal: 3.23s\tremaining: 491ms\n",
      "217:\tlearn: 0.5506847\ttotal: 3.25s\tremaining: 477ms\n",
      "218:\tlearn: 0.5506584\ttotal: 3.26s\tremaining: 462ms\n",
      "219:\tlearn: 0.5506063\ttotal: 3.28s\tremaining: 447ms\n",
      "220:\tlearn: 0.5505996\ttotal: 3.29s\tremaining: 432ms\n",
      "221:\tlearn: 0.5505996\ttotal: 3.3s\tremaining: 416ms\n",
      "222:\tlearn: 0.5505402\ttotal: 3.31s\tremaining: 401ms\n",
      "223:\tlearn: 0.5505118\ttotal: 3.33s\tremaining: 386ms\n",
      "224:\tlearn: 0.5504752\ttotal: 3.34s\tremaining: 371ms\n",
      "225:\tlearn: 0.5504724\ttotal: 3.35s\tremaining: 356ms\n",
      "226:\tlearn: 0.5504135\ttotal: 3.37s\tremaining: 342ms\n",
      "227:\tlearn: 0.5503366\ttotal: 3.39s\tremaining: 327ms\n",
      "228:\tlearn: 0.5502786\ttotal: 3.4s\tremaining: 312ms\n",
      "229:\tlearn: 0.5502529\ttotal: 3.42s\tremaining: 297ms\n",
      "230:\tlearn: 0.5502259\ttotal: 3.43s\tremaining: 282ms\n",
      "231:\tlearn: 0.5501768\ttotal: 3.44s\tremaining: 267ms\n",
      "232:\tlearn: 0.5501600\ttotal: 3.46s\tremaining: 252ms\n",
      "233:\tlearn: 0.5501408\ttotal: 3.47s\tremaining: 237ms\n",
      "234:\tlearn: 0.5500926\ttotal: 3.48s\tremaining: 222ms\n",
      "235:\tlearn: 0.5500225\ttotal: 3.5s\tremaining: 207ms\n",
      "236:\tlearn: 0.5499922\ttotal: 3.51s\tremaining: 193ms\n",
      "237:\tlearn: 0.5499922\ttotal: 3.52s\tremaining: 178ms\n",
      "238:\tlearn: 0.5499592\ttotal: 3.54s\tremaining: 163ms\n",
      "239:\tlearn: 0.5498972\ttotal: 3.55s\tremaining: 148ms\n",
      "240:\tlearn: 0.5498155\ttotal: 3.56s\tremaining: 133ms\n",
      "241:\tlearn: 0.5497789\ttotal: 3.58s\tremaining: 118ms\n",
      "242:\tlearn: 0.5497714\ttotal: 3.59s\tremaining: 104ms\n",
      "243:\tlearn: 0.5497466\ttotal: 3.61s\tremaining: 88.7ms\n",
      "244:\tlearn: 0.5497385\ttotal: 3.62s\tremaining: 73.9ms\n",
      "245:\tlearn: 0.5496944\ttotal: 3.63s\tremaining: 59.1ms\n",
      "246:\tlearn: 0.5496826\ttotal: 3.65s\tremaining: 44.3ms\n",
      "247:\tlearn: 0.5496383\ttotal: 3.66s\tremaining: 29.5ms\n",
      "248:\tlearn: 0.5496211\ttotal: 3.67s\tremaining: 14.8ms\n",
      "249:\tlearn: 0.5495355\ttotal: 3.69s\tremaining: 0us\n"
     ]
    },
    {
     "data": {
      "text/plain": [
       "<matplotlib.axes._subplots.AxesSubplot at 0x7f4f3ced3128>"
      ]
     },
     "execution_count": 111,
     "metadata": {},
     "output_type": "execute_result"
    },
    {
     "data": {
      "image/png": "[encoded data removed]",
      "text/plain": [
       "<Figure size 432x288 with 1 Axes>"
      ]
     },
     "metadata": {},
     "output_type": "display_data"
    }
   ],
   "source": [
    "plot_learning_curve(cboost, X_train, y_train,cv = TimeSeriesSplit(n_splits=2).split(X_train), scoring=\"roc_auc\")"
   ]
  }
 ],
 "metadata": {
  "kernelspec": {
   "display_name": "Python 3",
   "language": "python",
   "name": "python3"
  },
  "language_info": {
   "codemirror_mode": {
    "name": "ipython",
    "version": 3
   },
   "file_extension": ".py",
   "mimetype": "text/x-python",
   "name": "python",
   "nbconvert_exporter": "python",
   "pygments_lexer": "ipython3",
   "version": "3.6.2"
  }
 },
 "nbformat": 4,
 "nbformat_minor": 2
}
